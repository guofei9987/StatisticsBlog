{
 "cells": [
  {
   "cell_type": "markdown",
   "metadata": {
    "nbpresent": {
     "id": "cbd0dcd0-7ef8-4d84-8cb3-f77a868c2f62"
    }
   },
   "source": [
    "# 统计推断基础\n",
    "数据源：http://archive.ics.uci.edu/ml/datasets/Servo"
   ]
  },
  {
   "cell_type": "code",
   "execution_count": 1,
   "metadata": {
    "collapsed": true,
    "scrolled": true
   },
   "outputs": [],
   "source": [
    "# import pandas as pd\n",
    "# import sklearn.datasets as datasets\n",
    "# dataset=datasets.load_iris()\n",
    "# df_feature=pd.DataFrame(data=dataset.data,columns=['sepal_length','sepal_width','petal_length','petal width'])\n",
    "# df_target=pd.DataFrame(data=dataset.target,columns=['target'])\n",
    "# df=pd.concat([df_feature,df_target],axis=1)"
   ]
  },
  {
   "cell_type": "code",
   "execution_count": 2,
   "metadata": {
    "collapsed": true,
    "scrolled": true
   },
   "outputs": [],
   "source": [
    "import pandas as pd\n",
    "import sklearn.datasets as datasets\n",
    "df=pd.read_csv('http://archive.ics.uci.edu/ml/machine-learning-databases/servo/servo.data',\n",
    "               header=None,names=['motor','screw','pgain','vgain','target'])"
   ]
  },
  {
   "cell_type": "code",
   "execution_count": 3,
   "metadata": {
    "scrolled": true
   },
   "outputs": [
    {
     "data": {
      "text/html": [
       "<div>\n",
       "<style>\n",
       "    .dataframe thead tr:only-child th {\n",
       "        text-align: right;\n",
       "    }\n",
       "\n",
       "    .dataframe thead th {\n",
       "        text-align: left;\n",
       "    }\n",
       "\n",
       "    .dataframe tbody tr th {\n",
       "        vertical-align: top;\n",
       "    }\n",
       "</style>\n",
       "<table border=\"1\" class=\"dataframe\">\n",
       "  <thead>\n",
       "    <tr style=\"text-align: right;\">\n",
       "      <th></th>\n",
       "      <th>motor</th>\n",
       "      <th>screw</th>\n",
       "      <th>pgain</th>\n",
       "      <th>vgain</th>\n",
       "      <th>target</th>\n",
       "    </tr>\n",
       "  </thead>\n",
       "  <tbody>\n",
       "    <tr>\n",
       "      <th>0</th>\n",
       "      <td>E</td>\n",
       "      <td>E</td>\n",
       "      <td>5</td>\n",
       "      <td>4</td>\n",
       "      <td>0.281251</td>\n",
       "    </tr>\n",
       "    <tr>\n",
       "      <th>1</th>\n",
       "      <td>B</td>\n",
       "      <td>D</td>\n",
       "      <td>6</td>\n",
       "      <td>5</td>\n",
       "      <td>0.506252</td>\n",
       "    </tr>\n",
       "    <tr>\n",
       "      <th>2</th>\n",
       "      <td>D</td>\n",
       "      <td>D</td>\n",
       "      <td>4</td>\n",
       "      <td>3</td>\n",
       "      <td>0.356251</td>\n",
       "    </tr>\n",
       "    <tr>\n",
       "      <th>3</th>\n",
       "      <td>B</td>\n",
       "      <td>A</td>\n",
       "      <td>3</td>\n",
       "      <td>2</td>\n",
       "      <td>5.500033</td>\n",
       "    </tr>\n",
       "    <tr>\n",
       "      <th>4</th>\n",
       "      <td>D</td>\n",
       "      <td>B</td>\n",
       "      <td>6</td>\n",
       "      <td>5</td>\n",
       "      <td>0.356251</td>\n",
       "    </tr>\n",
       "  </tbody>\n",
       "</table>\n",
       "</div>"
      ],
      "text/plain": [
       "  motor screw  pgain  vgain    target\n",
       "0     E     E      5      4  0.281251\n",
       "1     B     D      6      5  0.506252\n",
       "2     D     D      4      3  0.356251\n",
       "3     B     A      3      2  5.500033\n",
       "4     D     B      6      5  0.356251"
      ]
     },
     "execution_count": 3,
     "metadata": {},
     "output_type": "execute_result"
    }
   ],
   "source": [
    "df.head()"
   ]
  },
  {
   "cell_type": "markdown",
   "metadata": {
    "collapsed": true,
    "nbpresent": {
     "id": "ae39c958-5193-4ea6-a74f-e23b5a31ef2d"
    }
   },
   "source": [
    "## 描述性统计分析"
   ]
  },
  {
   "cell_type": "code",
   "execution_count": 4,
   "metadata": {
    "scrolled": true
   },
   "outputs": [
    {
     "data": {
      "text/html": [
       "<div>\n",
       "<style>\n",
       "    .dataframe thead tr:only-child th {\n",
       "        text-align: right;\n",
       "    }\n",
       "\n",
       "    .dataframe thead th {\n",
       "        text-align: left;\n",
       "    }\n",
       "\n",
       "    .dataframe tbody tr th {\n",
       "        vertical-align: top;\n",
       "    }\n",
       "</style>\n",
       "<table border=\"1\" class=\"dataframe\">\n",
       "  <thead>\n",
       "    <tr style=\"text-align: right;\">\n",
       "      <th></th>\n",
       "      <th>motor</th>\n",
       "      <th>screw</th>\n",
       "      <th>pgain</th>\n",
       "      <th>vgain</th>\n",
       "      <th>target</th>\n",
       "    </tr>\n",
       "  </thead>\n",
       "  <tbody>\n",
       "    <tr>\n",
       "      <th>count</th>\n",
       "      <td>167</td>\n",
       "      <td>167</td>\n",
       "      <td>167.000000</td>\n",
       "      <td>167.000000</td>\n",
       "      <td>167.000000</td>\n",
       "    </tr>\n",
       "    <tr>\n",
       "      <th>unique</th>\n",
       "      <td>5</td>\n",
       "      <td>5</td>\n",
       "      <td>NaN</td>\n",
       "      <td>NaN</td>\n",
       "      <td>NaN</td>\n",
       "    </tr>\n",
       "    <tr>\n",
       "      <th>top</th>\n",
       "      <td>C</td>\n",
       "      <td>A</td>\n",
       "      <td>NaN</td>\n",
       "      <td>NaN</td>\n",
       "      <td>NaN</td>\n",
       "    </tr>\n",
       "    <tr>\n",
       "      <th>freq</th>\n",
       "      <td>40</td>\n",
       "      <td>42</td>\n",
       "      <td>NaN</td>\n",
       "      <td>NaN</td>\n",
       "      <td>NaN</td>\n",
       "    </tr>\n",
       "    <tr>\n",
       "      <th>mean</th>\n",
       "      <td>NaN</td>\n",
       "      <td>NaN</td>\n",
       "      <td>4.155689</td>\n",
       "      <td>2.538922</td>\n",
       "      <td>1.389708</td>\n",
       "    </tr>\n",
       "    <tr>\n",
       "      <th>std</th>\n",
       "      <td>NaN</td>\n",
       "      <td>NaN</td>\n",
       "      <td>1.017770</td>\n",
       "      <td>1.369850</td>\n",
       "      <td>1.559635</td>\n",
       "    </tr>\n",
       "    <tr>\n",
       "      <th>min</th>\n",
       "      <td>NaN</td>\n",
       "      <td>NaN</td>\n",
       "      <td>3.000000</td>\n",
       "      <td>1.000000</td>\n",
       "      <td>0.131250</td>\n",
       "    </tr>\n",
       "    <tr>\n",
       "      <th>25%</th>\n",
       "      <td>NaN</td>\n",
       "      <td>NaN</td>\n",
       "      <td>3.000000</td>\n",
       "      <td>1.000000</td>\n",
       "      <td>0.503126</td>\n",
       "    </tr>\n",
       "    <tr>\n",
       "      <th>50%</th>\n",
       "      <td>NaN</td>\n",
       "      <td>NaN</td>\n",
       "      <td>4.000000</td>\n",
       "      <td>2.000000</td>\n",
       "      <td>0.731254</td>\n",
       "    </tr>\n",
       "    <tr>\n",
       "      <th>75%</th>\n",
       "      <td>NaN</td>\n",
       "      <td>NaN</td>\n",
       "      <td>5.000000</td>\n",
       "      <td>4.000000</td>\n",
       "      <td>1.259369</td>\n",
       "    </tr>\n",
       "    <tr>\n",
       "      <th>max</th>\n",
       "      <td>NaN</td>\n",
       "      <td>NaN</td>\n",
       "      <td>6.000000</td>\n",
       "      <td>5.000000</td>\n",
       "      <td>7.100108</td>\n",
       "    </tr>\n",
       "  </tbody>\n",
       "</table>\n",
       "</div>"
      ],
      "text/plain": [
       "       motor screw       pgain       vgain      target\n",
       "count    167   167  167.000000  167.000000  167.000000\n",
       "unique     5     5         NaN         NaN         NaN\n",
       "top        C     A         NaN         NaN         NaN\n",
       "freq      40    42         NaN         NaN         NaN\n",
       "mean     NaN   NaN    4.155689    2.538922    1.389708\n",
       "std      NaN   NaN    1.017770    1.369850    1.559635\n",
       "min      NaN   NaN    3.000000    1.000000    0.131250\n",
       "25%      NaN   NaN    3.000000    1.000000    0.503126\n",
       "50%      NaN   NaN    4.000000    2.000000    0.731254\n",
       "75%      NaN   NaN    5.000000    4.000000    1.259369\n",
       "max      NaN   NaN    6.000000    5.000000    7.100108"
      ]
     },
     "execution_count": 4,
     "metadata": {},
     "output_type": "execute_result"
    }
   ],
   "source": [
    "df.describe(include='all')"
   ]
  },
  {
   "cell_type": "markdown",
   "metadata": {
    "nbpresent": {
     "id": "f2888d83-e51d-44f5-8eb3-b13a2a177e31"
    }
   },
   "source": [
    "Histograph"
   ]
  },
  {
   "cell_type": "code",
   "execution_count": 5,
   "metadata": {
    "nbpresent": {
     "id": "70351d60-04bb-41a1-9462-82c9561464d0"
    }
   },
   "outputs": [
    {
     "data": {
      "text/plain": [
       "<matplotlib.axes._subplots.AxesSubplot at 0x291e426e710>"
      ]
     },
     "execution_count": 5,
     "metadata": {},
     "output_type": "execute_result"
    },
    {
     "data": {
      "image/png": "[encoded data removed]",
      "text/plain": [
       "<matplotlib.figure.Figure at 0x291e28c4160>"
      ]
     },
     "metadata": {},
     "output_type": "display_data"
    }
   ],
   "source": [
    "%matplotlib inline\n",
    "import seaborn as sns\n",
    "from scipy import stats\n",
    "\n",
    "sns.distplot(df.loc[:,'target'], kde=True, fit=stats.norm) # Histograph"
   ]
  },
  {
   "cell_type": "markdown",
   "metadata": {
    "nbpresent": {
     "id": "a725326c-cab2-4283-994d-baae9ea8f6ab"
    }
   },
   "source": [
    "Q-Q"
   ]
  },
  {
   "cell_type": "code",
   "execution_count": 6,
   "metadata": {},
   "outputs": [
    {
     "name": "stderr",
     "output_type": "stream",
     "text": [
      "C:\\Users\\guofei\\Anaconda3\\lib\\site-packages\\statsmodels\\compat\\pandas.py:56: FutureWarning: The pandas.core.datetools module is deprecated and will be removed in a future version. Please use the pandas.tseries module instead.\n",
      "  from pandas.core import datetools\n"
     ]
    },
    {
     "data": {
      "image/png": "[encoded data removed]",
      "text/plain": [
       "<matplotlib.figure.Figure at 0x291e4eb9ef0>"
      ]
     },
     "metadata": {},
     "output_type": "display_data"
    }
   ],
   "source": [
    "import statsmodels.api as sm\n",
    "from matplotlib import pyplot as plt\n",
    "\n",
    "fig = sm.qqplot(df.loc[:,'target'], fit=True, line='45')"
   ]
  },
  {
   "cell_type": "markdown",
   "metadata": {
    "nbpresent": {
     "id": "c0e1ee79-bfa5-40f8-ba6e-a92272e1c767"
    }
   },
   "source": [
    "Box Plots"
   ]
  },
  {
   "cell_type": "code",
   "execution_count": 7,
   "metadata": {
    "nbpresent": {
     "id": "d6508f0e-ef08-41df-97c6-80329ffd7fb6"
    },
    "scrolled": true
   },
   "outputs": [
    {
     "data": {
      "text/plain": [
       "<matplotlib.axes._subplots.AxesSubplot at 0x291e4f73588>"
      ]
     },
     "execution_count": 7,
     "metadata": {},
     "output_type": "execute_result"
    },
    {
     "data": {
      "image/png": "[encoded data removed]",
      "text/plain": [
       "<matplotlib.figure.Figure at 0x291e4f68e48>"
      ]
     },
     "metadata": {},
     "output_type": "display_data"
    }
   ],
   "source": [
    "df.plot(kind='box') # Box Plots"
   ]
  },
  {
   "cell_type": "markdown",
   "metadata": {
    "nbpresent": {
     "id": "364d4b28-68d2-47c3-b8cd-1185138a4cf6"
    }
   },
   "source": [
    "置信度区间估计"
   ]
  },
  {
   "cell_type": "code",
   "execution_count": 8,
   "metadata": {
    "nbpresent": {
     "id": "e9082e53-f5ce-41a4-b6a0-b0510bf82874"
    }
   },
   "outputs": [
    {
     "data": {
      "text/plain": [
       "(1.1514267174653656, 1.6279900583430176)"
      ]
     },
     "execution_count": 8,
     "metadata": {},
     "output_type": "execute_result"
    }
   ],
   "source": [
    "# 或者使用DescrStatsW\n",
    "d1 = sm.stats.DescrStatsW(df.loc[:,'target'])\n",
    "d1.tconfint_mean(0.05) # alpha=0.05"
   ]
  },
  {
   "cell_type": "markdown",
   "metadata": {},
   "source": [
    "# 对均值检验\n",
    "http://www.statsmodels.org/stable/generated/statsmodels.stats.weightstats.CompareMeans.html"
   ]
  },
  {
   "cell_type": "markdown",
   "metadata": {
    "nbpresent": {
     "id": "fb48f5ce-8b12-4561-b21f-ab24f167b2a1"
    }
   },
   "source": [
    "## 单样本T检验\n"
   ]
  },
  {
   "cell_type": "code",
   "execution_count": 9,
   "metadata": {
    "nbpresent": {
     "id": "1e367f1d-fcd6-4dc6-9699-1dd5e9cba320"
    },
    "scrolled": true
   },
   "outputs": [
    {
     "data": {
      "text/plain": [
       "'t-statistic=1.9862, p-value=0.0487, df=166.0'"
      ]
     },
     "execution_count": 9,
     "metadata": {},
     "output_type": "execute_result"
    }
   ],
   "source": [
    "'t-statistic=%6.4f, p-value=%6.4f, df=%s' %d1.ttest_mean(1.15)"
   ]
  },
  {
   "cell_type": "markdown",
   "metadata": {},
   "source": [
    "p-value>0.05,说明不能拒绝原假设，认为均值确实是1.15"
   ]
  },
  {
   "cell_type": "markdown",
   "metadata": {
    "collapsed": true,
    "nbpresent": {
     "id": "9e606667-38b7-45f2-9e17-ad8aa95abcd6"
    }
   },
   "source": [
    "## 两样本T检验\n",
    "先做个描述性统计"
   ]
  },
  {
   "cell_type": "code",
   "execution_count": 10,
   "metadata": {
    "scrolled": true
   },
   "outputs": [
    {
     "data": {
      "text/html": [
       "<div>\n",
       "<style>\n",
       "    .dataframe thead tr:only-child th {\n",
       "        text-align: right;\n",
       "    }\n",
       "\n",
       "    .dataframe thead th {\n",
       "        text-align: left;\n",
       "    }\n",
       "\n",
       "    .dataframe tbody tr th {\n",
       "        vertical-align: top;\n",
       "    }\n",
       "</style>\n",
       "<table border=\"1\" class=\"dataframe\">\n",
       "  <thead>\n",
       "    <tr style=\"text-align: right;\">\n",
       "      <th></th>\n",
       "      <th>count</th>\n",
       "      <th>mean</th>\n",
       "      <th>std</th>\n",
       "      <th>min</th>\n",
       "      <th>25%</th>\n",
       "      <th>50%</th>\n",
       "      <th>75%</th>\n",
       "      <th>max</th>\n",
       "    </tr>\n",
       "    <tr>\n",
       "      <th>motor</th>\n",
       "      <th></th>\n",
       "      <th></th>\n",
       "      <th></th>\n",
       "      <th></th>\n",
       "      <th></th>\n",
       "      <th></th>\n",
       "      <th></th>\n",
       "      <th></th>\n",
       "    </tr>\n",
       "  </thead>\n",
       "  <tbody>\n",
       "    <tr>\n",
       "      <th>A</th>\n",
       "      <td>36.0</td>\n",
       "      <td>1.761111</td>\n",
       "      <td>1.822645</td>\n",
       "      <td>0.243751</td>\n",
       "      <td>0.506252</td>\n",
       "      <td>0.806255</td>\n",
       "      <td>3.899964</td>\n",
       "      <td>5.700042</td>\n",
       "    </tr>\n",
       "    <tr>\n",
       "      <th>B</th>\n",
       "      <td>36.0</td>\n",
       "      <td>1.681942</td>\n",
       "      <td>1.760003</td>\n",
       "      <td>0.206250</td>\n",
       "      <td>0.496877</td>\n",
       "      <td>0.806255</td>\n",
       "      <td>3.749966</td>\n",
       "      <td>5.500033</td>\n",
       "    </tr>\n",
       "    <tr>\n",
       "      <th>C</th>\n",
       "      <td>40.0</td>\n",
       "      <td>1.254061</td>\n",
       "      <td>1.387926</td>\n",
       "      <td>0.206250</td>\n",
       "      <td>0.506252</td>\n",
       "      <td>0.543753</td>\n",
       "      <td>1.126563</td>\n",
       "      <td>5.100014</td>\n",
       "    </tr>\n",
       "    <tr>\n",
       "      <th>D</th>\n",
       "      <td>22.0</td>\n",
       "      <td>0.917613</td>\n",
       "      <td>0.675960</td>\n",
       "      <td>0.281251</td>\n",
       "      <td>0.431252</td>\n",
       "      <td>0.696877</td>\n",
       "      <td>1.232811</td>\n",
       "      <td>2.699979</td>\n",
       "    </tr>\n",
       "    <tr>\n",
       "      <th>E</th>\n",
       "      <td>33.0</td>\n",
       "      <td>1.144893</td>\n",
       "      <td>1.568450</td>\n",
       "      <td>0.131250</td>\n",
       "      <td>0.431252</td>\n",
       "      <td>0.806255</td>\n",
       "      <td>1.100000</td>\n",
       "      <td>7.100108</td>\n",
       "    </tr>\n",
       "  </tbody>\n",
       "</table>\n",
       "</div>"
      ],
      "text/plain": [
       "       count      mean       std       min       25%       50%       75%  \\\n",
       "motor                                                                      \n",
       "A       36.0  1.761111  1.822645  0.243751  0.506252  0.806255  3.899964   \n",
       "B       36.0  1.681942  1.760003  0.206250  0.496877  0.806255  3.749966   \n",
       "C       40.0  1.254061  1.387926  0.206250  0.506252  0.543753  1.126563   \n",
       "D       22.0  0.917613  0.675960  0.281251  0.431252  0.696877  1.232811   \n",
       "E       33.0  1.144893  1.568450  0.131250  0.431252  0.806255  1.100000   \n",
       "\n",
       "            max  \n",
       "motor            \n",
       "A      5.700042  \n",
       "B      5.500033  \n",
       "C      5.100014  \n",
       "D      2.699979  \n",
       "E      7.100108  "
      ]
     },
     "execution_count": 10,
     "metadata": {},
     "output_type": "execute_result"
    }
   ],
   "source": [
    "df.groupby('motor')['target'].describe()"
   ]
  },
  {
   "cell_type": "markdown",
   "metadata": {},
   "source": [
    "挑选前两类做T检验"
   ]
  },
  {
   "cell_type": "markdown",
   "metadata": {
    "nbpresent": {
     "id": "d182858e-aa95-4294-bec1-0c0f17ba2b71"
    }
   },
   "source": [
    "- 第一步:方差齐次检验"
   ]
  },
  {
   "cell_type": "code",
   "execution_count": 11,
   "metadata": {},
   "outputs": [
    {
     "name": "stdout",
     "output_type": "stream",
     "text": [
      "w-value=0.0099, p-value=0.9210\n"
     ]
    }
   ],
   "source": [
    "(_,df1),(_,df2),(_,df3),(_,_),(_,_)=df.groupby('motor')['target']\n",
    "leveneTestRes = stats.levene(df1, df2, center='median')\n",
    "print('w-value=%6.4f, p-value=%6.4f' %leveneTestRes)"
   ]
  },
  {
   "cell_type": "markdown",
   "metadata": {},
   "source": [
    "p-value < 0.05，说明拒绝原假设，认为方差不齐  \n",
    "p-value > 0.05，说明无法拒绝原假设，认为方差齐性"
   ]
  },
  {
   "cell_type": "markdown",
   "metadata": {
    "nbpresent": {
     "id": "448f1e4c-e7e7-4833-b537-be33c8bc87f8"
    }
   },
   "source": [
    "- 第二步:T-test"
   ]
  },
  {
   "cell_type": "code",
   "execution_count": 12,
   "metadata": {
    "nbpresent": {
     "id": "8057dd64-eff0-4d5e-938b-75d20d34fe0e"
    }
   },
   "outputs": [
    {
     "data": {
      "text/plain": [
       "'statistic=0.1875, pvalue=0.8518, df=69.9146'"
      ]
     },
     "execution_count": 12,
     "metadata": {},
     "output_type": "execute_result"
    }
   ],
   "source": [
    "# stats.stats.ttest_ind(df1, df2, equal_var=True)#scipy.stats\n",
    "'statistic=%6.4f, pvalue=%6.4f, df=%6.4f'%sm.stats.ttest_ind(df1, df2, usevar='unequal')#usevar='pooled'or'unequal'"
   ]
  },
  {
   "cell_type": "markdown",
   "metadata": {},
   "source": [
    "pvalue < 0.05 说明拒绝原假设，认为均值不相等\n",
    "pvalue > 0.05 说明无法拒绝原假设，认为均值相等\n",
    "http://www.statsmodels.org/stable/generated/statsmodels.stats.weightstats.CompareMeans.ttest_ind.html"
   ]
  },
  {
   "cell_type": "markdown",
   "metadata": {
    "nbpresent": {
     "id": "25582a54-b189-4bf8-bfa6-7438bd772c62"
    }
   },
   "source": [
    "## 方差分析\n",
    "- 单因素方差分析"
   ]
  },
  {
   "cell_type": "code",
   "execution_count": 13,
   "metadata": {
    "nbpresent": {
     "id": "77903148-e2fe-4aa0-b5f7-5ee7f3bc99d8"
    }
   },
   "outputs": [
    {
     "data": {
      "text/plain": [
       "F_onewayResult(statistic=1.6337825426325907, pvalue=0.16822138464697428)"
      ]
     },
     "execution_count": 13,
     "metadata": {},
     "output_type": "execute_result"
    }
   ],
   "source": [
    "sepal_length_list = []\n",
    "for i in df['motor'].unique():\n",
    "    sepal_length_list.append(df[df['motor'] == i]['target'])\n",
    "stats.f_oneway(*sepal_length_list)"
   ]
  },
  {
   "cell_type": "code",
   "execution_count": 14,
   "metadata": {
    "scrolled": true
   },
   "outputs": [
    {
     "name": "stderr",
     "output_type": "stream",
     "text": [
      "C:\\Users\\guofei\\Anaconda3\\lib\\site-packages\\scipy\\stats\\_distn_infrastructure.py:879: RuntimeWarning: invalid value encountered in greater\n",
      "  return (self.a < x) & (x < self.b)\n",
      "C:\\Users\\guofei\\Anaconda3\\lib\\site-packages\\scipy\\stats\\_distn_infrastructure.py:879: RuntimeWarning: invalid value encountered in less\n",
      "  return (self.a < x) & (x < self.b)\n",
      "C:\\Users\\guofei\\Anaconda3\\lib\\site-packages\\scipy\\stats\\_distn_infrastructure.py:1818: RuntimeWarning: invalid value encountered in less_equal\n",
      "  cond2 = cond0 & (x <= self.a)\n"
     ]
    },
    {
     "data": {
      "text/html": [
       "<div>\n",
       "<style>\n",
       "    .dataframe thead tr:only-child th {\n",
       "        text-align: right;\n",
       "    }\n",
       "\n",
       "    .dataframe thead th {\n",
       "        text-align: left;\n",
       "    }\n",
       "\n",
       "    .dataframe tbody tr th {\n",
       "        vertical-align: top;\n",
       "    }\n",
       "</style>\n",
       "<table border=\"1\" class=\"dataframe\">\n",
       "  <thead>\n",
       "    <tr style=\"text-align: right;\">\n",
       "      <th></th>\n",
       "      <th>df</th>\n",
       "      <th>sum_sq</th>\n",
       "      <th>mean_sq</th>\n",
       "      <th>F</th>\n",
       "      <th>PR(&gt;F)</th>\n",
       "    </tr>\n",
       "  </thead>\n",
       "  <tbody>\n",
       "    <tr>\n",
       "      <th>C(motor)</th>\n",
       "      <td>4.0</td>\n",
       "      <td>15.657338</td>\n",
       "      <td>3.914335</td>\n",
       "      <td>1.633783</td>\n",
       "      <td>0.168221</td>\n",
       "    </tr>\n",
       "    <tr>\n",
       "      <th>Residual</th>\n",
       "      <td>162.0</td>\n",
       "      <td>388.131331</td>\n",
       "      <td>2.395872</td>\n",
       "      <td>NaN</td>\n",
       "      <td>NaN</td>\n",
       "    </tr>\n",
       "  </tbody>\n",
       "</table>\n",
       "</div>"
      ],
      "text/plain": [
       "             df      sum_sq   mean_sq         F    PR(>F)\n",
       "C(motor)    4.0   15.657338  3.914335  1.633783  0.168221\n",
       "Residual  162.0  388.131331  2.395872       NaN       NaN"
      ]
     },
     "execution_count": 14,
     "metadata": {},
     "output_type": "execute_result"
    }
   ],
   "source": [
    "# 利用回归模型中的方差分析\n",
    "from statsmodels.formula.api import ols\n",
    "sm.stats.anova_lm(ols('target ~ C(motor)',data=df).fit())"
   ]
  },
  {
   "cell_type": "markdown",
   "metadata": {
    "collapsed": true,
    "nbpresent": {
     "id": "9bf1dfa6-08dc-4354-b33e-518c0633b4fe"
    }
   },
   "source": [
    "- 多因素方差分析"
   ]
  },
  {
   "cell_type": "code",
   "execution_count": 15,
   "metadata": {
    "nbpresent": {
     "id": "ef9ff114-a8f1-43c3-a19c-4711ebf007dd"
    }
   },
   "outputs": [
    {
     "name": "stderr",
     "output_type": "stream",
     "text": [
      "C:\\Users\\guofei\\Anaconda3\\lib\\site-packages\\scipy\\stats\\_distn_infrastructure.py:879: RuntimeWarning: invalid value encountered in greater\n",
      "  return (self.a < x) & (x < self.b)\n",
      "C:\\Users\\guofei\\Anaconda3\\lib\\site-packages\\scipy\\stats\\_distn_infrastructure.py:879: RuntimeWarning: invalid value encountered in less\n",
      "  return (self.a < x) & (x < self.b)\n",
      "C:\\Users\\guofei\\Anaconda3\\lib\\site-packages\\scipy\\stats\\_distn_infrastructure.py:1818: RuntimeWarning: invalid value encountered in less_equal\n",
      "  cond2 = cond0 & (x <= self.a)\n"
     ]
    },
    {
     "data": {
      "text/html": [
       "<div>\n",
       "<style>\n",
       "    .dataframe thead tr:only-child th {\n",
       "        text-align: right;\n",
       "    }\n",
       "\n",
       "    .dataframe thead th {\n",
       "        text-align: left;\n",
       "    }\n",
       "\n",
       "    .dataframe tbody tr th {\n",
       "        vertical-align: top;\n",
       "    }\n",
       "</style>\n",
       "<table border=\"1\" class=\"dataframe\">\n",
       "  <thead>\n",
       "    <tr style=\"text-align: right;\">\n",
       "      <th></th>\n",
       "      <th>df</th>\n",
       "      <th>sum_sq</th>\n",
       "      <th>mean_sq</th>\n",
       "      <th>F</th>\n",
       "      <th>PR(&gt;F)</th>\n",
       "    </tr>\n",
       "  </thead>\n",
       "  <tbody>\n",
       "    <tr>\n",
       "      <th>C(motor)</th>\n",
       "      <td>4.0</td>\n",
       "      <td>15.657338</td>\n",
       "      <td>3.914335</td>\n",
       "      <td>1.641291</td>\n",
       "      <td>0.166507</td>\n",
       "    </tr>\n",
       "    <tr>\n",
       "      <th>C(screw)</th>\n",
       "      <td>4.0</td>\n",
       "      <td>11.315272</td>\n",
       "      <td>2.828818</td>\n",
       "      <td>1.186131</td>\n",
       "      <td>0.319027</td>\n",
       "    </tr>\n",
       "    <tr>\n",
       "      <th>Residual</th>\n",
       "      <td>158.0</td>\n",
       "      <td>376.816059</td>\n",
       "      <td>2.384912</td>\n",
       "      <td>NaN</td>\n",
       "      <td>NaN</td>\n",
       "    </tr>\n",
       "  </tbody>\n",
       "</table>\n",
       "</div>"
      ],
      "text/plain": [
       "             df      sum_sq   mean_sq         F    PR(>F)\n",
       "C(motor)    4.0   15.657338  3.914335  1.641291  0.166507\n",
       "C(screw)    4.0   11.315272  2.828818  1.186131  0.319027\n",
       "Residual  158.0  376.816059  2.384912       NaN       NaN"
      ]
     },
     "execution_count": 15,
     "metadata": {},
     "output_type": "execute_result"
    }
   ],
   "source": [
    "sm.stats.anova_lm(ols('target ~ C(motor) + C(screw)',data=df).fit())"
   ]
  },
  {
   "cell_type": "code",
   "execution_count": 16,
   "metadata": {
    "nbpresent": {
     "id": "366b5a97-bb75-4869-aeea-4db1f904ea9f"
    },
    "scrolled": false
   },
   "outputs": [
    {
     "name": "stderr",
     "output_type": "stream",
     "text": [
      "C:\\Users\\guofei\\Anaconda3\\lib\\site-packages\\scipy\\stats\\_distn_infrastructure.py:879: RuntimeWarning: invalid value encountered in greater\n",
      "  return (self.a < x) & (x < self.b)\n",
      "C:\\Users\\guofei\\Anaconda3\\lib\\site-packages\\scipy\\stats\\_distn_infrastructure.py:879: RuntimeWarning: invalid value encountered in less\n",
      "  return (self.a < x) & (x < self.b)\n",
      "C:\\Users\\guofei\\Anaconda3\\lib\\site-packages\\scipy\\stats\\_distn_infrastructure.py:1818: RuntimeWarning: invalid value encountered in less_equal\n",
      "  cond2 = cond0 & (x <= self.a)\n"
     ]
    },
    {
     "data": {
      "text/html": [
       "<div>\n",
       "<style>\n",
       "    .dataframe thead tr:only-child th {\n",
       "        text-align: right;\n",
       "    }\n",
       "\n",
       "    .dataframe thead th {\n",
       "        text-align: left;\n",
       "    }\n",
       "\n",
       "    .dataframe tbody tr th {\n",
       "        vertical-align: top;\n",
       "    }\n",
       "</style>\n",
       "<table border=\"1\" class=\"dataframe\">\n",
       "  <thead>\n",
       "    <tr style=\"text-align: right;\">\n",
       "      <th></th>\n",
       "      <th>df</th>\n",
       "      <th>sum_sq</th>\n",
       "      <th>mean_sq</th>\n",
       "      <th>F</th>\n",
       "      <th>PR(&gt;F)</th>\n",
       "    </tr>\n",
       "  </thead>\n",
       "  <tbody>\n",
       "    <tr>\n",
       "      <th>C(motor)</th>\n",
       "      <td>4.0</td>\n",
       "      <td>15.657338</td>\n",
       "      <td>3.914335</td>\n",
       "      <td>1.528429</td>\n",
       "      <td>0.197095</td>\n",
       "    </tr>\n",
       "    <tr>\n",
       "      <th>C(screw)</th>\n",
       "      <td>4.0</td>\n",
       "      <td>11.315272</td>\n",
       "      <td>2.828818</td>\n",
       "      <td>1.104568</td>\n",
       "      <td>0.356845</td>\n",
       "    </tr>\n",
       "    <tr>\n",
       "      <th>C(motor):C(screw)</th>\n",
       "      <td>16.0</td>\n",
       "      <td>13.151418</td>\n",
       "      <td>0.821964</td>\n",
       "      <td>0.320952</td>\n",
       "      <td>0.994113</td>\n",
       "    </tr>\n",
       "    <tr>\n",
       "      <th>Residual</th>\n",
       "      <td>142.0</td>\n",
       "      <td>363.664641</td>\n",
       "      <td>2.561019</td>\n",
       "      <td>NaN</td>\n",
       "      <td>NaN</td>\n",
       "    </tr>\n",
       "  </tbody>\n",
       "</table>\n",
       "</div>"
      ],
      "text/plain": [
       "                      df      sum_sq   mean_sq         F    PR(>F)\n",
       "C(motor)             4.0   15.657338  3.914335  1.528429  0.197095\n",
       "C(screw)             4.0   11.315272  2.828818  1.104568  0.356845\n",
       "C(motor):C(screw)   16.0   13.151418  0.821964  0.320952  0.994113\n",
       "Residual           142.0  363.664641  2.561019       NaN       NaN"
      ]
     },
     "execution_count": 16,
     "metadata": {},
     "output_type": "execute_result"
    }
   ],
   "source": [
    "ana = ols('target ~ C(motor) + C(screw) +C(motor)*C(screw)', data= df).fit()\n",
    "sm.stats.anova_lm(ana)"
   ]
  },
  {
   "cell_type": "markdown",
   "metadata": {
    "collapsed": true,
    "nbpresent": {
     "id": "9aede7f8-7fb7-40c1-b59f-3acd005eaee8"
    }
   },
   "source": [
    "## 相关分析\n",
    "散点图"
   ]
  },
  {
   "cell_type": "code",
   "execution_count": 17,
   "metadata": {
    "nbpresent": {
     "id": "fc525933-8890-4ecc-94f4-12027391fb88"
    }
   },
   "outputs": [
    {
     "data": {
      "text/plain": [
       "<seaborn.axisgrid.JointGrid at 0x291e59732e8>"
      ]
     },
     "execution_count": 17,
     "metadata": {},
     "output_type": "execute_result"
    },
    {
     "data": {
      "image/png": "[encoded data removed]",
      "text/plain": [
       "<matplotlib.figure.Figure at 0x291e5973588>"
      ]
     },
     "metadata": {},
     "output_type": "display_data"
    }
   ],
   "source": [
    "import seaborn as sns\n",
    "sns.jointplot(x='vgain',y='target', data=df,kind='scatter')"
   ]
  },
  {
   "cell_type": "markdown",
   "metadata": {
    "nbpresent": {
     "id": "c3e18cf4-19ca-420a-a787-170904184876"
    }
   },
   "source": [
    "相关性分析:“spearman”,“pearson” 和 \"kendall\"\n",
    "- pearson用于线性相关关系\n",
    "- spearman秩相关系数，不一定线性，但是单调\n",
    "- kendall序数"
   ]
  },
  {
   "cell_type": "code",
   "execution_count": 18,
   "metadata": {},
   "outputs": [
    {
     "data": {
      "text/html": [
       "<div>\n",
       "<style>\n",
       "    .dataframe thead tr:only-child th {\n",
       "        text-align: right;\n",
       "    }\n",
       "\n",
       "    .dataframe thead th {\n",
       "        text-align: left;\n",
       "    }\n",
       "\n",
       "    .dataframe tbody tr th {\n",
       "        vertical-align: top;\n",
       "    }\n",
       "</style>\n",
       "<table border=\"1\" class=\"dataframe\">\n",
       "  <thead>\n",
       "    <tr style=\"text-align: right;\">\n",
       "      <th></th>\n",
       "      <th>pgain</th>\n",
       "      <th>target</th>\n",
       "    </tr>\n",
       "  </thead>\n",
       "  <tbody>\n",
       "    <tr>\n",
       "      <th>pgain</th>\n",
       "      <td>1.000000</td>\n",
       "      <td>-0.598129</td>\n",
       "    </tr>\n",
       "    <tr>\n",
       "      <th>target</th>\n",
       "      <td>-0.598129</td>\n",
       "      <td>1.000000</td>\n",
       "    </tr>\n",
       "  </tbody>\n",
       "</table>\n",
       "</div>"
      ],
      "text/plain": [
       "           pgain    target\n",
       "pgain   1.000000 -0.598129\n",
       "target -0.598129  1.000000"
      ]
     },
     "execution_count": 18,
     "metadata": {},
     "output_type": "execute_result"
    }
   ],
   "source": [
    "df.loc[:,['pgain', 'target']].corr(method='pearson')\n",
    "# df.loc[:,['pgain', 'target']].corr(method='spearman')\n",
    "# df.loc[:,['pgain', 'target']].corr(method='kendall')"
   ]
  },
  {
   "cell_type": "markdown",
   "metadata": {
    "collapsed": true,
    "nbpresent": {
     "id": "d2c5c506-9b80-4110-9814-69cb13d67194"
    }
   },
   "source": [
    "## 卡方检验"
   ]
  },
  {
   "cell_type": "code",
   "execution_count": 19,
   "metadata": {
    "collapsed": true,
    "scrolled": true
   },
   "outputs": [],
   "source": [
    "cross_table=df.pivot_table(index='motor',columns='screw',values='target',aggfunc='count')\n",
    "cross_table"
   ]
  },
  {
   "cell_type": "code",
   "execution_count": 20,
   "metadata": {},
   "outputs": [
    {
     "name": "stdout",
     "output_type": "stream",
     "text": [
      "chisq = 4.6074\n",
      " p-value = 0.9974\n",
      " dof = 16\n",
      " expected_freq = [[  9.05389222   7.54491018   6.68263473   6.46706587   6.25149701]\n",
      " [  9.05389222   7.54491018   6.68263473   6.46706587   6.25149701]\n",
      " [ 10.05988024   8.38323353   7.4251497    7.18562874   6.94610778]\n",
      " [  5.53293413   4.61077844   4.08383234   3.95209581   3.82035928]\n",
      " [  8.2994012    6.91616766   6.1257485    5.92814371   5.73053892]]\n"
     ]
    }
   ],
   "source": [
    "print('chisq = %6.4f\\n p-value = %6.4f\\n dof = %i\\n expected_freq = %s'%stats.chi2_contingency(cross_table))"
   ]
  }
 ],
 "metadata": {
  "anaconda-cloud": {},
  "kernelspec": {
   "display_name": "Python 3",
   "language": "python",
   "name": "python3"
  },
  "language_info": {
   "codemirror_mode": {
    "name": "ipython",
    "version": 3
   },
   "file_extension": ".py",
   "mimetype": "text/x-python",
   "name": "python",
   "nbconvert_exporter": "python",
   "pygments_lexer": "ipython3",
   "version": "3.6.2"
  }
 },
 "nbformat": 4,
 "nbformat_minor": 1
}
