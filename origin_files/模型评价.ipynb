{
 "cells": [
  {
   "cell_type": "markdown",
   "metadata": {},
   "source": [
    "# 模型评价基本流程一览\n",
    "[大图](模型评价.html), [下载](origin_files/模型评价.ipynb)\n",
    "## 1. 获取数据，并进行清洗\n"
   ]
  },
  {
   "cell_type": "markdown",
   "metadata": {},
   "source": [
    "* 加载数据集"
   ]
  },
  {
   "cell_type": "markdown",
   "metadata": {},
   "source": [
    "Attribute Information:\n",
    "\n",
    "1. Sequence Name: Accession number for the SWISS-PROT database \n",
    "2. mcg: McGeoch's method for signal sequence recognition. \n",
    "3. gvh: von Heijne's method for signal sequence recognition. \n",
    "4. lip: von Heijne's Signal Peptidase II consensus sequence score. Binary attribute. \n",
    "5. chg: Presence of charge on N-terminus of predicted lipoproteins. Binary attribute. \n",
    "6. aac: score of discriminant analysis of the amino acid content of outer membrane and periplasmic proteins. \n",
    "7. alm1: score of the ALOM membrane spanning region prediction program. \n",
    "8. alm2: score of ALOM program after excluding putative cleavable signal regions from the sequence."
   ]
  },
  {
   "cell_type": "code",
   "execution_count": 1,
   "metadata": {
    "collapsed": true
   },
   "outputs": [],
   "source": [
    "%matplotlib inline\n",
    "import os\n",
    "import numpy as np\n",
    "from scipy import stats\n",
    "import pandas as pd\n",
    "import sklearn.model_selection as cross_validation  # Use sklearn.cross_validation in old version\n",
    "import matplotlib.pyplot as plt"
   ]
  },
  {
   "cell_type": "code",
   "execution_count": 2,
   "metadata": {
    "scrolled": true
   },
   "outputs": [
    {
     "data": {
      "text/html": [
       "<div>\n",
       "<style>\n",
       "    .dataframe thead tr:only-child th {\n",
       "        text-align: right;\n",
       "    }\n",
       "\n",
       "    .dataframe thead th {\n",
       "        text-align: left;\n",
       "    }\n",
       "\n",
       "    .dataframe tbody tr th {\n",
       "        vertical-align: top;\n",
       "    }\n",
       "</style>\n",
       "<table border=\"1\" class=\"dataframe\">\n",
       "  <thead>\n",
       "    <tr style=\"text-align: right;\">\n",
       "      <th></th>\n",
       "      <th>mcg</th>\n",
       "      <th>gvh</th>\n",
       "      <th>alm</th>\n",
       "      <th>mit</th>\n",
       "      <th>erl</th>\n",
       "      <th>pox</th>\n",
       "      <th>vac</th>\n",
       "      <th>nuc</th>\n",
       "      <th>target</th>\n",
       "    </tr>\n",
       "  </thead>\n",
       "  <tbody>\n",
       "    <tr>\n",
       "      <th>3</th>\n",
       "      <td>0.58</td>\n",
       "      <td>0.44</td>\n",
       "      <td>0.57</td>\n",
       "      <td>0.13</td>\n",
       "      <td>0.5</td>\n",
       "      <td>0.0</td>\n",
       "      <td>0.54</td>\n",
       "      <td>0.22</td>\n",
       "      <td>NUC</td>\n",
       "    </tr>\n",
       "    <tr>\n",
       "      <th>5</th>\n",
       "      <td>0.51</td>\n",
       "      <td>0.40</td>\n",
       "      <td>0.56</td>\n",
       "      <td>0.17</td>\n",
       "      <td>0.5</td>\n",
       "      <td>0.5</td>\n",
       "      <td>0.49</td>\n",
       "      <td>0.22</td>\n",
       "      <td>CYT</td>\n",
       "    </tr>\n",
       "    <tr>\n",
       "      <th>7</th>\n",
       "      <td>0.48</td>\n",
       "      <td>0.45</td>\n",
       "      <td>0.59</td>\n",
       "      <td>0.20</td>\n",
       "      <td>0.5</td>\n",
       "      <td>0.0</td>\n",
       "      <td>0.58</td>\n",
       "      <td>0.34</td>\n",
       "      <td>NUC</td>\n",
       "    </tr>\n",
       "    <tr>\n",
       "      <th>9</th>\n",
       "      <td>0.40</td>\n",
       "      <td>0.39</td>\n",
       "      <td>0.60</td>\n",
       "      <td>0.15</td>\n",
       "      <td>0.5</td>\n",
       "      <td>0.0</td>\n",
       "      <td>0.58</td>\n",
       "      <td>0.30</td>\n",
       "      <td>CYT</td>\n",
       "    </tr>\n",
       "    <tr>\n",
       "      <th>10</th>\n",
       "      <td>0.43</td>\n",
       "      <td>0.39</td>\n",
       "      <td>0.54</td>\n",
       "      <td>0.21</td>\n",
       "      <td>0.5</td>\n",
       "      <td>0.0</td>\n",
       "      <td>0.53</td>\n",
       "      <td>0.27</td>\n",
       "      <td>NUC</td>\n",
       "    </tr>\n",
       "  </tbody>\n",
       "</table>\n",
       "</div>"
      ],
      "text/plain": [
       "     mcg   gvh   alm   mit  erl  pox   vac   nuc target\n",
       "3   0.58  0.44  0.57  0.13  0.5  0.0  0.54  0.22    NUC\n",
       "5   0.51  0.40  0.56  0.17  0.5  0.5  0.49  0.22    CYT\n",
       "7   0.48  0.45  0.59  0.20  0.5  0.0  0.58  0.34    NUC\n",
       "9   0.40  0.39  0.60  0.15  0.5  0.0  0.58  0.30    CYT\n",
       "10  0.43  0.39  0.54  0.21  0.5  0.0  0.53  0.27    NUC"
      ]
     },
     "execution_count": 2,
     "metadata": {},
     "output_type": "execute_result"
    }
   ],
   "source": [
    "import pandas as pd\n",
    "import sklearn.datasets as datasets\n",
    "df=pd.read_csv('http://archive.ics.uci.edu/ml/machine-learning-databases/yeast/yeast.data',\n",
    "               header=None,sep='\\s+',names=['s_name','mcg','gvh','alm','mit','erl','pox','vac','nuc','target'])\n",
    "df=df.loc[(df.target=='CYT') |( df.target=='NUC'),'mcg':]\n",
    "df.head()"
   ]
  },
  {
   "cell_type": "markdown",
   "metadata": {},
   "source": [
    "## 2. 划分训练集和测试集，并且特征工程"
   ]
  },
  {
   "cell_type": "markdown",
   "metadata": {},
   "source": [
    "* 划分训练集和测试集"
   ]
  },
  {
   "cell_type": "code",
   "execution_count": 3,
   "metadata": {
    "collapsed": true,
    "scrolled": true
   },
   "outputs": [],
   "source": [
    "train_data, test_data, train_target, test_target = cross_validation.train_test_split(\n",
    "    df.iloc[:,:8], df.iloc[:,8], test_size=0.2, train_size=0.8, random_state=123)   #划分训练集和测试集t"
   ]
  },
  {
   "cell_type": "markdown",
   "metadata": {},
   "source": [
    "* 极值标准化  \n",
    "这里有个需要注意的点，test应当按照train来进行预处理,而不能用test的信息进行预处理  \n",
    "这样做是错误的：\n",
    "   1. 对train做fit_transfrom,对test做fit_transform\n",
    "   2. 先对所有数据标准化，然后train_test_split"
   ]
  },
  {
   "cell_type": "code",
   "execution_count": 4,
   "metadata": {
    "collapsed": true
   },
   "outputs": [],
   "source": [
    "from sklearn import preprocessing\n",
    "min_max_scaler = preprocessing.MinMaxScaler()\n",
    "\n",
    "min_max_scaler.fit(train_data)\n",
    "train_data_scaled=min_max_scaler.transform(train_data)#fit_transform(train_data)可以两步一起做\n",
    "test_data_scaled=min_max_scaler.transform(test_data)"
   ]
  },
  {
   "cell_type": "markdown",
   "metadata": {},
   "source": [
    "## 3. 建模"
   ]
  },
  {
   "cell_type": "code",
   "execution_count": 5,
   "metadata": {},
   "outputs": [
    {
     "data": {
      "text/plain": [
       "KNeighborsClassifier(algorithm='auto', leaf_size=30, metric='minkowski',\n",
       "           metric_params=None, n_jobs=1, n_neighbors=10, p=2,\n",
       "           weights='uniform')"
      ]
     },
     "execution_count": 5,
     "metadata": {},
     "output_type": "execute_result"
    }
   ],
   "source": [
    "from sklearn.neighbors import KNeighborsClassifier\n",
    "model = KNeighborsClassifier(n_neighbors=10)  # 默认欧氏距离\n",
    "model.fit(train_data, train_target)"
   ]
  },
  {
   "cell_type": "code",
   "execution_count": 6,
   "metadata": {
    "collapsed": true,
    "scrolled": true
   },
   "outputs": [],
   "source": [
    "test_predict = model.predict(test_data)\n",
    "train_predict=model.predict(train_data)"
   ]
  },
  {
   "cell_type": "markdown",
   "metadata": {},
   "source": [
    "* 混淆矩阵"
   ]
  },
  {
   "cell_type": "code",
   "execution_count": 7,
   "metadata": {},
   "outputs": [
    {
     "data": {
      "text/plain": [
       "array([[75, 25],\n",
       "       [39, 40]], dtype=int64)"
      ]
     },
     "execution_count": 7,
     "metadata": {},
     "output_type": "execute_result"
    }
   ],
   "source": [
    "import sklearn.metrics as metrics\n",
    "metrics.confusion_matrix(test_target, test_predict, labels=['CYT','NUC'])#label可以控制显示哪些标签"
   ]
  },
  {
   "cell_type": "code",
   "execution_count": 8,
   "metadata": {},
   "outputs": [
    {
     "name": "stdout",
     "output_type": "stream",
     "text": [
      "             precision    recall  f1-score   support\n",
      "\n",
      "        CYT       0.66      0.75      0.70       100\n",
      "        NUC       0.62      0.51      0.56        79\n",
      "\n",
      "avg / total       0.64      0.64      0.64       179\n",
      "\n"
     ]
    }
   ],
   "source": [
    "print(metrics.classification_report(test_target, test_predict))"
   ]
  },
  {
   "cell_type": "code",
   "execution_count": 9,
   "metadata": {},
   "outputs": [
    {
     "data": {
      "text/plain": [
       "0.64245810055865926"
      ]
     },
     "execution_count": 9,
     "metadata": {},
     "output_type": "execute_result"
    }
   ],
   "source": [
    "model.score(test_data, test_target)"
   ]
  },
  {
   "cell_type": "markdown",
   "metadata": {},
   "source": [
    "- ROC"
   ]
  },
  {
   "cell_type": "code",
   "execution_count": 10,
   "metadata": {
    "scrolled": false
   },
   "outputs": [
    {
     "data": {
      "text/plain": [
       "<matplotlib.text.Text at 0x1671629a438>"
      ]
     },
     "execution_count": 10,
     "metadata": {},
     "output_type": "execute_result"
    },
    {
     "data": {
      "image/png": "[encoded data removed]",
      "text/plain": [
       "<matplotlib.figure.Figure at 0x1671614fd68>"
      ]
     },
     "metadata": {},
     "output_type": "display_data"
    }
   ],
   "source": [
    "test_proba_predict = model.predict_proba(test_data)[:,0]\n",
    "train_proba_predict=model.predict_proba(train_data)[:,0]\n",
    "fpr_test, tpr_test, th_test = metrics.roc_curve(test_target=='CYT', test_proba_predict)\n",
    "fpr_train, tpr_train, th_train = metrics.roc_curve(train_target=='CYT', train_proba_predict)\n",
    "plt.figure(figsize=[6,6])\n",
    "plt.plot(fpr_test, tpr_test, color='blue',label='test')\n",
    "plt.plot(fpr_train, tpr_train, color='red',label='train')\n",
    "plt.legend()\n",
    "plt.title('ROC curve')"
   ]
  },
  {
   "cell_type": "markdown",
   "metadata": {},
   "source": [
    "## Kfold"
   ]
  },
  {
   "cell_type": "markdown",
   "metadata": {},
   "source": [
    "- [Kfold](http://scikit-learn.org/stable/modules/generated/sklearn.model_selection.KFold.html):Split dataset into k consecutive folds (without shuffling by default).\n",
    "- [StratifiedKFold](http://scikit-learn.org/stable/modules/generated/sklearn.model_selection.StratifiedKFold.html#sklearn.model_selection.StratifiedKFold)分层抽样,保证每个集合y值的频率都与整体相等，也是不shuffle\n",
    "- [GroupKFold](http://scikit-learn.org/stable/modules/generated/sklearn.model_selection.GroupKFold.html#sklearn.model_selection.GroupKFold)保证同一个group只能出现在同一个集合中\n",
    "- [LeaveOneGroupOut](http://scikit-learn.org/stable/modules/generated/sklearn.model_selection.LeaveOneGroupOut.html#sklearn.model_selection.LeaveOneGroupOut)GroupKFold的变种，每次只留一个group\n",
    "\n",
    "\n",
    "[RepeatedKFold](http://scikit-learn.org/stable/modules/generated/sklearn.model_selection.RepeatedKFold.html#sklearn.model_selection.RepeatedKFold),[RepeatedStratifiedKFold](http://scikit-learn.org/stable/modules/generated/sklearn.model_selection.StratifiedKFold.html#sklearn.model_selection.StratifiedKFold),多了参数n_repeats, random_state，多次重复相应操作，shuffle后抽样，"
   ]
  },
  {
   "cell_type": "code",
   "execution_count": 11,
   "metadata": {},
   "outputs": [
    {
     "name": "stdout",
     "output_type": "stream",
     "text": [
      "TRAIN: [ 3  4  5  6  7  8  9 10 11] TEST: [0 1 2]\n",
      "TRAIN: [ 0  1  2  6  7  8  9 10 11] TEST: [3 4 5]\n",
      "TRAIN: [ 0  1  2  3  4  5  9 10 11] TEST: [6 7 8]\n",
      "TRAIN: [0 1 2 3 4 5 6 7 8] TEST: [ 9 10 11]\n"
     ]
    }
   ],
   "source": [
    "from sklearn.model_selection import KFold\n",
    "X = np.arange(2,14,1)\n",
    "kf = KFold(n_splits=4)\n",
    "\n",
    "for train_index, test_index in kf.split(X):\n",
    "   print(\"TRAIN:\", train_index, \"TEST:\", test_index)"
   ]
  },
  {
   "cell_type": "code",
   "execution_count": 12,
   "metadata": {},
   "outputs": [
    {
     "name": "stdout",
     "output_type": "stream",
     "text": [
      "TRAIN: [ 3  4  5  6  7 10 11] TEST: [0 1 2 8 9]\n",
      "TRAIN: [ 0  1  2  6  7  8  9 11] TEST: [ 3  4  5 10]\n",
      "TRAIN: [ 0  1  2  3  4  5  8  9 10] TEST: [ 6  7 11]\n"
     ]
    }
   ],
   "source": [
    "from sklearn.model_selection import StratifiedKFold\n",
    "X = np.arange(2,14,1)\n",
    "y = np.array([0]*8+[1]*4)\n",
    "skf = StratifiedKFold(n_splits=3)\n",
    "\n",
    "for train_index, test_index in skf.split(X, y):\n",
    "   print(\"TRAIN:\", train_index, \"TEST:\", test_index)"
   ]
  },
  {
   "cell_type": "code",
   "execution_count": 13,
   "metadata": {},
   "outputs": [
    {
     "name": "stdout",
     "output_type": "stream",
     "text": [
      "TRAIN: [ 1  3  4  7  9 10] TEST: [ 0  2  5  6  8 11]\n",
      "TRAIN: [ 0  2  5  6  8 11] TEST: [ 1  3  4  7  9 10]\n"
     ]
    }
   ],
   "source": [
    "from sklearn.model_selection import RepeatedStratifiedKFold\n",
    "X = np.arange(2,14,1)\n",
    "y = np.array([0]*6+[1]*6)\n",
    "\n",
    "rskf = RepeatedStratifiedKFold(n_splits=2, n_repeats=1,random_state=36851234)\n",
    "for train_index, test_index in rskf.split(X, y):\n",
    "    print(\"TRAIN:\", train_index, \"TEST:\", test_index)"
   ]
  },
  {
   "cell_type": "code",
   "execution_count": 14,
   "metadata": {},
   "outputs": [
    {
     "name": "stdout",
     "output_type": "stream",
     "text": [
      "TRAIN: [0 1 2 3 4 5] TEST: [ 6  7  8  9 10 11]\n",
      "TRAIN: [ 6  7  8  9 10 11] TEST: [0 1 2 3 4 5]\n"
     ]
    }
   ],
   "source": [
    "from sklearn.model_selection import GroupKFold\n",
    "X = np.arange(2,14,1)\n",
    "y = np.array([0]*6+[1]*6)\n",
    "groups = np.array([0]*6+[1]*6)\n",
    "group_kfold = GroupKFold(n_splits=2)\n",
    "\n",
    "for train_index, test_index in group_kfold.split(X, y, groups):\n",
    "    print(\"TRAIN:\", train_index, \"TEST:\", test_index)\n",
    "\n"
   ]
  },
  {
   "cell_type": "code",
   "execution_count": 15,
   "metadata": {},
   "outputs": [
    {
     "name": "stdout",
     "output_type": "stream",
     "text": [
      "TRAIN: [ 6  7  8  9 10 11] TEST: [0 1 2 3 4 5]\n",
      "TRAIN: [0 1 2 3 4 5] TEST: [ 6  7  8  9 10 11]\n"
     ]
    }
   ],
   "source": [
    "from sklearn.model_selection import LeaveOneGroupOut\n",
    "X = np.arange(2,14,1)\n",
    "y = np.array([0]*6+[1]*6)\n",
    "logo = LeaveOneGroupOut()\n",
    "\n",
    "logo.get_n_splits(groups=groups) # 'groups' is always required\n",
    "\n",
    "for train_index, test_index in logo.split(X, y, groups):\n",
    "   print(\"TRAIN:\", train_index, \"TEST:\", test_index)"
   ]
  },
  {
   "cell_type": "markdown",
   "metadata": {},
   "source": [
    "## GridSearchCV"
   ]
  },
  {
   "cell_type": "code",
   "execution_count": 16,
   "metadata": {},
   "outputs": [
    {
     "data": {
      "text/plain": [
       "GridSearchCV(cv=KFold(n_splits=3, random_state=None, shuffle=False),\n",
       "       error_score='raise',\n",
       "       estimator=KNeighborsClassifier(algorithm='auto', leaf_size=30, metric='minkowski',\n",
       "           metric_params=None, n_jobs=1, n_neighbors=5, p=2,\n",
       "           weights='uniform'),\n",
       "       fit_params=None, iid=True, n_jobs=1,\n",
       "       param_grid=<sklearn.model_selection._search.ParameterGrid object at 0x000001671614FB00>,\n",
       "       pre_dispatch='2*n_jobs', refit=True, return_train_score=True,\n",
       "       scoring=None, verbose=0)"
      ]
     },
     "execution_count": 16,
     "metadata": {},
     "output_type": "execute_result"
    }
   ],
   "source": [
    "from sklearn.model_selection import ParameterGrid\n",
    "from sklearn.model_selection import GridSearchCV \n",
    "from sklearn.model_selection import KFold\n",
    "\n",
    "n_samples = len(train_data)\n",
    "grid = ParameterGrid({'n_neighbors':[range(4,10)]})\n",
    "estimator = KNeighborsClassifier()\n",
    "\n",
    "kf = KFold(n_splits=3)\n",
    "\n",
    "gridSearchCV = GridSearchCV(estimator, grid, cv=kf)#RepeatedKFold,StratifiedKFold等等\n",
    "\n",
    "gridSearchCV.fit(train_data, train_target.values.flatten())\n"
   ]
  },
  {
   "cell_type": "markdown",
   "metadata": {},
   "source": [
    "下面是一个神经网络的例子，多参数"
   ]
  },
  {
   "cell_type": "code",
   "execution_count": 17,
   "metadata": {
    "collapsed": true
   },
   "outputs": [],
   "source": [
    "# param_grid = {\n",
    "#     'hidden_layer_sizes':[(10, ), (15, ), (20, ), (5, 5)],\n",
    "#     'activation':['logistic', 'tanh', 'relu'], \n",
    "#     'alpha':[0.001, 0.01, 0.1, 0.2, 0.4, 1, 10]\n",
    "# }\n",
    "# mlp = MLPClassifier(max_iter=1000)\n",
    "# gcv = GridSearchCV(estimator=mlp, param_grid=param_grid, scoring='roc_auc', cv=4, n_jobs=-1)"
   ]
  },
  {
   "cell_type": "code",
   "execution_count": 18,
   "metadata": {},
   "outputs": [
    {
     "data": {
      "text/plain": [
       "{'mean_fit_time': array([ 0.00217239,  0.00162236,  0.00067139,  0.00101693,  0.00130669,\n",
       "         0.00033418]),\n",
       " 'mean_score_time': array([ 0.00517066,  0.00246819,  0.00166758,  0.002045  ,  0.00238601,\n",
       "         0.00066821]),\n",
       " 'mean_test_score': array([ 0.59607293,  0.60729313,  0.61290323,  0.6171108 ,  0.61430575,\n",
       "         0.62131837]),\n",
       " 'mean_train_score': array([ 0.73844906,  0.74054696,  0.71669615,  0.72231166,  0.7054843 ,\n",
       "         0.71179714]),\n",
       " 'param_n_neighbors': masked_array(data = [4 5 6 7 8 9],\n",
       "              mask = [False False False False False False],\n",
       "        fill_value = ?),\n",
       " 'params': [{'n_neighbors': 4},\n",
       "  {'n_neighbors': 5},\n",
       "  {'n_neighbors': 6},\n",
       "  {'n_neighbors': 7},\n",
       "  {'n_neighbors': 8},\n",
       "  {'n_neighbors': 9}],\n",
       " 'rank_test_score': array([6, 5, 4, 2, 3, 1]),\n",
       " 'split0_test_score': array([ 0.56302521,  0.60504202,  0.60504202,  0.60084034,  0.60504202,\n",
       "         0.60084034]),\n",
       " 'split0_train_score': array([ 0.75368421,  0.75789474,  0.72631579,  0.74526316,  0.71789474,\n",
       "         0.73263158]),\n",
       " 'split1_test_score': array([ 0.59663866,  0.58823529,  0.61764706,  0.62184874,  0.6092437 ,\n",
       "         0.62605042]),\n",
       " 'split1_train_score': array([ 0.75157895,  0.74315789,  0.71578947,  0.71578947,  0.71368421,\n",
       "         0.71368421]),\n",
       " 'split2_test_score': array([ 0.62869198,  0.62869198,  0.61603376,  0.62869198,  0.62869198,\n",
       "         0.6371308 ]),\n",
       " 'split2_train_score': array([ 0.71008403,  0.72058824,  0.70798319,  0.70588235,  0.68487395,\n",
       "         0.68907563]),\n",
       " 'std_fit_time': array([ 0.00119525,  0.00058986,  0.00047475,  0.00077997,  0.00043316,\n",
       "         0.00047261]),\n",
       " 'std_score_time': array([ 0.00130339,  0.00051713,  0.00125509,  0.00144815,  0.00104327,\n",
       "         0.00094499]),\n",
       " 'std_test_score': array([ 0.02680188,  0.01658726,  0.00560338,  0.01185083,  0.01029532,\n",
       "         0.01518435]),\n",
       " 'std_train_score': array([ 0.02007551,  0.01534181,  0.00751166,  0.01672555,  0.01467474,\n",
       "         0.01783164])}"
      ]
     },
     "execution_count": 18,
     "metadata": {},
     "output_type": "execute_result"
    }
   ],
   "source": [
    "gridSearchCV.cv_results_"
   ]
  },
  {
   "cell_type": "code",
   "execution_count": 19,
   "metadata": {},
   "outputs": [
    {
     "data": {
      "text/plain": [
       "0.66480446927374304"
      ]
     },
     "execution_count": 19,
     "metadata": {},
     "output_type": "execute_result"
    }
   ],
   "source": [
    "gridSearchCV.best_score_\n",
    "gridSearchCV.best_params_\n",
    "best = gridSearchCV.best_estimator_ \n",
    "best.score(test_data, test_target)"
   ]
  }
 ],
 "metadata": {
  "kernelspec": {
   "display_name": "Python 3",
   "language": "python",
   "name": "python3"
  },
  "language_info": {
   "codemirror_mode": {
    "name": "ipython",
    "version": 3
   },
   "file_extension": ".py",
   "mimetype": "text/x-python",
   "name": "python",
   "nbconvert_exporter": "python",
   "pygments_lexer": "ipython3",
   "version": "3.6.2"
  }
 },
 "nbformat": 4,
 "nbformat_minor": 1
}
