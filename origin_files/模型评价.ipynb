{
 "cells": [
  {
   "cell_type": "markdown",
   "metadata": {},
   "source": [
    "# 数据处理基本流程一览\n",
    "## 1. 获取数据，并进行清洗"
   ]
  },
  {
   "cell_type": "markdown",
   "metadata": {},
   "source": [
    "* 加载数据集"
   ]
  },
  {
   "cell_type": "markdown",
   "metadata": {},
   "source": [
    "Attribute Information:\n",
    "\n",
    "1. Sequence Name: Accession number for the SWISS-PROT database \n",
    "2. mcg: McGeoch's method for signal sequence recognition. \n",
    "3. gvh: von Heijne's method for signal sequence recognition. \n",
    "4. lip: von Heijne's Signal Peptidase II consensus sequence score. Binary attribute. \n",
    "5. chg: Presence of charge on N-terminus of predicted lipoproteins. Binary attribute. \n",
    "6. aac: score of discriminant analysis of the amino acid content of outer membrane and periplasmic proteins. \n",
    "7. alm1: score of the ALOM membrane spanning region prediction program. \n",
    "8. alm2: score of ALOM program after excluding putative cleavable signal regions from the sequence."
   ]
  },
  {
   "cell_type": "code",
   "execution_count": 1,
   "metadata": {
    "collapsed": true
   },
   "outputs": [],
   "source": [
    "%matplotlib inline\n",
    "import os\n",
    "import numpy as np\n",
    "from scipy import stats\n",
    "import pandas as pd\n",
    "import sklearn.model_selection as cross_validation  # Use sklearn.cross_validation in old version\n",
    "import matplotlib.pyplot as plt"
   ]
  },
  {
   "cell_type": "code",
   "execution_count": 2,
   "metadata": {
    "scrolled": true
   },
   "outputs": [
    {
     "data": {
      "text/html": [
       "<div>\n",
       "<style>\n",
       "    .dataframe thead tr:only-child th {\n",
       "        text-align: right;\n",
       "    }\n",
       "\n",
       "    .dataframe thead th {\n",
       "        text-align: left;\n",
       "    }\n",
       "\n",
       "    .dataframe tbody tr th {\n",
       "        vertical-align: top;\n",
       "    }\n",
       "</style>\n",
       "<table border=\"1\" class=\"dataframe\">\n",
       "  <thead>\n",
       "    <tr style=\"text-align: right;\">\n",
       "      <th></th>\n",
       "      <th>mcg</th>\n",
       "      <th>gvh</th>\n",
       "      <th>alm</th>\n",
       "      <th>mit</th>\n",
       "      <th>erl</th>\n",
       "      <th>pox</th>\n",
       "      <th>vac</th>\n",
       "      <th>nuc</th>\n",
       "      <th>target</th>\n",
       "    </tr>\n",
       "  </thead>\n",
       "  <tbody>\n",
       "    <tr>\n",
       "      <th>3</th>\n",
       "      <td>0.58</td>\n",
       "      <td>0.44</td>\n",
       "      <td>0.57</td>\n",
       "      <td>0.13</td>\n",
       "      <td>0.5</td>\n",
       "      <td>0.0</td>\n",
       "      <td>0.54</td>\n",
       "      <td>0.22</td>\n",
       "      <td>NUC</td>\n",
       "    </tr>\n",
       "    <tr>\n",
       "      <th>5</th>\n",
       "      <td>0.51</td>\n",
       "      <td>0.40</td>\n",
       "      <td>0.56</td>\n",
       "      <td>0.17</td>\n",
       "      <td>0.5</td>\n",
       "      <td>0.5</td>\n",
       "      <td>0.49</td>\n",
       "      <td>0.22</td>\n",
       "      <td>CYT</td>\n",
       "    </tr>\n",
       "    <tr>\n",
       "      <th>7</th>\n",
       "      <td>0.48</td>\n",
       "      <td>0.45</td>\n",
       "      <td>0.59</td>\n",
       "      <td>0.20</td>\n",
       "      <td>0.5</td>\n",
       "      <td>0.0</td>\n",
       "      <td>0.58</td>\n",
       "      <td>0.34</td>\n",
       "      <td>NUC</td>\n",
       "    </tr>\n",
       "    <tr>\n",
       "      <th>9</th>\n",
       "      <td>0.40</td>\n",
       "      <td>0.39</td>\n",
       "      <td>0.60</td>\n",
       "      <td>0.15</td>\n",
       "      <td>0.5</td>\n",
       "      <td>0.0</td>\n",
       "      <td>0.58</td>\n",
       "      <td>0.30</td>\n",
       "      <td>CYT</td>\n",
       "    </tr>\n",
       "    <tr>\n",
       "      <th>10</th>\n",
       "      <td>0.43</td>\n",
       "      <td>0.39</td>\n",
       "      <td>0.54</td>\n",
       "      <td>0.21</td>\n",
       "      <td>0.5</td>\n",
       "      <td>0.0</td>\n",
       "      <td>0.53</td>\n",
       "      <td>0.27</td>\n",
       "      <td>NUC</td>\n",
       "    </tr>\n",
       "  </tbody>\n",
       "</table>\n",
       "</div>"
      ],
      "text/plain": [
       "     mcg   gvh   alm   mit  erl  pox   vac   nuc target\n",
       "3   0.58  0.44  0.57  0.13  0.5  0.0  0.54  0.22    NUC\n",
       "5   0.51  0.40  0.56  0.17  0.5  0.5  0.49  0.22    CYT\n",
       "7   0.48  0.45  0.59  0.20  0.5  0.0  0.58  0.34    NUC\n",
       "9   0.40  0.39  0.60  0.15  0.5  0.0  0.58  0.30    CYT\n",
       "10  0.43  0.39  0.54  0.21  0.5  0.0  0.53  0.27    NUC"
      ]
     },
     "execution_count": 2,
     "metadata": {},
     "output_type": "execute_result"
    }
   ],
   "source": [
    "import pandas as pd\n",
    "import sklearn.datasets as datasets\n",
    "df=pd.read_csv('http://archive.ics.uci.edu/ml/machine-learning-databases/yeast/yeast.data',\n",
    "               header=None,sep='\\s+',names=['s_name','mcg','gvh','alm','mit','erl','pox','vac','nuc','target'])\n",
    "df=df.loc[(df.target=='CYT') |( df.target=='NUC'),'mcg':]\n",
    "df.head()"
   ]
  },
  {
   "cell_type": "markdown",
   "metadata": {},
   "source": [
    "## 2. 划分训练集和测试集，并且特征工程"
   ]
  },
  {
   "cell_type": "markdown",
   "metadata": {},
   "source": [
    "* 划分训练集和测试集"
   ]
  },
  {
   "cell_type": "code",
   "execution_count": 3,
   "metadata": {
    "scrolled": true
   },
   "outputs": [],
   "source": [
    "train_data, test_data, train_target, test_target = cross_validation.train_test_split(\n",
    "    df.iloc[:,:8], df.iloc[:,8], test_size=0.2, train_size=0.8, random_state=123)   #划分训练集和测试集t"
   ]
  },
  {
   "cell_type": "markdown",
   "metadata": {},
   "source": [
    "* 极值标准化  \n",
    "这里有个需要注意的点，test应当按照train来进行预处理,而不能用test的信息进行预处理  \n",
    "这样做是错误的：\n",
    "   1. 对train做fit_transfrom,对test做fit_transform\n",
    "   2. 先对所有数据标准化，然后train_test_split"
   ]
  },
  {
   "cell_type": "code",
   "execution_count": 4,
   "metadata": {},
   "outputs": [],
   "source": [
    "from sklearn import preprocessing\n",
    "min_max_scaler = preprocessing.MinMaxScaler()\n",
    "\n",
    "min_max_scaler.fit(train_data)\n",
    "train_data_scaled=min_max_scaler.transform(train_data)#fit_transform(train_data)可以两步一起做\n",
    "test_data_scaled=min_max_scaler.transform(test_data)"
   ]
  },
  {
   "cell_type": "markdown",
   "metadata": {},
   "source": [
    "## 3. 建模"
   ]
  },
  {
   "cell_type": "code",
   "execution_count": 5,
   "metadata": {},
   "outputs": [
    {
     "data": {
      "text/plain": [
       "KNeighborsClassifier(algorithm='auto', leaf_size=30, metric='minkowski',\n",
       "           metric_params=None, n_jobs=1, n_neighbors=3, p=2,\n",
       "           weights='uniform')"
      ]
     },
     "execution_count": 5,
     "metadata": {},
     "output_type": "execute_result"
    }
   ],
   "source": [
    "from sklearn.neighbors import KNeighborsClassifier\n",
    "\n",
    "model = KNeighborsClassifier(n_neighbors=3)  # 默认欧氏距离\n",
    "model.fit(train_data, train_target)"
   ]
  },
  {
   "cell_type": "code",
   "execution_count": 6,
   "metadata": {
    "collapsed": true,
    "scrolled": true
   },
   "outputs": [],
   "source": [
    "test_predict = model.predict(test_data)\n",
    "train_predict=model.predict(train_data)"
   ]
  },
  {
   "cell_type": "markdown",
   "metadata": {},
   "source": [
    "* 混淆矩阵"
   ]
  },
  {
   "cell_type": "code",
   "execution_count": 7,
   "metadata": {},
   "outputs": [
    {
     "data": {
      "text/plain": [
       "array([[68, 32],\n",
       "       [30, 49]], dtype=int64)"
      ]
     },
     "execution_count": 7,
     "metadata": {},
     "output_type": "execute_result"
    }
   ],
   "source": [
    "import sklearn.metrics as metrics\n",
    "metrics.confusion_matrix(test_target, test_predict, labels=['CYT','NUC'])#label可以控制显示哪些标签"
   ]
  },
  {
   "cell_type": "code",
   "execution_count": 8,
   "metadata": {},
   "outputs": [
    {
     "name": "stdout",
     "output_type": "stream",
     "text": [
      "             precision    recall  f1-score   support\n",
      "\n",
      "        CYT       0.69      0.68      0.69       100\n",
      "        NUC       0.60      0.62      0.61        79\n",
      "\n",
      "avg / total       0.65      0.65      0.65       179\n",
      "\n"
     ]
    }
   ],
   "source": [
    "print(metrics.classification_report(test_target, test_predict))"
   ]
  },
  {
   "cell_type": "code",
   "execution_count": 9,
   "metadata": {},
   "outputs": [
    {
     "data": {
      "text/plain": [
       "0.65363128491620115"
      ]
     },
     "execution_count": 9,
     "metadata": {},
     "output_type": "execute_result"
    }
   ],
   "source": [
    "model.score(test_data, test_target)"
   ]
  },
  {
   "cell_type": "markdown",
   "metadata": {},
   "source": [
    "- ROC"
   ]
  },
  {
   "cell_type": "code",
   "execution_count": 10,
   "metadata": {
    "scrolled": false
   },
   "outputs": [
    {
     "data": {
      "text/plain": [
       "<matplotlib.text.Text at 0x187fd9e6eb8>"
      ]
     },
     "execution_count": 10,
     "metadata": {},
     "output_type": "execute_result"
    },
    {
     "data": {
      "image/png": "[encoded data removed]",
      "text/plain": [
       "<matplotlib.figure.Figure at 0x187f9c31c88>"
      ]
     },
     "metadata": {},
     "output_type": "display_data"
    }
   ],
   "source": [
    "fpr_test, tpr_test, th_test = metrics.roc_curve(test_target=='CYT', test_predict=='CYT')\n",
    "fpr_train, tpr_train, th_train = metrics.roc_curve(train_target=='CYT', train_predict=='CYT')\n",
    "plt.figure(figsize=[6,6])\n",
    "plt.plot(fpr_test, tpr_test, color='blue')\n",
    "plt.plot(fpr_train, tpr_train, color='red')\n",
    "plt.title('ROC curve')"
   ]
  },
  {
   "cell_type": "markdown",
   "metadata": {},
   "source": [
    "* 选择k值"
   ]
  },
  {
   "cell_type": "code",
   "execution_count": 11,
   "metadata": {
    "scrolled": false
   },
   "outputs": [
    {
     "name": "stdout",
     "output_type": "stream",
     "text": [
      "1 \t 0.614525139665\n",
      "2 \t 0.603351955307\n",
      "3 \t 0.653631284916\n",
      "4 \t 0.620111731844\n",
      "5 \t 0.63687150838\n",
      "6 \t 0.648044692737\n",
      "7 \t 0.653631284916\n",
      "8 \t 0.648044692737\n",
      "9 \t 0.664804469274\n",
      "10 \t 0.642458100559\n",
      "11 \t 0.653631284916\n",
      "12 \t 0.675977653631\n",
      "13 \t 0.653631284916\n",
      "14 \t 0.664804469274\n"
     ]
    }
   ],
   "source": [
    "for k in range(1, 15):\n",
    "    k_model = KNeighborsClassifier(n_neighbors=k)\n",
    "    k_model.fit(train_data, train_target.values.flatten())\n",
    "    score = k_model.score(test_data, test_target)\n",
    "    print(k, '\\t', score)"
   ]
  },
  {
   "cell_type": "markdown",
   "metadata": {},
   "source": [
    "* 交叉验证选择k值"
   ]
  },
  {
   "cell_type": "code",
   "execution_count": 12,
   "metadata": {},
   "outputs": [
    {
     "data": {
      "text/plain": [
       "{'mean_fit_time': array([ 0.00156093,  0.00183328,  0.        ,  0.00520261,  0.        ,  0.        ]),\n",
       " 'mean_score_time': array([ 0.00358613,  0.00277567,  0.00521509,  0.        ,  0.00523996,  0.        ]),\n",
       " 'mean_test_score': array([ 0.6058906 ,  0.6115007 ,  0.61290323,  0.62412342,  0.61570827,\n",
       "         0.6171108 ]),\n",
       " 'mean_train_score': array([ 0.73494029,  0.74264927,  0.71388913,  0.72792127,  0.70758367,\n",
       "         0.71390093]),\n",
       " 'param_n_neighbors': masked_array(data = [4 5 6 7 8 9],\n",
       "              mask = [False False False False False False],\n",
       "        fill_value = ?),\n",
       " 'params': [{'n_neighbors': 4},\n",
       "  {'n_neighbors': 5},\n",
       "  {'n_neighbors': 6},\n",
       "  {'n_neighbors': 7},\n",
       "  {'n_neighbors': 8},\n",
       "  {'n_neighbors': 9}],\n",
       " 'rank_test_score': array([6, 5, 4, 1, 3, 2]),\n",
       " 'split0_test_score': array([ 0.59243697,  0.62184874,  0.62184874,  0.62184874,  0.62184874,\n",
       "         0.61344538]),\n",
       " 'split0_train_score': array([ 0.74526316,  0.75368421,  0.72210526,  0.74315789,  0.72210526,\n",
       "         0.73473684]),\n",
       " 'split1_test_score': array([ 0.59243697,  0.58403361,  0.59663866,  0.62184874,  0.59663866,\n",
       "         0.61344538]),\n",
       " 'split1_train_score': array([ 0.74947368,  0.74947368,  0.71157895,  0.72842105,  0.70736842,\n",
       "         0.71578947]),\n",
       " 'split2_test_score': array([ 0.63291139,  0.62869198,  0.62025316,  0.62869198,  0.62869198,\n",
       "         0.62447257]),\n",
       " 'split2_train_score': array([ 0.71008403,  0.72478992,  0.70798319,  0.71218487,  0.69327731,\n",
       "         0.69117647]),\n",
       " 'std_fit_time': array([ 0.00037042,  0.0006404 ,  0.        ,  0.0073576 ,  0.        ,  0.        ]),\n",
       " 'std_score_time': array([ 0.0009333 ,  0.00057673,  0.00737525,  0.        ,  0.00741043,  0.        ]),\n",
       " 'std_test_score': array([ 0.0190664 ,  0.01964215,  0.01153129,  0.00322367,  0.01378432,\n",
       "         0.00519461]),\n",
       " 'std_train_score': array([ 0.01765989,  0.01274492,  0.00599227,  0.01264962,  0.01176995,\n",
       "         0.01783352])}"
      ]
     },
     "execution_count": 12,
     "metadata": {},
     "output_type": "execute_result"
    }
   ],
   "source": [
    "from sklearn.model_selection import ParameterGrid\n",
    "from sklearn.model_selection import GridSearchCV \n",
    "from sklearn.model_selection import KFold\n",
    "\n",
    "n_samples = len(train_data)\n",
    "kf = KFold(n_splits=3) # Set parameter to 'n=n_samples, n_folds=3' in old version\n",
    "grid = ParameterGrid({'n_neighbors':[range(4,10)]})\n",
    "estimator = KNeighborsClassifier()\n",
    "gridSearchCV = GridSearchCV(estimator, grid, cv=3)\n",
    "gridSearchCV.fit(train_data, train_target.values.flatten())\n",
    "# gridSearchCV.grid_scores_  # Use it in old version\n",
    "gridSearchCV.cv_results_"
   ]
  },
  {
   "cell_type": "code",
   "execution_count": 13,
   "metadata": {},
   "outputs": [
    {
     "data": {
      "text/plain": [
       "{'n_neighbors': 7}"
      ]
     },
     "execution_count": 13,
     "metadata": {},
     "output_type": "execute_result"
    }
   ],
   "source": [
    "gridSearchCV.best_params_"
   ]
  },
  {
   "cell_type": "code",
   "execution_count": 14,
   "metadata": {},
   "outputs": [
    {
     "data": {
      "text/plain": [
       "0.65363128491620115"
      ]
     },
     "execution_count": 14,
     "metadata": {},
     "output_type": "execute_result"
    }
   ],
   "source": [
    "best = gridSearchCV.best_estimator_ \n",
    "best.score(test_data, test_target)"
   ]
  }
 ],
 "metadata": {
  "kernelspec": {
   "display_name": "Python 3",
   "language": "python",
   "name": "python3"
  },
  "language_info": {
   "codemirror_mode": {
    "name": "ipython",
    "version": 3
   },
   "file_extension": ".py",
   "mimetype": "text/x-python",
   "name": "python",
   "nbconvert_exporter": "python",
   "pygments_lexer": "ipython3",
   "version": "3.6.2"
  }
 },
 "nbformat": 4,
 "nbformat_minor": 1
}
