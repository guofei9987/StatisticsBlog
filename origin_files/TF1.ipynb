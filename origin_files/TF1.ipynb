{
 "cells": [
  {
   "cell_type": "markdown",
   "metadata": {},
   "source": [
    "[大图](TF1.html), [下载](origin_files/TF1.ipynb)"
   ]
  },
  {
   "cell_type": "code",
   "execution_count": 1,
   "metadata": {
    "collapsed": true
   },
   "outputs": [],
   "source": [
    "import tensorflow as tf"
   ]
  },
  {
   "cell_type": "code",
   "execution_count": 1,
   "metadata": {
    "collapsed": true
   },
   "outputs": [],
   "source": [
    "hello=tf.constant('hello!')\n",
    "sess=tf.Session()#创建一个session\n",
    "hey=sess.run(hello)#使用session来运行\n",
    "# sess.close()#关闭session，释放资源"
   ]
  },
  {
   "cell_type": "code",
   "execution_count": 2,
   "metadata": {},
   "outputs": [
    {
     "data": {
      "text/plain": [
       "<module 'tensorflow.contrib.slim' from 'C:\\\\Users\\\\guofei\\\\Anaconda3\\\\lib\\\\site-packages\\\\tensorflow\\\\contrib\\\\slim\\\\__init__.py'>"
      ]
     },
     "execution_count": 2,
     "metadata": {},
     "output_type": "execute_result"
    }
   ],
   "source": [
    "tf.contrib.slimim"
   ]
  },
  {
   "cell_type": "markdown",
   "metadata": {},
   "source": [
    "# Session"
   ]
  },
  {
   "cell_type": "code",
   "execution_count": 2,
   "metadata": {
    "scrolled": true
   },
   "outputs": [
    {
     "data": {
      "text/plain": [
       "array([ 11.10000038,   4.0999999 ], dtype=float32)"
      ]
     },
     "execution_count": 2,
     "metadata": {},
     "output_type": "execute_result"
    }
   ],
   "source": [
    "a=tf.constant([10.1,2.0],name='a')\n",
    "b=tf.constant([1.0,2.1],name='b')\n",
    "sess.run(a+b)"
   ]
  },
  {
   "cell_type": "code",
   "execution_count": 3,
   "metadata": {
    "collapsed": true,
    "scrolled": true
   },
   "outputs": [],
   "source": [
    "with tf.Session() as sess:\n",
    "    sess.run(a+b)\n",
    "# 无需调用sess.close()，而是运行完毕后自动释放资源"
   ]
  },
  {
   "cell_type": "code",
   "execution_count": 4,
   "metadata": {
    "scrolled": true
   },
   "outputs": [
    {
     "name": "stdout",
     "output_type": "stream",
     "text": [
      "[ 11.10000038   4.0999999 ]\n"
     ]
    }
   ],
   "source": [
    "sess=tf.Session()\n",
    "result=a+b\n",
    "with sess.as_default():\n",
    "    print(result.eval())"
   ]
  },
  {
   "cell_type": "code",
   "execution_count": 5,
   "metadata": {},
   "outputs": [
    {
     "data": {
      "text/plain": [
       "array([ 11.10000038,   4.0999999 ], dtype=float32)"
      ]
     },
     "execution_count": 5,
     "metadata": {},
     "output_type": "execute_result"
    }
   ],
   "source": [
    "#等价于：\n",
    "sess=tf.Session()\n",
    "result.eval(session=sess)"
   ]
  },
  {
   "cell_type": "markdown",
   "metadata": {},
   "source": [
    "## InteractiveSession\n",
    "注册为默认Session，以后的运算会默认在这个session中运行"
   ]
  },
  {
   "cell_type": "code",
   "execution_count": 6,
   "metadata": {
    "collapsed": true
   },
   "outputs": [],
   "source": [
    "import tensorflow as tf\n",
    "sess=tf.InteractiveSession()"
   ]
  },
  {
   "cell_type": "markdown",
   "metadata": {},
   "source": [
    "## ConfigProto"
   ]
  },
  {
   "cell_type": "code",
   "execution_count": 7,
   "metadata": {
    "collapsed": true
   },
   "outputs": [],
   "source": [
    "config=tf.ConfigProto(allow_soft_placement=True, # 优先使用GPU，GPU不支持的时候换成CPU，而不是报错\n",
    "                     log_device_placement=True) #记录节点分配日志，生产环境下可以设定为False以减小日志量"
   ]
  },
  {
   "cell_type": "code",
   "execution_count": 8,
   "metadata": {
    "collapsed": true
   },
   "outputs": [],
   "source": [
    "sess1=tf.InteractiveSession(config=config)\n",
    "sess2=tf.Session(config=config)"
   ]
  },
  {
   "cell_type": "markdown",
   "metadata": {},
   "source": [
    "# 变量"
   ]
  },
  {
   "cell_type": "code",
   "execution_count": 9,
   "metadata": {
    "collapsed": true
   },
   "outputs": [],
   "source": [
    "# a=tf.matmul(x,w1)#矩阵乘法"
   ]
  },
  {
   "cell_type": "code",
   "execution_count": 10,
   "metadata": {
    "collapsed": true
   },
   "outputs": [],
   "source": [
    "import math\n",
    "# 参数初始化\n",
    "# 均值0，方差1的正态随机数：\n",
    "weights=tf.Variable(tf.truncated_normal([3,2],stddev=1),name='weights')\n",
    "#正态随机数除以神经元的个数\n",
    "weights=tf.Variable(tf.truncated_normal([500,25],stddev=1/math.sqrt(500)),name='weights')"
   ]
  },
  {
   "cell_type": "code",
   "execution_count": 11,
   "metadata": {},
   "outputs": [
    {
     "data": {
      "text/plain": [
       "<tf.Tensor 'Const_1:0' shape=(3,) dtype=int32>"
      ]
     },
     "execution_count": 11,
     "metadata": {},
     "output_type": "execute_result"
    }
   ],
   "source": [
    "tf.random_normal #正态分布\n",
    "tf.truncated_normal #正态分布，如果离差超过2标准差，则重新随机\n",
    "tf.random_uniform#均匀分布\n",
    "tf.random_gamma#Gamma分布\n",
    "\n",
    "# 常数：\n",
    "tf.zeros(shape=[1,2])\n",
    "tf.ones\n",
    "tf.fill(dims=(2,3),value=9)#生成一个2*3矩阵，并用9填充\n",
    "tf.constant([1,2,4])"
   ]
  },
  {
   "cell_type": "markdown",
   "metadata": {},
   "source": [
    "### 设定初始值"
   ]
  },
  {
   "cell_type": "code",
   "execution_count": 12,
   "metadata": {
    "collapsed": true
   },
   "outputs": [],
   "source": [
    "biases=tf.Variable(tf.zeros([3]))\n",
    "w2=tf.Variable(weights.initialized_value())\n",
    "w3=tf.Variable(2*weights.initialized_value())"
   ]
  },
  {
   "cell_type": "markdown",
   "metadata": {},
   "source": [
    "- tf.Variable定义的tensor，一定要sess.run(w2.initializer)之后才可以参与运算"
   ]
  },
  {
   "cell_type": "code",
   "execution_count": 13,
   "metadata": {},
   "outputs": [
    {
     "data": {
      "text/plain": [
       "array([[  1.40550081e-02,   3.56171094e-02,   8.82129595e-02, ...,\n",
       "         -9.59602743e-02,  -2.08483525e-02,   8.82780626e-02],\n",
       "       [ -3.08074057e-04,  -6.06677905e-02,   5.50433137e-02, ...,\n",
       "          1.12989634e-01,   3.39948237e-02,   7.19436184e-02],\n",
       "       [ -3.74090523e-02,   3.51328403e-02,   1.85388178e-01, ...,\n",
       "         -7.59455636e-02,   1.36960939e-01,   1.39769107e-01],\n",
       "       ..., \n",
       "       [ -6.68679848e-02,   1.59125775e-04,  -1.43939406e-01, ...,\n",
       "         -6.22220933e-02,   3.61499526e-02,  -1.48586512e-01],\n",
       "       [  4.02176231e-02,  -8.69320333e-02,   4.66071218e-02, ...,\n",
       "          9.19466093e-02,   1.90996770e-02,  -7.27092624e-02],\n",
       "       [ -1.10123560e-01,   1.02122873e-01,   6.27010167e-02, ...,\n",
       "          1.09118499e-01,   1.31105542e-01,   1.89743191e-03]], dtype=float32)"
      ]
     },
     "execution_count": 13,
     "metadata": {},
     "output_type": "execute_result"
    }
   ],
   "source": [
    "sess.run(w2.initializer)\n",
    "sess.run(w3.initializer)\n",
    "sess.run(w2+w3)"
   ]
  },
  {
   "cell_type": "markdown",
   "metadata": {},
   "source": [
    "- 也可以用global_variables_initializer()初始化所有变量"
   ]
  },
  {
   "cell_type": "code",
   "execution_count": 14,
   "metadata": {},
   "outputs": [
    {
     "data": {
      "text/plain": [
       "array([[ 0.01311258, -0.15321772, -0.03100876, ...,  0.01576635,\n",
       "        -0.17011122,  0.00778334],\n",
       "       [-0.00632112, -0.0805592 , -0.13366885, ...,  0.05962479,\n",
       "         0.00965144,  0.04564803],\n",
       "       [ 0.16788766, -0.06252999,  0.1152531 , ..., -0.13965486,\n",
       "        -0.0107923 ,  0.16111413],\n",
       "       ..., \n",
       "       [-0.0633782 ,  0.06003167, -0.04054847, ..., -0.05182007,\n",
       "         0.05266857, -0.05856436],\n",
       "       [-0.04858895,  0.00196341,  0.02902997, ...,  0.07324979,\n",
       "        -0.11008207, -0.06104498],\n",
       "       [ 0.02623019,  0.08211529,  0.14126727, ..., -0.06122007,\n",
       "         0.00826732, -0.01249944]], dtype=float32)"
      ]
     },
     "execution_count": 14,
     "metadata": {},
     "output_type": "execute_result"
    }
   ],
   "source": [
    "w4=tf.Variable(weights.initialized_value())\n",
    "w5=tf.Variable(weights.initialized_value())\n",
    "tf.global_variables_initializer().run(session=sess)\n",
    "sess.run(w4+w5)"
   ]
  },
  {
   "cell_type": "markdown",
   "metadata": {},
   "source": [
    "# 一个信号传播的例子"
   ]
  },
  {
   "cell_type": "code",
   "execution_count": 15,
   "metadata": {},
   "outputs": [
    {
     "data": {
      "text/plain": [
       "array([[ 3.95757794]], dtype=float32)"
      ]
     },
     "execution_count": 15,
     "metadata": {},
     "output_type": "execute_result"
    }
   ],
   "source": [
    "import tensorflow as tf\n",
    "w1=tf.Variable(tf.random_normal([2,3],stddev=1,seed=1))\n",
    "w2=tf.Variable(tf.random_normal([3,1],stddev=1,seed=1))\n",
    "\n",
    "# 输入信号\n",
    "x=tf.constant([[0.7,0.9]])\n",
    "\n",
    "#矩阵积\n",
    "a=tf.matmul(x,w1)\n",
    "y=tf.matmul(a,w2)\n",
    "\n",
    "sess=tf.Session()\n",
    "sess.run(w1.initializer)#初始化\n",
    "sess.run(w2.initializer)\n",
    "sess.run(y)\n",
    "\n"
   ]
  },
  {
   "cell_type": "markdown",
   "metadata": {},
   "source": [
    "## placeholder占位\n",
    "定义一个位置，这个位置的数据在运行时才指定，可以节省常量。"
   ]
  },
  {
   "cell_type": "code",
   "execution_count": 16,
   "metadata": {},
   "outputs": [
    {
     "data": {
      "text/plain": [
       "array([[ 3.95757794]], dtype=float32)"
      ]
     },
     "execution_count": 16,
     "metadata": {},
     "output_type": "execute_result"
    }
   ],
   "source": [
    "import tensorflow as tf\n",
    "w1=tf.Variable(tf.random_normal([2,3],stddev=1,seed=1))\n",
    "w2=tf.Variable(tf.random_normal([3,1],stddev=1,seed=1))\n",
    "\n",
    "# 输入信号\n",
    "x=tf.placeholder(tf.float32,shape=(1,2),name='input')\n",
    "\n",
    "#矩阵积\n",
    "a=tf.matmul(x,w1)\n",
    "y=tf.matmul(a,w2)\n",
    "\n",
    "sess=tf.Session()\n",
    "sess.run(w1.initializer)#初始化\n",
    "sess.run(w2.initializer)\n",
    "sess.run(y,feed_dict={x:[[0.7,0.9]]})"
   ]
  },
  {
   "cell_type": "markdown",
   "metadata": {},
   "source": [
    "# iris为例的一个完整的神经网络训练过程"
   ]
  },
  {
   "cell_type": "code",
   "execution_count": 1,
   "metadata": {
    "collapsed": true
   },
   "outputs": [],
   "source": [
    "import tensorflow as tf\n",
    "import pandas as pd\n",
    "import numpy as np\n",
    "sess=tf.Session()"
   ]
  },
  {
   "cell_type": "markdown",
   "metadata": {},
   "source": [
    "- 加载数据并dummy"
   ]
  },
  {
   "cell_type": "code",
   "execution_count": 2,
   "metadata": {
    "collapsed": true
   },
   "outputs": [],
   "source": [
    "from sklearn import datasets\n",
    "dataset=datasets.load_iris()\n",
    "data=dataset.data\n",
    "target=dataset.target\n",
    "X=data\n",
    "target_df=pd.Series(target)\n",
    "target_df=pd.get_dummies(target_df)\n",
    "target=target_df.values\n",
    "from sklearn import model_selection\n",
    "train_data,test_data,train_target,test_target=model_selection.train_test_split(\n",
    "    data,target,test_size=0.2,train_size=0.8,random_state=12345)#划分训练集和测试集"
   ]
  },
  {
   "cell_type": "markdown",
   "metadata": {},
   "source": [
    "- 基本参数"
   ]
  },
  {
   "cell_type": "code",
   "execution_count": 3,
   "metadata": {
    "collapsed": true
   },
   "outputs": [],
   "source": [
    "X=train_data\n",
    "Y=train_target\n",
    "dataset_size=data.shape[0]\n",
    "batch_size=10"
   ]
  },
  {
   "cell_type": "markdown",
   "metadata": {},
   "source": [
    "- 定义张量"
   ]
  },
  {
   "cell_type": "code",
   "execution_count": 4,
   "metadata": {
    "collapsed": true
   },
   "outputs": [],
   "source": [
    "w1=tf.Variable(tf.truncated_normal(shape=(4,10),stddev=1),name='weight1')\n",
    "b1=tf.Variable(tf.truncated_normal(shape=(1,10),stddev=1),name='bias1')\n",
    "w2=tf.Variable(tf.truncated_normal(shape=(10,3),stddev=1),name='weight2')\n",
    "b2=tf.Variable(tf.truncated_normal(shape=(1,3),stddev=1),name='bias2')\n",
    "x=tf.placeholder(shape=(None,4),dtype=tf.float32)\n",
    "y_=tf.placeholder(shape=(None,3),dtype=tf.float32)"
   ]
  },
  {
   "cell_type": "markdown",
   "metadata": {},
   "source": [
    "- 信号正向传播"
   ]
  },
  {
   "cell_type": "code",
   "execution_count": 5,
   "metadata": {
    "collapsed": true
   },
   "outputs": [],
   "source": [
    "a=tf.nn.sigmoid(tf.matmul(x,w1)+b1)\n",
    "y=tf.nn.softmax(tf.matmul(a,w2)+b2)"
   ]
  },
  {
   "cell_type": "markdown",
   "metadata": {},
   "source": [
    "- 误差与优化"
   ]
  },
  {
   "cell_type": "code",
   "execution_count": 6,
   "metadata": {
    "collapsed": true
   },
   "outputs": [],
   "source": [
    "cross_entropy=tf.reduce_mean(-tf.reduce_sum(y_*tf.log(y),reduction_indices=[1]))\n",
    "train_step=tf.train.GradientDescentOptimizer(learning_rate=0.001).minimize(cross_entropy)"
   ]
  },
  {
   "cell_type": "markdown",
   "metadata": {},
   "source": [
    "- 迭代学习"
   ]
  },
  {
   "cell_type": "code",
   "execution_count": 7,
   "metadata": {},
   "outputs": [
    {
     "name": "stdout",
     "output_type": "stream",
     "text": [
      "0 training step,cross entropy is 1.7206\n",
      "5000 training step,cross entropy is 0.744731\n",
      "10000 training step,cross entropy is 0.577951\n",
      "15000 training step,cross entropy is 0.49825\n",
      "20000 training step,cross entropy is 0.435902\n",
      "25000 training step,cross entropy is 0.380805\n",
      "30000 training step,cross entropy is 0.33211\n",
      "35000 training step,cross entropy is 0.291082\n",
      "40000 training step,cross entropy is 0.257882\n",
      "45000 training step,cross entropy is 0.231364\n"
     ]
    }
   ],
   "source": [
    "sess.run(tf.global_variables_initializer())#全部初始化\n",
    "\n",
    "STEPS=50000\n",
    "for i in range(STEPS):\n",
    "    start=(i*batch_size)%batch_size\n",
    "    end=min(start+batch_size,dataset_size)\n",
    "    sess.run(train_step,feed_dict={x:X[start:end],y_:Y[start:end]})\n",
    "    if i%5000==0:\n",
    "        total_cross_entropy=sess.run(cross_entropy,feed_dict={x:X,y_:Y})\n",
    "        print(i,'training step,cross entropy is',total_cross_entropy)"
   ]
  },
  {
   "cell_type": "markdown",
   "metadata": {},
   "source": [
    "- predict"
   ]
  },
  {
   "cell_type": "code",
   "execution_count": 8,
   "metadata": {
    "collapsed": true
   },
   "outputs": [],
   "source": [
    "y_train_predict=sess.run(y,feed_dict={x:train_data})\n",
    "y_test_predict=sess.run(y,feed_dict={x:test_data})\n",
    "# sess.close()"
   ]
  },
  {
   "cell_type": "markdown",
   "metadata": {},
   "source": [
    "- 模型评价"
   ]
  },
  {
   "cell_type": "code",
   "execution_count": 9,
   "metadata": {
    "scrolled": false
   },
   "outputs": [
    {
     "name": "stdout",
     "output_type": "stream",
     "text": [
      "train [[39  0  0]\n",
      " [ 0 34  4]\n",
      " [ 0  0 43]]\n",
      "test [[11  0  0]\n",
      " [ 0 10  2]\n",
      " [ 0  0  7]]\n"
     ]
    }
   ],
   "source": [
    "import sklearn.metrics as metrics\n",
    "print('train',metrics.confusion_matrix(train_target.argmax(axis=1),y_train_predict.argmax(axis=1)))\n",
    "print('test',metrics.confusion_matrix(test_target.argmax(axis=1),y_test_predict.argmax(axis=1)))"
   ]
  },
  {
   "cell_type": "code",
   "execution_count": 10,
   "metadata": {},
   "outputs": [
    {
     "data": {
      "text/plain": [
       "0.96666664"
      ]
     },
     "execution_count": 10,
     "metadata": {},
     "output_type": "execute_result"
    }
   ],
   "source": [
    "correct_prediction=tf.equal(tf.argmax(y,axis=1),tf.argmax(y_,axis=1))\n",
    "accuracy=tf.reduce_mean(tf.cast(correct_prediction,tf.float32))\n",
    "sess.run(accuracy,feed_dict={x:train_data,y_:train_target})"
   ]
  },
  {
   "cell_type": "code",
   "execution_count": null,
   "metadata": {
    "collapsed": true
   },
   "outputs": [],
   "source": []
  },
  {
   "cell_type": "code",
   "execution_count": null,
   "metadata": {
    "collapsed": true
   },
   "outputs": [],
   "source": [
    "tf.GraphKeys.GLOBAL_VARIABLES #所有变量\n",
    "tf.GraphKeys.TRAINABLE_VARIABLES #所有可训练变量\n",
    "tf.GraphKeys.SUMMARIES #日志相关张量\n",
    "tf.GraphKeys.QUEUE_RUNNERS #处理输入的QueueRunner\n",
    "tf.GraphKeys.MOVING_AVERAGE_VARIABLES #所有计算了移动平均值的变量"
   ]
  },
  {
   "cell_type": "code",
   "execution_count": null,
   "metadata": {
    "collapsed": true
   },
   "outputs": [],
   "source": []
  },
  {
   "cell_type": "code",
   "execution_count": null,
   "metadata": {
    "collapsed": true
   },
   "outputs": [],
   "source": []
  },
  {
   "cell_type": "markdown",
   "metadata": {},
   "source": [
    "# 其它代码"
   ]
  },
  {
   "cell_type": "code",
   "execution_count": null,
   "metadata": {
    "collapsed": true
   },
   "outputs": [],
   "source": [
    "with tf.Graph().as_default():\n",
    "    pass\n"
   ]
  },
  {
   "cell_type": "code",
   "execution_count": null,
   "metadata": {
    "collapsed": true
   },
   "outputs": [],
   "source": [
    "import math\n",
    "# 参数初始化\n",
    "# 均值0，方差1的正态随机数：\n",
    "weights=tf.Variable(tf.truncated_normal([3,2],stddev=1),name='weights')\n",
    "#正态随机数除以神经元的个数\n",
    "weights=tf.Variable(tf.truncated_normal([500,25],stddev=1/math.sqrt(500)),name='weights')"
   ]
  },
  {
   "cell_type": "code",
   "execution_count": null,
   "metadata": {
    "collapsed": true
   },
   "outputs": [],
   "source": [
    "# DropOut\n",
    "# 每一轮训练临时性的关闭一些节点\n",
    "# 降低VC维数量，减少过拟合风险\n",
    "\n",
    "keep_prob=tf.placeholder(tf.float32)\n",
    "h_fc1_drop=tf.nn.dropout(h_fc1,keep_prob)"
   ]
  },
  {
   "cell_type": "markdown",
   "metadata": {
    "collapsed": true
   },
   "source": [
    "# slim\n",
    "很有用的东西，可以不用设置中间变量，给函数赋值"
   ]
  },
  {
   "cell_type": "code",
   "execution_count": 6,
   "metadata": {},
   "outputs": [],
   "source": [
    "slim=tf.contrib.slim\n",
    "with slim.arg_scope([slim.conv2d,slim.fully_connected],weights_regularizer=slim.l2_regularizer(weights_decay)):\n",
    "    pass\n"
   ]
  }
 ],
 "metadata": {
  "kernelspec": {
   "display_name": "Python 3",
   "language": "python",
   "name": "python3"
  },
  "language_info": {
   "codemirror_mode": {
    "name": "ipython",
    "version": 3
   },
   "file_extension": ".py",
   "mimetype": "text/x-python",
   "name": "python",
   "nbconvert_exporter": "python",
   "pygments_lexer": "ipython3",
   "version": "3.6.2"
  }
 },
 "nbformat": 4,
 "nbformat_minor": 2
}
