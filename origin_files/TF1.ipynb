{
 "cells": [
  {
   "cell_type": "markdown",
   "metadata": {},
   "source": [
    "[大图](TF1.html), [下载](origin_files/TF1.ipynb)"
   ]
  },
  {
   "cell_type": "code",
   "execution_count": 1,
   "metadata": {
    "collapsed": true
   },
   "outputs": [],
   "source": [
    "import tensorflow as tf"
   ]
  },
  {
   "cell_type": "code",
   "execution_count": 2,
   "metadata": {
    "collapsed": true
   },
   "outputs": [],
   "source": [
    "hello=tf.constant('hello!')\n",
    "sess=tf.Session()#创建一个session\n",
    "hey=sess.run(hello)#使用session来运行\n",
    "# sess.close()#关闭session，释放资源"
   ]
  },
  {
   "cell_type": "markdown",
   "metadata": {},
   "source": [
    "batch归一化"
   ]
  },
  {
   "cell_type": "code",
   "execution_count": null,
   "metadata": {
    "collapsed": true
   },
   "outputs": [],
   "source": [
    "h1=tf.contrib.layers.fully_connected(x,100,activation_fn=None,scope='bn')\n",
    "h2=tf.contrib.layers.batch_norm(h1,center=True,scale=True,is_training=phase,scope='bn')"
   ]
  },
  {
   "cell_type": "markdown",
   "metadata": {},
   "source": [
    "# iris为例的一个完整的神经网络训练过程"
   ]
  },
  {
   "cell_type": "code",
   "execution_count": 1,
   "metadata": {
    "collapsed": true
   },
   "outputs": [],
   "source": [
    "import tensorflow as tf\n",
    "import pandas as pd\n",
    "import numpy as np\n",
    "sess=tf.Session()"
   ]
  },
  {
   "cell_type": "markdown",
   "metadata": {},
   "source": [
    "- 加载数据并dummy"
   ]
  },
  {
   "cell_type": "code",
   "execution_count": 2,
   "metadata": {
    "collapsed": true
   },
   "outputs": [],
   "source": [
    "from sklearn import datasets\n",
    "dataset=datasets.load_iris()\n",
    "data=dataset.data\n",
    "target=dataset.target\n",
    "X=data\n",
    "target_df=pd.Series(target)\n",
    "target_df=pd.get_dummies(target_df)\n",
    "target=target_df.values\n",
    "from sklearn import model_selection\n",
    "train_data,test_data,train_target,test_target=model_selection.train_test_split(\n",
    "    data,target,test_size=0.2,train_size=0.8,random_state=12345)#划分训练集和测试集"
   ]
  },
  {
   "cell_type": "markdown",
   "metadata": {},
   "source": [
    "- 基本参数"
   ]
  },
  {
   "cell_type": "code",
   "execution_count": 3,
   "metadata": {
    "collapsed": true
   },
   "outputs": [],
   "source": [
    "X=train_data\n",
    "Y=train_target\n",
    "dataset_size=data.shape[0]\n",
    "batch_size=10"
   ]
  },
  {
   "cell_type": "markdown",
   "metadata": {},
   "source": [
    "- 定义张量"
   ]
  },
  {
   "cell_type": "code",
   "execution_count": 4,
   "metadata": {
    "collapsed": true
   },
   "outputs": [],
   "source": [
    "w1=tf.Variable(tf.truncated_normal(shape=(4,10),stddev=1),name='weight1')\n",
    "b1=tf.Variable(tf.truncated_normal(shape=(1,10),stddev=1),name='bias1')\n",
    "w2=tf.Variable(tf.truncated_normal(shape=(10,3),stddev=1),name='weight2')\n",
    "b2=tf.Variable(tf.truncated_normal(shape=(1,3),stddev=1),name='bias2')\n",
    "x=tf.placeholder(shape=(None,4),dtype=tf.float32)\n",
    "y_=tf.placeholder(shape=(None,3),dtype=tf.float32)"
   ]
  },
  {
   "cell_type": "markdown",
   "metadata": {},
   "source": [
    "- 信号正向传播"
   ]
  },
  {
   "cell_type": "code",
   "execution_count": 5,
   "metadata": {
    "collapsed": true
   },
   "outputs": [],
   "source": [
    "a=tf.nn.sigmoid(tf.matmul(x,w1)+b1)\n",
    "y=tf.nn.softmax(tf.matmul(a,w2)+b2)"
   ]
  },
  {
   "cell_type": "markdown",
   "metadata": {},
   "source": [
    "- 误差与优化"
   ]
  },
  {
   "cell_type": "code",
   "execution_count": 6,
   "metadata": {
    "collapsed": true
   },
   "outputs": [],
   "source": [
    "cross_entropy=tf.reduce_mean(-tf.reduce_sum(y_*tf.log(y),reduction_indices=[1]))\n",
    "train_step=tf.train.GradientDescentOptimizer(learning_rate=0.001).minimize(cross_entropy)"
   ]
  },
  {
   "cell_type": "markdown",
   "metadata": {},
   "source": [
    "- 迭代学习"
   ]
  },
  {
   "cell_type": "code",
   "execution_count": 7,
   "metadata": {},
   "outputs": [
    {
     "name": "stdout",
     "output_type": "stream",
     "text": [
      "0 training step,cross entropy is 1.7206\n",
      "5000 training step,cross entropy is 0.744731\n",
      "10000 training step,cross entropy is 0.577951\n",
      "15000 training step,cross entropy is 0.49825\n",
      "20000 training step,cross entropy is 0.435902\n",
      "25000 training step,cross entropy is 0.380805\n",
      "30000 training step,cross entropy is 0.33211\n",
      "35000 training step,cross entropy is 0.291082\n",
      "40000 training step,cross entropy is 0.257882\n",
      "45000 training step,cross entropy is 0.231364\n"
     ]
    }
   ],
   "source": [
    "sess.run(tf.global_variables_initializer())#全部初始化, 千万别忘了！\n",
    "\n",
    "STEPS=50000\n",
    "for i in range(STEPS):\n",
    "    start=(i*batch_size)%batch_size\n",
    "    end=min(start+batch_size,dataset_size)\n",
    "    sess.run(train_step,feed_dict={x:X[start:end],y_:Y[start:end]})\n",
    "    if i%5000==0:\n",
    "        total_cross_entropy=sess.run(cross_entropy,feed_dict={x:X,y_:Y})\n",
    "        print(i,'training step,cross entropy is',total_cross_entropy)"
   ]
  },
  {
   "cell_type": "markdown",
   "metadata": {},
   "source": [
    "- predict"
   ]
  },
  {
   "cell_type": "code",
   "execution_count": 8,
   "metadata": {
    "collapsed": true
   },
   "outputs": [],
   "source": [
    "y_train_predict=sess.run(y,feed_dict={x:train_data})\n",
    "y_test_predict=sess.run(y,feed_dict={x:test_data})\n",
    "# sess.close()"
   ]
  },
  {
   "cell_type": "markdown",
   "metadata": {},
   "source": [
    "- 模型评价"
   ]
  },
  {
   "cell_type": "code",
   "execution_count": 9,
   "metadata": {
    "scrolled": false
   },
   "outputs": [
    {
     "name": "stdout",
     "output_type": "stream",
     "text": [
      "train [[39  0  0]\n",
      " [ 0 34  4]\n",
      " [ 0  0 43]]\n",
      "test [[11  0  0]\n",
      " [ 0 10  2]\n",
      " [ 0  0  7]]\n"
     ]
    }
   ],
   "source": [
    "import sklearn.metrics as metrics\n",
    "print('train',metrics.confusion_matrix(train_target.argmax(axis=1),y_train_predict.argmax(axis=1)))\n",
    "print('test',metrics.confusion_matrix(test_target.argmax(axis=1),y_test_predict.argmax(axis=1)))"
   ]
  },
  {
   "cell_type": "code",
   "execution_count": 10,
   "metadata": {},
   "outputs": [
    {
     "data": {
      "text/plain": [
       "0.96666664"
      ]
     },
     "execution_count": 10,
     "metadata": {},
     "output_type": "execute_result"
    }
   ],
   "source": [
    "correct_prediction=tf.equal(tf.argmax(y,axis=1),tf.argmax(y_,axis=1))\n",
    "accuracy=tf.reduce_mean(tf.cast(correct_prediction,tf.float32))\n",
    "sess.run(accuracy,feed_dict={x:train_data,y_:train_target})"
   ]
  },
  {
   "cell_type": "code",
   "execution_count": null,
   "metadata": {
    "collapsed": true
   },
   "outputs": [],
   "source": []
  },
  {
   "cell_type": "code",
   "execution_count": null,
   "metadata": {
    "collapsed": true
   },
   "outputs": [],
   "source": [
    "tf.GraphKeys.GLOBAL_VARIABLES #所有变量\n",
    "tf.GraphKeys.TRAINABLE_VARIABLES #所有可训练变量\n",
    "tf.GraphKeys.SUMMARIES #日志相关张量\n",
    "tf.GraphKeys.QUEUE_RUNNERS #处理输入的QueueRunner\n",
    "tf.GraphKeys.MOVING_AVERAGE_VARIABLES #所有计算了移动平均值的变量"
   ]
  },
  {
   "cell_type": "code",
   "execution_count": null,
   "metadata": {
    "collapsed": true
   },
   "outputs": [],
   "source": []
  },
  {
   "cell_type": "code",
   "execution_count": null,
   "metadata": {
    "collapsed": true
   },
   "outputs": [],
   "source": []
  },
  {
   "cell_type": "markdown",
   "metadata": {},
   "source": [
    "# 其它代码"
   ]
  },
  {
   "cell_type": "code",
   "execution_count": null,
   "metadata": {
    "collapsed": true
   },
   "outputs": [],
   "source": [
    "with tf.Graph().as_default():\n",
    "    pass\n"
   ]
  },
  {
   "cell_type": "code",
   "execution_count": null,
   "metadata": {
    "collapsed": true
   },
   "outputs": [],
   "source": [
    "import math\n",
    "# 参数初始化\n",
    "# 均值0，方差1的正态随机数：\n",
    "weights=tf.Variable(tf.truncated_normal([3,2],stddev=1),name='weights')\n",
    "#正态随机数除以神经元的个数\n",
    "weights=tf.Variable(tf.truncated_normal([500,25],stddev=1/math.sqrt(500)),name='weights')"
   ]
  },
  {
   "cell_type": "code",
   "execution_count": null,
   "metadata": {
    "collapsed": true
   },
   "outputs": [],
   "source": [
    "# DropOut\n",
    "# 每一轮训练临时性的关闭一些节点\n",
    "# 降低VC维数量，减少过拟合风险\n",
    "\n",
    "keep_prob=tf.placeholder(tf.float32)\n",
    "h_fc1_drop=tf.nn.dropout(h_fc1,keep_prob)"
   ]
  },
  {
   "cell_type": "markdown",
   "metadata": {
    "collapsed": true
   },
   "source": [
    "# slim\n",
    "很有用的东西，可以不用设置中间变量，给函数赋值"
   ]
  },
  {
   "cell_type": "code",
   "execution_count": 6,
   "metadata": {
    "collapsed": true
   },
   "outputs": [],
   "source": [
    "slim=tf.contrib.slim\n",
    "with slim.arg_scope([slim.conv2d,slim.fully_connected],weights_regularizer=slim.l2_regularizer(weights_decay)):\n",
    "    pass\n"
   ]
  }
 ],
 "metadata": {
  "kernelspec": {
   "display_name": "Python 3",
   "language": "python",
   "name": "python3"
  },
  "language_info": {
   "codemirror_mode": {
    "name": "ipython",
    "version": 3
   },
   "file_extension": ".py",
   "mimetype": "text/x-python",
   "name": "python",
   "nbconvert_exporter": "python",
   "pygments_lexer": "ipython3",
   "version": "3.6.3"
  }
 },
 "nbformat": 4,
 "nbformat_minor": 2
}
