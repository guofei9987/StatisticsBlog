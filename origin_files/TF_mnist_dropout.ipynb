{
 "cells": [
  {
   "cell_type": "code",
   "execution_count": 1,
   "metadata": {},
   "outputs": [
    {
     "name": "stdout",
     "output_type": "stream",
     "text": [
      "Extracting ../../haha\\train-images-idx3-ubyte.gz\n",
      "Extracting ../../haha\\train-labels-idx1-ubyte.gz\n",
      "Extracting ../../haha\\t10k-images-idx3-ubyte.gz\n",
      "Extracting ../../haha\\t10k-labels-idx1-ubyte.gz\n"
     ]
    }
   ],
   "source": [
    "import tensorflow as tf\n",
    "import pandas as pd\n",
    "import numpy as np\n",
    "from tensorflow.examples.tutorials.mnist import input_data\n",
    "\n",
    "mnist=input_data.read_data_sets('../../haha')\n",
    "\n",
    "sess=tf.Session()"
   ]
  },
  {
   "cell_type": "code",
   "execution_count": 2,
   "metadata": {
    "collapsed": true
   },
   "outputs": [],
   "source": [
    "in_units=784\n",
    "h1_units=300\n",
    "w1=tf.Variable(tf.truncated_normal(shape=(in_units,h1_units),stddev=0.1))\n",
    "b1=tf.Variable(tf.zeros([h1_units]))\n",
    "w2=tf.Variable(tf.zeros(shape=(h1_units,10)))\n",
    "b2=tf.Variable(tf.zeros([10]))"
   ]
  },
  {
   "cell_type": "code",
   "execution_count": 3,
   "metadata": {
    "collapsed": true
   },
   "outputs": [],
   "source": [
    "x=tf.placeholder(tf.float32,[None,in_units])\n",
    "y_=tf.placeholder(tf.float32,shape=(None,10))\n",
    "keep_prob=tf.placeholder(tf.float32)#训练时小于1，预测时等于1，所以还是用placeholder"
   ]
  },
  {
   "cell_type": "code",
   "execution_count": 4,
   "metadata": {
    "collapsed": true
   },
   "outputs": [],
   "source": [
    "hidden1=tf.nn.relu(tf.matmul(x,w1)+b1)\n",
    "hidden1_drop=tf.nn.dropout(hidden1,keep_prob)# 注意！\n",
    "y=tf.nn.softmax(tf.matmul(hidden1_drop,w2)+b2)"
   ]
  },
  {
   "cell_type": "code",
   "execution_count": 5,
   "metadata": {},
   "outputs": [],
   "source": [
    "cross_entropy=tf.reduce_mean(-tf.reduce_sum(y_*tf.log(y),reduction_indices=[1]))\n",
    "train_step=tf.train.AdagradOptimizer(learning_rate=0.3).minimize(cross_entropy)"
   ]
  },
  {
   "cell_type": "code",
   "execution_count": 6,
   "metadata": {},
   "outputs": [
    {
     "name": "stdout",
     "output_type": "stream",
     "text": [
      "2.47829\n",
      "0.156253\n",
      "0.0564876\n",
      "0.0177163\n",
      "0.0281413\n",
      "0.0114876\n",
      "0.015493\n",
      "0.0384636\n",
      "0.0264609\n",
      "0.0134964\n"
     ]
    }
   ],
   "source": [
    "sess.run(tf.global_variables_initializer())\n",
    "STEPS=5000\n",
    "for i in range(STEPS):\n",
    "    batch_xs,batch_ys=mnist.train.next_batch(100)\n",
    "    batch_ys1=np.zeros((batch_ys.shape[0],10))#数据格式恶心了\n",
    "    for index,value in enumerate(batch_ys):\n",
    "        batch_ys1[index,value]=1\n",
    "    sess.run(train_step,feed_dict={x:batch_xs,y_:batch_ys1,keep_prob:0.75232})#keep_prob\n",
    "    if i%500==0:\n",
    "        print(sess.run(cross_entropy,feed_dict={x:batch_xs,y_:batch_ys1,keep_prob:0.75232}))\n",
    "    "
   ]
  },
  {
   "cell_type": "code",
   "execution_count": 20,
   "metadata": {},
   "outputs": [
    {
     "name": "stdout",
     "output_type": "stream",
     "text": [
      "test\n",
      " [[ 974    1    2    0    0    0    1    1    1    0]\n",
      " [   0 1126    5    0    0    1    2    0    1    0]\n",
      " [   4    0 1019    1    1    0    0    5    2    0]\n",
      " [   0    0    9  994    0    1    0    2    3    1]\n",
      " [   1    1    8    1  956    0    2    3    2    8]\n",
      " [   2    0    0   14    0  862    4    2    7    1]\n",
      " [   8    3    1    1    2    2  938    0    3    0]\n",
      " [   2    4   14    1    1    0    0 1000    2    4]\n",
      " [   4    1    4    1    1    0    1    2  958    2]\n",
      " [   4    4    1    5    7    1    0    7    3  977]]\n"
     ]
    }
   ],
   "source": [
    "y_test_predict=sess.run(y,feed_dict={x:mnist.test.images,keep_prob:1})\n",
    "import sklearn.metrics as metrics\n",
    "print('test\\n',metrics.confusion_matrix(mnist.test.labels,y_test_predict.argmax(axis=1)))"
   ]
  }
 ],
 "metadata": {
  "kernelspec": {
   "display_name": "Python 3",
   "language": "python",
   "name": "python3"
  },
  "language_info": {
   "codemirror_mode": {
    "name": "ipython",
    "version": 3
   },
   "file_extension": ".py",
   "mimetype": "text/x-python",
   "name": "python",
   "nbconvert_exporter": "python",
   "pygments_lexer": "ipython3",
   "version": "3.6.2"
  }
 },
 "nbformat": 4,
 "nbformat_minor": 2
}
