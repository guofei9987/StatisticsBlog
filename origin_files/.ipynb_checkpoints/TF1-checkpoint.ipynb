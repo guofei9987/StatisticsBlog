{
 "cells": [
  {
   "cell_type": "markdown",
   "metadata": {},
   "source": [
    "[大图](TF1.html), [下载](origin_files/TF1.ipynb)"
   ]
  },
  {
   "cell_type": "code",
   "execution_count": 1,
   "metadata": {
    "collapsed": true
   },
   "outputs": [],
   "source": [
    "import tensorflow as tf\n",
    "hello=tf.constant('hello!')\n",
    "sess=tf.Session()#创建一个session\n",
    "hey=sess.run(hello)#使用session来运行\n",
    "# sess.close()#关闭session，释放资源"
   ]
  },
  {
   "cell_type": "markdown",
   "metadata": {},
   "source": [
    "# Session"
   ]
  },
  {
   "cell_type": "code",
   "execution_count": 2,
   "metadata": {
    "scrolled": true
   },
   "outputs": [
    {
     "data": {
      "text/plain": [
       "array([ 11.10000038,   4.0999999 ], dtype=float32)"
      ]
     },
     "execution_count": 2,
     "metadata": {},
     "output_type": "execute_result"
    }
   ],
   "source": [
    "a=tf.constant([10.1,2.0],name='a')\n",
    "b=tf.constant([1.0,2.1],name='b')\n",
    "sess.run(a+b)"
   ]
  },
  {
   "cell_type": "code",
   "execution_count": 3,
   "metadata": {
    "collapsed": true,
    "scrolled": true
   },
   "outputs": [],
   "source": [
    "with tf.Session() as sess:\n",
    "    sess.run(a+b)\n",
    "# 无需调用sess.close()，而是运行完毕后自动释放资源"
   ]
  },
  {
   "cell_type": "code",
   "execution_count": 4,
   "metadata": {
    "scrolled": true
   },
   "outputs": [
    {
     "name": "stdout",
     "output_type": "stream",
     "text": [
      "[ 11.10000038   4.0999999 ]\n"
     ]
    }
   ],
   "source": [
    "sess=tf.Session()\n",
    "result=a+b\n",
    "with sess.as_default():\n",
    "    print(result.eval())"
   ]
  },
  {
   "cell_type": "code",
   "execution_count": 5,
   "metadata": {},
   "outputs": [
    {
     "data": {
      "text/plain": [
       "array([ 11.10000038,   4.0999999 ], dtype=float32)"
      ]
     },
     "execution_count": 5,
     "metadata": {},
     "output_type": "execute_result"
    }
   ],
   "source": [
    "#等价于：\n",
    "sess=tf.Session()\n",
    "result.eval(session=sess)"
   ]
  },
  {
   "cell_type": "markdown",
   "metadata": {},
   "source": [
    "## InteractiveSession\n",
    "注册为默认Session，以后的运算会默认在这个session中运行"
   ]
  },
  {
   "cell_type": "code",
   "execution_count": 1,
   "metadata": {
    "collapsed": true
   },
   "outputs": [],
   "source": [
    "import tensorflow as tf\n",
    "sess=tf.InteractiveSession()"
   ]
  },
  {
   "cell_type": "markdown",
   "metadata": {},
   "source": [
    "## ConfigProto"
   ]
  },
  {
   "cell_type": "code",
   "execution_count": 6,
   "metadata": {
    "collapsed": true
   },
   "outputs": [],
   "source": [
    "config=tf.ConfigProto(allow_soft_placement=True, # 优先使用GPU，GPU不支持的时候换成CPU，而不是报错\n",
    "                     log_device_placement=True) #记录节点分配日志，生产环境下可以设定为False以减小日志量"
   ]
  },
  {
   "cell_type": "code",
   "execution_count": 7,
   "metadata": {
    "collapsed": true
   },
   "outputs": [],
   "source": [
    "sess1=tf.InteractiveSession(config=config)\n",
    "sess2=tf.Session(config=config)"
   ]
  },
  {
   "cell_type": "markdown",
   "metadata": {},
   "source": [
    "# 变量"
   ]
  },
  {
   "cell_type": "code",
   "execution_count": 8,
   "metadata": {
    "collapsed": true
   },
   "outputs": [],
   "source": [
    "# a=tf.matmul(x,w1)#矩阵乘法"
   ]
  },
  {
   "cell_type": "code",
   "execution_count": 9,
   "metadata": {
    "collapsed": true
   },
   "outputs": [],
   "source": [
    "import math\n",
    "# 参数初始化\n",
    "# 均值0，方差1的正态随机数：\n",
    "weights=tf.Variable(tf.truncated_normal([3,2],stddev=1),name='weights')\n",
    "#正态随机数除以神经元的个数\n",
    "weights=tf.Variable(tf.truncated_normal([500,25],stddev=1/math.sqrt(500)),name='weights')"
   ]
  },
  {
   "cell_type": "code",
   "execution_count": 10,
   "metadata": {},
   "outputs": [
    {
     "data": {
      "text/plain": [
       "<tf.Tensor 'Const_1:0' shape=(3,) dtype=int32>"
      ]
     },
     "execution_count": 10,
     "metadata": {},
     "output_type": "execute_result"
    }
   ],
   "source": [
    "tf.random_normal #正态分布\n",
    "tf.truncated_normal #正态分布，如果离差超过2标准差，则重新随机\n",
    "tf.random_uniform#均匀分布\n",
    "tf.random_gamma#Gamma分布\n",
    "\n",
    "# 常数：\n",
    "tf.zeros(shape=[1,2])\n",
    "tf.ones\n",
    "tf.fill(dims=(2,3),value=9)#生成一个2*3矩阵，并用9填充\n",
    "tf.constant([1,2,4])"
   ]
  },
  {
   "cell_type": "markdown",
   "metadata": {},
   "source": [
    "### 设定初始值"
   ]
  },
  {
   "cell_type": "code",
   "execution_count": 16,
   "metadata": {
    "collapsed": true
   },
   "outputs": [],
   "source": [
    "biases=tf.Variable(tf.zeros([3]))\n",
    "w2=tf.Variable(weights.initialized_value())\n",
    "w3=tf.Variable(2*weights.initialized_value())"
   ]
  },
  {
   "cell_type": "markdown",
   "metadata": {},
   "source": [
    "- tf.Variable定义的tensor，一定要sess.run(w2.initializer)之后才可以参与运算"
   ]
  },
  {
   "cell_type": "code",
   "execution_count": 17,
   "metadata": {},
   "outputs": [
    {
     "data": {
      "text/plain": [
       "array([[ 0.0146725 , -0.01635125,  0.04498549, ..., -0.08755898,\n",
       "         0.18695503,  0.08425835],\n",
       "       [-0.17774236,  0.17321549, -0.04793813, ...,  0.24831538,\n",
       "         0.17418024,  0.12786189],\n",
       "       [ 0.01775506,  0.072007  ,  0.05958458, ...,  0.1910471 ,\n",
       "         0.10692566,  0.25722879],\n",
       "       ..., \n",
       "       [-0.01484126, -0.06105198, -0.00371964, ..., -0.01382964,\n",
       "         0.15019251,  0.01939502],\n",
       "       [-0.00563166,  0.13065287,  0.17171642, ..., -0.02934854,\n",
       "         0.01903608,  0.09856674],\n",
       "       [-0.17432944,  0.0522357 , -0.0521534 , ...,  0.13465658,\n",
       "        -0.08157296, -0.0702959 ]], dtype=float32)"
      ]
     },
     "execution_count": 17,
     "metadata": {},
     "output_type": "execute_result"
    }
   ],
   "source": [
    "sess.run(w2.initializer)\n",
    "sess.run(w3.initializer)\n",
    "sess.run(w2+w3)"
   ]
  },
  {
   "cell_type": "markdown",
   "metadata": {},
   "source": [
    "- 也可以用global_variables_initializer()初始化所有变量"
   ]
  },
  {
   "cell_type": "code",
   "execution_count": 22,
   "metadata": {},
   "outputs": [
    {
     "data": {
      "text/plain": [
       "array([[ 0.10635487, -0.10713379,  0.05419004, ...,  0.04316486,\n",
       "        -0.06955445, -0.01315271],\n",
       "       [ 0.0207519 ,  0.09035016, -0.07340461, ...,  0.12121008,\n",
       "         0.03519265, -0.00858499],\n",
       "       [-0.0608892 , -0.07099085,  0.06276519, ..., -0.01360776,\n",
       "        -0.09032469,  0.00791927],\n",
       "       ..., \n",
       "       [ 0.07995607, -0.07077914, -0.10500553, ..., -0.04095972,\n",
       "         0.10824137, -0.08218385],\n",
       "       [-0.12486154, -0.07803642,  0.07337739, ...,  0.05695054,\n",
       "         0.09509261, -0.01585101],\n",
       "       [-0.08684835, -0.03203673, -0.04070302, ...,  0.12899335,\n",
       "        -0.04166428,  0.0677882 ]], dtype=float32)"
      ]
     },
     "execution_count": 22,
     "metadata": {},
     "output_type": "execute_result"
    }
   ],
   "source": [
    "w4=tf.Variable(weights.initialized_value())\n",
    "w5=tf.Variable(weights.initialized_value())\n",
    "tf.global_variables_initializer().run(session=sess)\n",
    "sess.run(w4+w5)"
   ]
  },
  {
   "cell_type": "markdown",
   "metadata": {},
   "source": [
    "# 一个信号传播的例子"
   ]
  },
  {
   "cell_type": "code",
   "execution_count": 12,
   "metadata": {},
   "outputs": [
    {
     "data": {
      "text/plain": [
       "array([[ 3.95757794]], dtype=float32)"
      ]
     },
     "execution_count": 12,
     "metadata": {},
     "output_type": "execute_result"
    }
   ],
   "source": [
    "import tensorflow as tf\n",
    "w1=tf.Variable(tf.random_normal([2,3],stddev=1,seed=1))\n",
    "w2=tf.Variable(tf.random_normal([3,1],stddev=1,seed=1))\n",
    "\n",
    "# 输入信号\n",
    "x=tf.constant([[0.7,0.9]])\n",
    "\n",
    "#矩阵积\n",
    "a=tf.matmul(x,w1)\n",
    "y=tf.matmul(a,w2)\n",
    "\n",
    "sess=tf.Session()\n",
    "sess.run(w1.initializer)#初始化\n",
    "sess.run(w2.initializer)\n",
    "sess.run(y)\n",
    "\n"
   ]
  },
  {
   "cell_type": "markdown",
   "metadata": {},
   "source": [
    "## placeholder占位\n",
    "定义一个位置，这个位置的数据在运行时才指定，可以节省常量。"
   ]
  },
  {
   "cell_type": "code",
   "execution_count": 13,
   "metadata": {},
   "outputs": [
    {
     "data": {
      "text/plain": [
       "array([[ 3.95757794]], dtype=float32)"
      ]
     },
     "execution_count": 13,
     "metadata": {},
     "output_type": "execute_result"
    }
   ],
   "source": [
    "import tensorflow as tf\n",
    "w1=tf.Variable(tf.random_normal([2,3],stddev=1,seed=1))\n",
    "w2=tf.Variable(tf.random_normal([3,1],stddev=1,seed=1))\n",
    "\n",
    "# 输入信号\n",
    "x=tf.placeholder(tf.float32,shape=(1,2),name='input')\n",
    "\n",
    "#矩阵积\n",
    "a=tf.matmul(x,w1)\n",
    "y=tf.matmul(a,w2)\n",
    "\n",
    "sess=tf.Session()\n",
    "sess.run(w1.initializer)#初始化\n",
    "sess.run(w2.initializer)\n",
    "sess.run(y,feed_dict={x:[[0.7,0.9]]})"
   ]
  },
  {
   "cell_type": "markdown",
   "metadata": {},
   "source": [
    "# iris为例的一个完整的神经网络训练过程"
   ]
  },
  {
   "cell_type": "code",
   "execution_count": 1,
   "metadata": {
    "collapsed": true
   },
   "outputs": [],
   "source": [
    "import tensorflow as tf\n",
    "import pandas as pd\n",
    "import numpy as np\n",
    "sess=tf.Session()"
   ]
  },
  {
   "cell_type": "markdown",
   "metadata": {},
   "source": [
    "- 加载数据并dummy"
   ]
  },
  {
   "cell_type": "code",
   "execution_count": 2,
   "metadata": {
    "collapsed": true
   },
   "outputs": [],
   "source": [
    "from sklearn import datasets\n",
    "dataset=datasets.load_iris()\n",
    "data=dataset.data\n",
    "target=dataset.target\n",
    "X=data\n",
    "target_df=pd.Series(target)\n",
    "target_df=pd.get_dummies(target_df)\n",
    "target=target_df.values\n",
    "from sklearn import model_selection\n",
    "train_data,test_data,train_target,test_target=model_selection.train_test_split(\n",
    "    data,target,test_size=0.2,train_size=0.8,random_state=12345)#划分训练集和测试集"
   ]
  },
  {
   "cell_type": "markdown",
   "metadata": {},
   "source": [
    "- 基本参数"
   ]
  },
  {
   "cell_type": "code",
   "execution_count": 3,
   "metadata": {
    "collapsed": true
   },
   "outputs": [],
   "source": [
    "X=train_data\n",
    "Y=train_target\n",
    "dataset_size=data.shape[0]\n",
    "batch_size=10"
   ]
  },
  {
   "cell_type": "markdown",
   "metadata": {},
   "source": [
    "- 定义张量"
   ]
  },
  {
   "cell_type": "code",
   "execution_count": 4,
   "metadata": {
    "collapsed": true
   },
   "outputs": [],
   "source": [
    "w1=tf.Variable(tf.truncated_normal(shape=(4,10),stddev=1),name='weight1')\n",
    "b1=tf.Variable(tf.truncated_normal(shape=(1,10),stddev=1),name='bias1')\n",
    "w2=tf.Variable(tf.truncated_normal(shape=(10,3),stddev=1),name='weight2')\n",
    "b2=tf.Variable(tf.truncated_normal(shape=(1,3),stddev=1),name='bias2')\n",
    "x=tf.placeholder(shape=(None,4),dtype=tf.float32)\n",
    "y=tf.placeholder(shape=(None,3),dtype=tf.float32)"
   ]
  },
  {
   "cell_type": "markdown",
   "metadata": {},
   "source": [
    "- 信号正向传播"
   ]
  },
  {
   "cell_type": "code",
   "execution_count": 5,
   "metadata": {
    "collapsed": true
   },
   "outputs": [],
   "source": [
    "a=tf.nn.sigmoid(tf.matmul(x,w1)+b1)\n",
    "y_hat=tf.nn.softmax(tf.matmul(a,w2)+b2)"
   ]
  },
  {
   "cell_type": "markdown",
   "metadata": {},
   "source": [
    "- 误差与优化"
   ]
  },
  {
   "cell_type": "code",
   "execution_count": 6,
   "metadata": {
    "collapsed": true
   },
   "outputs": [],
   "source": [
    "cross_entropy=tf.reduce_mean(-tf.reduce_sum(y*tf.log(y_hat),reduction_indices=[1]))\n",
    "train_step=tf.train.GradientDescentOptimizer(learning_rate=0.001).minimize(cross_entropy)"
   ]
  },
  {
   "cell_type": "markdown",
   "metadata": {},
   "source": [
    "- 迭代学习"
   ]
  },
  {
   "cell_type": "code",
   "execution_count": 7,
   "metadata": {},
   "outputs": [
    {
     "name": "stdout",
     "output_type": "stream",
     "text": [
      "0 training step,cross entropy is 2.11469\n",
      "5000 training step,cross entropy is 0.861995\n",
      "10000 training step,cross entropy is 0.6651\n",
      "15000 training step,cross entropy is 0.528154\n",
      "20000 training step,cross entropy is 0.436675\n",
      "25000 training step,cross entropy is 0.371314\n",
      "30000 training step,cross entropy is 0.322101\n",
      "35000 training step,cross entropy is 0.283936\n",
      "40000 training step,cross entropy is 0.253818\n",
      "45000 training step,cross entropy is 0.229742\n"
     ]
    }
   ],
   "source": [
    "sess.run(tf.global_variables_initializer())#全部初始化\n",
    "\n",
    "STEPS=50000\n",
    "for i in range(STEPS):\n",
    "    start=(i*batch_size)%batch_size\n",
    "    end=min(start+batch_size,dataset_size)\n",
    "    sess.run(train_step,feed_dict={x:X[start:end],y:Y[start:end]})\n",
    "    if i%5000==0:\n",
    "        total_cross_entropy=sess.run(cross_entropy,feed_dict={x:X,y:Y})\n",
    "        print(i,'training step,cross entropy is',total_cross_entropy)"
   ]
  },
  {
   "cell_type": "markdown",
   "metadata": {},
   "source": [
    "- predict"
   ]
  },
  {
   "cell_type": "code",
   "execution_count": 8,
   "metadata": {
    "collapsed": true
   },
   "outputs": [],
   "source": [
    "y_train_predict=sess.run(y_hat,feed_dict={x:train_data})\n",
    "y_test_predict=sess.run(y_hat,feed_dict={x:test_data})\n",
    "sess.close()"
   ]
  },
  {
   "cell_type": "markdown",
   "metadata": {},
   "source": [
    "- 模型评价"
   ]
  },
  {
   "cell_type": "code",
   "execution_count": 11,
   "metadata": {
    "scrolled": false
   },
   "outputs": [
    {
     "name": "stdout",
     "output_type": "stream",
     "text": [
      "train [[39  0  0]\n",
      " [ 0 35  3]\n",
      " [ 0  0 43]]\n",
      "test [[11  0  0]\n",
      " [ 0  8  4]\n",
      " [ 0  0  7]]\n"
     ]
    }
   ],
   "source": [
    "import sklearn.metrics as metrics\n",
    "print('train',metrics.confusion_matrix(train_target.argmax(axis=1),y_train_predict.argmax(axis=1)))\n",
    "print('test',metrics.confusion_matrix(test_target.argmax(axis=1),y_test_predict.argmax(axis=1)))"
   ]
  },
  {
   "cell_type": "code",
   "execution_count": null,
   "metadata": {
    "collapsed": true
   },
   "outputs": [],
   "source": []
  },
  {
   "cell_type": "code",
   "execution_count": null,
   "metadata": {
    "collapsed": true
   },
   "outputs": [],
   "source": []
  },
  {
   "cell_type": "code",
   "execution_count": null,
   "metadata": {
    "collapsed": true
   },
   "outputs": [],
   "source": []
  },
  {
   "cell_type": "code",
   "execution_count": 15,
   "metadata": {},
   "outputs": [
    {
     "data": {
      "text/plain": [
       "'moving_average_variables'"
      ]
     },
     "execution_count": 15,
     "metadata": {},
     "output_type": "execute_result"
    }
   ],
   "source": [
    "tf.GraphKeys.GLOBAL_VARIABLES #所有变量\n",
    "tf.GraphKeys.TRAINABLE_VARIABLES #所有可训练变量\n",
    "tf.GraphKeys.SUMMARIES #日志相关张量\n",
    "tf.GraphKeys.QUEUE_RUNNERS #处理输入的QueueRunner\n",
    "tf.GraphKeys.MOVING_AVERAGE_VARIABLES #所有计算了移动平均值的变量"
   ]
  },
  {
   "cell_type": "code",
   "execution_count": null,
   "metadata": {
    "collapsed": true
   },
   "outputs": [],
   "source": []
  },
  {
   "cell_type": "code",
   "execution_count": null,
   "metadata": {
    "collapsed": true
   },
   "outputs": [],
   "source": []
  },
  {
   "cell_type": "markdown",
   "metadata": {},
   "source": [
    "# 其它代码"
   ]
  },
  {
   "cell_type": "code",
   "execution_count": 16,
   "metadata": {
    "collapsed": true
   },
   "outputs": [],
   "source": [
    "with tf.Graph().as_default():\n",
    "    pass\n"
   ]
  },
  {
   "cell_type": "code",
   "execution_count": 17,
   "metadata": {
    "collapsed": true
   },
   "outputs": [],
   "source": [
    "import math\n",
    "# 参数初始化\n",
    "# 均值0，方差1的正态随机数：\n",
    "weights=tf.Variable(tf.truncated_normal([3,2],stddev=1),name='weights')\n",
    "#正态随机数除以神经元的个数\n",
    "weights=tf.Variable(tf.truncated_normal([500,25],stddev=1/math.sqrt(500)),name='weights')"
   ]
  },
  {
   "cell_type": "code",
   "execution_count": 18,
   "metadata": {},
   "outputs": [
    {
     "ename": "NameError",
     "evalue": "name 'h_fc1' is not defined",
     "output_type": "error",
     "traceback": [
      "\u001b[1;31m---------------------------------------------------------------------------\u001b[0m",
      "\u001b[1;31mNameError\u001b[0m                                 Traceback (most recent call last)",
      "\u001b[1;32m<ipython-input-18-5ad41b83699e>\u001b[0m in \u001b[0;36m<module>\u001b[1;34m()\u001b[0m\n\u001b[0;32m      4\u001b[0m \u001b[1;33m\u001b[0m\u001b[0m\n\u001b[0;32m      5\u001b[0m \u001b[0mkeep_prob\u001b[0m\u001b[1;33m=\u001b[0m\u001b[0mtf\u001b[0m\u001b[1;33m.\u001b[0m\u001b[0mplaceholder\u001b[0m\u001b[1;33m(\u001b[0m\u001b[0mtf\u001b[0m\u001b[1;33m.\u001b[0m\u001b[0mfloat32\u001b[0m\u001b[1;33m)\u001b[0m\u001b[1;33m\u001b[0m\u001b[0m\n\u001b[1;32m----> 6\u001b[1;33m \u001b[0mh_fc1_drop\u001b[0m\u001b[1;33m=\u001b[0m\u001b[0mtf\u001b[0m\u001b[1;33m.\u001b[0m\u001b[0mnn\u001b[0m\u001b[1;33m.\u001b[0m\u001b[0mdropout\u001b[0m\u001b[1;33m(\u001b[0m\u001b[0mh_fc1\u001b[0m\u001b[1;33m,\u001b[0m\u001b[0mkeep_prob\u001b[0m\u001b[1;33m)\u001b[0m\u001b[1;33m\u001b[0m\u001b[0m\n\u001b[0m",
      "\u001b[1;31mNameError\u001b[0m: name 'h_fc1' is not defined"
     ]
    }
   ],
   "source": [
    "# DropOut\n",
    "# 每一轮训练临时性的关闭一些节点\n",
    "# 降低VC维数量，减少过拟合风险\n",
    "\n",
    "keep_prob=tf.placeholder(tf.float32)\n",
    "h_fc1_drop=tf.nn.dropout(h_fc1,keep_prob)"
   ]
  },
  {
   "cell_type": "code",
   "execution_count": null,
   "metadata": {
    "collapsed": true
   },
   "outputs": [],
   "source": []
  }
 ],
 "metadata": {
  "kernelspec": {
   "display_name": "Python 3",
   "language": "python",
   "name": "python3"
  },
  "language_info": {
   "codemirror_mode": {
    "name": "ipython",
    "version": 3
   },
   "file_extension": ".py",
   "mimetype": "text/x-python",
   "name": "python",
   "nbconvert_exporter": "python",
   "pygments_lexer": "ipython3",
   "version": "3.6.2"
  }
 },
 "nbformat": 4,
 "nbformat_minor": 2
}
