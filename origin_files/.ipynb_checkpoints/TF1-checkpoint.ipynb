{
 "cells": [
  {
   "cell_type": "markdown",
   "metadata": {},
   "source": [
    "[大图](TF1.html), [下载](origin_files/TF1.ipynb)"
   ]
  },
  {
   "cell_type": "code",
   "execution_count": 1,
   "metadata": {
    "collapsed": true
   },
   "outputs": [],
   "source": [
    "import tensorflow as tf"
   ]
  },
  {
   "cell_type": "code",
   "execution_count": 2,
   "metadata": {
    "collapsed": true
   },
   "outputs": [],
   "source": [
    "hello=tf.constant('hello!')\n",
    "sess=tf.Session()#创建一个session\n",
    "hey=sess.run(hello)#使用session来运行\n",
    "# sess.close()#关闭session，释放资源"
   ]
  },
  {
   "cell_type": "markdown",
   "metadata": {},
   "source": [
    "# Session\n",
    "## 用法1"
   ]
  },
  {
   "cell_type": "code",
   "execution_count": 3,
   "metadata": {
    "scrolled": true
   },
   "outputs": [
    {
     "data": {
      "text/plain": [
       "array([ 11.10000038,   4.0999999 ], dtype=float32)"
      ]
     },
     "execution_count": 3,
     "metadata": {},
     "output_type": "execute_result"
    }
   ],
   "source": [
    "a=tf.constant([10.1,2.0],name='a')\n",
    "b=tf.constant([1.0,2.1],name='b')\n",
    "sess.run(a+b)"
   ]
  },
  {
   "cell_type": "markdown",
   "metadata": {},
   "source": [
    "## 用法2"
   ]
  },
  {
   "cell_type": "code",
   "execution_count": 4,
   "metadata": {
    "collapsed": true,
    "scrolled": true
   },
   "outputs": [],
   "source": [
    "with tf.Session() as sess:\n",
    "    sess.run(a+b)\n",
    "# 无需调用sess.close()，而是运行完毕后自动释放资源"
   ]
  },
  {
   "cell_type": "code",
   "execution_count": 5,
   "metadata": {
    "scrolled": true
   },
   "outputs": [
    {
     "name": "stdout",
     "output_type": "stream",
     "text": [
      "[ 11.10000038   4.0999999 ]\n"
     ]
    }
   ],
   "source": [
    "sess=tf.Session()\n",
    "result=a+b\n",
    "with sess.as_default():\n",
    "    print(result.eval())"
   ]
  },
  {
   "cell_type": "code",
   "execution_count": 6,
   "metadata": {},
   "outputs": [
    {
     "data": {
      "text/plain": [
       "array([ 11.10000038,   4.0999999 ], dtype=float32)"
      ]
     },
     "execution_count": 6,
     "metadata": {},
     "output_type": "execute_result"
    }
   ],
   "source": [
    "#等价于：\n",
    "sess=tf.Session()\n",
    "result.eval(session=sess)"
   ]
  },
  {
   "cell_type": "markdown",
   "metadata": {},
   "source": [
    "## InteractiveSession\n",
    "注册为默认Session，以后的运算会默认在这个session中运行"
   ]
  },
  {
   "cell_type": "code",
   "execution_count": 7,
   "metadata": {
    "collapsed": true
   },
   "outputs": [],
   "source": [
    "import tensorflow as tf\n",
    "sess=tf.InteractiveSession()"
   ]
  },
  {
   "cell_type": "markdown",
   "metadata": {},
   "source": [
    "## ConfigProto"
   ]
  },
  {
   "cell_type": "code",
   "execution_count": 8,
   "metadata": {
    "collapsed": true
   },
   "outputs": [],
   "source": [
    "config=tf.ConfigProto(allow_soft_placement=True, # 优先使用GPU，GPU不支持的时候换成CPU，而不是报错\n",
    "                     log_device_placement=True) #记录节点分配日志，生产环境下可以设定为False以减小日志量"
   ]
  },
  {
   "cell_type": "code",
   "execution_count": 9,
   "metadata": {
    "collapsed": true
   },
   "outputs": [],
   "source": [
    "sess1=tf.InteractiveSession(config=config)\n",
    "sess2=tf.Session(config=config)"
   ]
  },
  {
   "cell_type": "markdown",
   "metadata": {},
   "source": [
    "# 三种变量\n",
    "Variable，placeholder，constant\n",
    "## constant"
   ]
  },
  {
   "cell_type": "code",
   "execution_count": 10,
   "metadata": {},
   "outputs": [
    {
     "data": {
      "text/plain": [
       "<tf.Tensor 'Const_1:0' shape=(3,) dtype=int32>"
      ]
     },
     "execution_count": 10,
     "metadata": {},
     "output_type": "execute_result"
    }
   ],
   "source": [
    "tf.random_normal #正态分布\n",
    "tf.truncated_normal #正态分布，如果离差超过2标准差，则重新随机\n",
    "tf.random_uniform#均匀分布\n",
    "tf.random_gamma#Gamma分布\n",
    "\n",
    "# 常数：\n",
    "tf.zeros(shape=[1,2])\n",
    "tf.ones\n",
    "tf.fill(dims=(2,3),value=9)#生成一个2*3矩阵，并用9填充\n",
    "tf.constant([1,2,4])"
   ]
  },
  {
   "cell_type": "markdown",
   "metadata": {},
   "source": [
    "## 变量Variable"
   ]
  },
  {
   "cell_type": "code",
   "execution_count": 11,
   "metadata": {
    "collapsed": true
   },
   "outputs": [],
   "source": [
    "import math\n",
    "# 参数初始化\n",
    "# 均值0，方差1的正态随机数：\n",
    "weights=tf.Variable(tf.truncated_normal([3,2],stddev=1),name='weights')\n",
    "#正态随机数除以神经元的个数\n",
    "weights=tf.Variable(tf.truncated_normal([500,25],stddev=1/math.sqrt(500)),name='weights')"
   ]
  },
  {
   "cell_type": "markdown",
   "metadata": {},
   "source": [
    "**tf.Variable定义的tensor，一定要initial之后才可以参与sess.run()** （constant和placeholder不需要）\n",
    "### initial\n",
    "- 可以用w.initializer初始化单个Variable"
   ]
  },
  {
   "cell_type": "code",
   "execution_count": 12,
   "metadata": {},
   "outputs": [
    {
     "data": {
      "text/plain": [
       "array([[ 0.13126138,  0.15415739, -0.00412025, ...,  0.20249385,\n",
       "        -0.05035926, -0.00037837],\n",
       "       [-0.13051626, -0.01251422,  0.0986587 , ..., -0.12137637,\n",
       "         0.08170439,  0.04693044],\n",
       "       [-0.02501756, -0.03296302, -0.06223773, ...,  0.0664258 ,\n",
       "        -0.12619743,  0.07351165],\n",
       "       ..., \n",
       "       [-0.00830263, -0.04572757, -0.12637705, ..., -0.00819175,\n",
       "         0.05800455, -0.00903173],\n",
       "       [ 0.05933888,  0.00148346, -0.16907503, ...,  0.05918168,\n",
       "        -0.03567037,  0.07854413],\n",
       "       [-0.04065916, -0.03985535,  0.04417895, ...,  0.04017632,\n",
       "         0.09296409,  0.08995249]], dtype=float32)"
      ]
     },
     "execution_count": 12,
     "metadata": {},
     "output_type": "execute_result"
    }
   ],
   "source": [
    "biases=tf.Variable(tf.zeros([3]))\n",
    "w2=tf.Variable(weights.initialized_value())\n",
    "w3=tf.Variable(2*weights.initialized_value())\n",
    "sess.run(w2.initializer)\n",
    "sess.run(w3.initializer)\n",
    "sess.run(w2+w3)"
   ]
  },
  {
   "cell_type": "markdown",
   "metadata": {},
   "source": [
    "- 也可以用global_variables_initializer()初始化所有变量"
   ]
  },
  {
   "cell_type": "code",
   "execution_count": 13,
   "metadata": {},
   "outputs": [
    {
     "data": {
      "text/plain": [
       "array([[-0.00205631, -0.00970563, -0.01022588, ..., -0.09414919,\n",
       "         0.08239126, -0.08883838],\n",
       "       [-0.06780629,  0.02070411,  0.13301378, ...,  0.05601959,\n",
       "        -0.05969951, -0.09755178],\n",
       "       [-0.15150891,  0.04355581,  0.12243671, ..., -0.05022895,\n",
       "        -0.0415826 ,  0.00454292],\n",
       "       ..., \n",
       "       [ 0.15762523, -0.00304227, -0.01680966, ..., -0.03776013,\n",
       "         0.07798047, -0.02501288],\n",
       "       [ 0.02197371,  0.04468084,  0.00901349, ..., -0.09289805,\n",
       "        -0.13657753, -0.02570865],\n",
       "       [ 0.0277605 ,  0.09742073, -0.07047919, ...,  0.05783664,\n",
       "        -0.14611217,  0.13138409]], dtype=float32)"
      ]
     },
     "execution_count": 13,
     "metadata": {},
     "output_type": "execute_result"
    }
   ],
   "source": [
    "w4=tf.Variable(weights.initialized_value())\n",
    "w5=tf.Variable(weights.initialized_value())\n",
    "init=tf.global_variables_initializer()\n",
    "sess.run(init)\n",
    "sess.run(w4+w5)"
   ]
  },
  {
   "cell_type": "markdown",
   "metadata": {},
   "source": [
    "- global_variables_initializer的另一种写法"
   ]
  },
  {
   "cell_type": "code",
   "execution_count": 14,
   "metadata": {},
   "outputs": [
    {
     "data": {
      "text/plain": [
       "array([[-0.00205631, -0.00970563, -0.01022588, ..., -0.09414919,\n",
       "         0.08239126, -0.08883838],\n",
       "       [-0.06780629,  0.02070411,  0.13301378, ...,  0.05601959,\n",
       "        -0.05969951, -0.09755178],\n",
       "       [-0.15150891,  0.04355581,  0.12243671, ..., -0.05022895,\n",
       "        -0.0415826 ,  0.00454292],\n",
       "       ..., \n",
       "       [ 0.15762523, -0.00304227, -0.01680966, ..., -0.03776013,\n",
       "         0.07798047, -0.02501288],\n",
       "       [ 0.02197371,  0.04468084,  0.00901349, ..., -0.09289805,\n",
       "        -0.13657753, -0.02570865],\n",
       "       [ 0.0277605 ,  0.09742073, -0.07047919, ...,  0.05783664,\n",
       "        -0.14611217,  0.13138409]], dtype=float32)"
      ]
     },
     "execution_count": 14,
     "metadata": {},
     "output_type": "execute_result"
    }
   ],
   "source": [
    "w4=tf.Variable(weights.initialized_value())\n",
    "w5=tf.Variable(weights.initialized_value())\n",
    "tf.global_variables_initializer().run(session=sess)\n",
    "sess.run(w4+w5)"
   ]
  },
  {
   "cell_type": "markdown",
   "metadata": {},
   "source": [
    "有关Variable用于迭代的例子"
   ]
  },
  {
   "cell_type": "code",
   "execution_count": 21,
   "metadata": {},
   "outputs": [
    {
     "name": "stdout",
     "output_type": "stream",
     "text": [
      "1\n",
      "2\n",
      "3\n"
     ]
    }
   ],
   "source": [
    "state=tf.Variable(0,name='counter')\n",
    "one=tf.constant(1)\n",
    "new_value=tf.add(state,one)\n",
    "update=tf.assign(state,new_value)\n",
    "sess.run(tf.global_variables_initializer())\n",
    "for i in range(3):\n",
    "    sess.run(update)\n",
    "    print(sess.run(state))"
   ]
  },
  {
   "cell_type": "markdown",
   "metadata": {},
   "source": [
    "## placeholder占位\n",
    "定义一个位置，这个位置的数据在运行时才指定"
   ]
  },
  {
   "cell_type": "code",
   "execution_count": 15,
   "metadata": {},
   "outputs": [
    {
     "data": {
      "text/plain": [
       "array([[ 1.37753165,  1.93793106],\n",
       "       [-4.26847744, -3.17184687],\n",
       "       [-2.28297544, -5.22129202]], dtype=float32)"
      ]
     },
     "execution_count": 15,
     "metadata": {},
     "output_type": "execute_result"
    }
   ],
   "source": [
    "from scipy.stats import norm\n",
    "rv=norm()\n",
    "\n",
    "x=tf.placeholder(shape=(None,6),dtype=tf.float32)\n",
    "m=tf.random_normal(shape=(6,2))\n",
    "y=tf.matmul(x,m)\n",
    "sess.run(tf.global_variables_initializer()) \n",
    "sess.run(y,feed_dict={x:rv.rvs(size=(3,6))})"
   ]
  },
  {
   "cell_type": "markdown",
   "metadata": {},
   "source": [
    "# 运算符\n",
    "### 标量运算\n",
    "Add,Sub,Mul,Div,Exp,Log,Greater,Less,Equal\n",
    "### 向量运算\n",
    "Concat, Slice, Split,Constant,Rank,Shape,Shuffle\n",
    "### 矩阵运算\n",
    "MatMul, MatrixInvers,MatrixDeterminant\n",
    "### 带状态运算\n",
    "Variable，Assign，AssignAdd\n",
    "### 神经网络组件\n",
    "SoftMax，Sigmoid，ReLU，Convolution2D，MaxPooling\n",
    "### 保存\n",
    "Save，Restore\n",
    "### 队列和同步运算\n",
    "Enqueue，Deq\n",
    "ueue，MutexAcquire，MuterRelease\n",
    "### 控制流\n",
    "Merge，Switch，Enter，Leave，NextIteration"
   ]
  },
  {
   "cell_type": "code",
   "execution_count": 16,
   "metadata": {
    "collapsed": true
   },
   "outputs": [],
   "source": [
    "from scipy.stats import norm\n",
    "rv=norm()"
   ]
  },
  {
   "cell_type": "code",
   "execution_count": 17,
   "metadata": {},
   "outputs": [
    {
     "data": {
      "text/plain": [
       "array([[-2.19992566,  5.92884064],\n",
       "       [ 1.90302885, -3.24410677],\n",
       "       [ 0.22342104,  0.45572847]], dtype=float32)"
      ]
     },
     "execution_count": 17,
     "metadata": {},
     "output_type": "execute_result"
    }
   ],
   "source": [
    "x=tf.placeholder(shape=(None,6),dtype=tf.float32)\n",
    "w1=tf.Variable(tf.random_normal(shape=(6,2)))\n",
    "a=tf.matmul(x,w1)#矩阵乘法\n",
    "sess.run(tf.global_variables_initializer()) \n",
    "sess.run(a,feed_dict={x:rv.rvs(size=(3,6))})"
   ]
  },
  {
   "cell_type": "code",
   "execution_count": null,
   "metadata": {
    "collapsed": true
   },
   "outputs": [],
   "source": [
    "# tf.add(a,b)"
   ]
  },
  {
   "cell_type": "markdown",
   "metadata": {},
   "source": [
    "# 激活函数"
   ]
  },
  {
   "cell_type": "code",
   "execution_count": 22,
   "metadata": {},
   "outputs": [
    {
     "data": {
      "text/plain": [
       "<function tensorflow.python.ops.math_ops.tanh>"
      ]
     },
     "execution_count": 22,
     "metadata": {},
     "output_type": "execute_result"
    }
   ],
   "source": [
    "tf.nn.relu\n",
    "tf.sigmoid\n",
    "tf.tanh"
   ]
  },
  {
   "cell_type": "code",
   "execution_count": 24,
   "metadata": {},
   "outputs": [],
   "source": [
    "# a=tf.nn.relu(tf.matmul(x,w1)+biases1)\n",
    "# y=tf.nn.relu(tf.matmul(a,w2)+biases2)"
   ]
  },
  {
   "cell_type": "markdown",
   "metadata": {},
   "source": [
    "### 1. dropout"
   ]
  },
  {
   "cell_type": "code",
   "execution_count": 25,
   "metadata": {},
   "outputs": [
    {
     "ename": "NameError",
     "evalue": "name 'hidden1' is not defined",
     "output_type": "error",
     "traceback": [
      "\u001b[1;31m---------------------------------------------------------------------------\u001b[0m",
      "\u001b[1;31mNameError\u001b[0m                                 Traceback (most recent call last)",
      "\u001b[1;32m<ipython-input-25-f9a6d17462dc>\u001b[0m in \u001b[0;36m<module>\u001b[1;34m()\u001b[0m\n\u001b[0;32m      1\u001b[0m \u001b[0mkeep_prob\u001b[0m\u001b[1;33m=\u001b[0m\u001b[0mtf\u001b[0m\u001b[1;33m.\u001b[0m\u001b[0mplaceholder\u001b[0m\u001b[1;33m(\u001b[0m\u001b[0mtf\u001b[0m\u001b[1;33m.\u001b[0m\u001b[0mfloat32\u001b[0m\u001b[1;33m)\u001b[0m\u001b[1;31m#训练时小于1，预测时等于1，所以还是用placeholder\u001b[0m\u001b[1;33m\u001b[0m\u001b[0m\n\u001b[1;32m----> 2\u001b[1;33m \u001b[0mhidden1_drop\u001b[0m\u001b[1;33m=\u001b[0m\u001b[0mtf\u001b[0m\u001b[1;33m.\u001b[0m\u001b[0mnn\u001b[0m\u001b[1;33m.\u001b[0m\u001b[0mdropout\u001b[0m\u001b[1;33m(\u001b[0m\u001b[0mhidden1\u001b[0m\u001b[1;33m,\u001b[0m\u001b[0mkeep_prob\u001b[0m\u001b[1;33m)\u001b[0m\u001b[1;33m\u001b[0m\u001b[0m\n\u001b[0m",
      "\u001b[1;31mNameError\u001b[0m: name 'hidden1' is not defined"
     ]
    }
   ],
   "source": [
    "keep_prob=tf.placeholder(tf.float32)#训练时小于1，预测时等于1，所以使用placeholder\n",
    "hidden1_drop=tf.nn.dropout(hidden1,keep_prob)"
   ]
  },
  {
   "cell_type": "markdown",
   "metadata": {},
   "source": [
    "### 2. CNN相关"
   ]
  },
  {
   "cell_type": "code",
   "execution_count": null,
   "metadata": {
    "collapsed": true
   },
   "outputs": [],
   "source": [
    "tf.nn.conv2d(x,kernel,strides=[1,1,1,1],padding='SAME')\n",
    "#strides[0,1]数表示卷积核的尺寸，\n",
    "#stride[2]表示channel数量，灰度图片是1，RGB图是3\n",
    "#stride[3]表示卷积核的数量\n",
    "#padding='SAME'表示边界加上padding，使得卷积的输入和输出保持同样的尺寸\n",
    "\n",
    "tf.nn.max_pool(x,ksize=[1,2,2,1],strides=[1,2,2,1],padding='SAME')#横竖步长为2，"
   ]
  },
  {
   "cell_type": "code",
   "execution_count": null,
   "metadata": {
    "collapsed": true
   },
   "outputs": [],
   "source": [
    "tf.nn.lrn(pool1,4,bias=1,alpha=0.001/9.0,beta=0.75)\n",
    "#LRN模仿生物的侧抑制机制，对局部神经元创建竞争环境，使其中响应大的值相对更大，并抑制其它反馈小的神经元。从而增强泛化能力\n",
    "#可以用于Pooling之后，也可以用于conv之后、Pooling之前\n",
    "#适用于ReLu这种没有上界的激活函数，不适合Sigmoid这种有固定边界，或者能抑制过大值得激活函数"
   ]
  },
  {
   "cell_type": "markdown",
   "metadata": {},
   "source": [
    "batch归一化"
   ]
  },
  {
   "cell_type": "code",
   "execution_count": null,
   "metadata": {
    "collapsed": true
   },
   "outputs": [],
   "source": [
    "h1=tf.contrib.layers.fully_connected(x,100,activation_fn=None,scope='bn')\n",
    "h2=tf.contrib.layers.batch_norm(h1,center=True,scale=True,is_training=phase,scope='bn')"
   ]
  },
  {
   "cell_type": "markdown",
   "metadata": {},
   "source": [
    "# iris为例的一个完整的神经网络训练过程"
   ]
  },
  {
   "cell_type": "code",
   "execution_count": 1,
   "metadata": {
    "collapsed": true
   },
   "outputs": [],
   "source": [
    "import tensorflow as tf\n",
    "import pandas as pd\n",
    "import numpy as np\n",
    "sess=tf.Session()"
   ]
  },
  {
   "cell_type": "markdown",
   "metadata": {},
   "source": [
    "- 加载数据并dummy"
   ]
  },
  {
   "cell_type": "code",
   "execution_count": 2,
   "metadata": {
    "collapsed": true
   },
   "outputs": [],
   "source": [
    "from sklearn import datasets\n",
    "dataset=datasets.load_iris()\n",
    "data=dataset.data\n",
    "target=dataset.target\n",
    "X=data\n",
    "target_df=pd.Series(target)\n",
    "target_df=pd.get_dummies(target_df)\n",
    "target=target_df.values\n",
    "from sklearn import model_selection\n",
    "train_data,test_data,train_target,test_target=model_selection.train_test_split(\n",
    "    data,target,test_size=0.2,train_size=0.8,random_state=12345)#划分训练集和测试集"
   ]
  },
  {
   "cell_type": "markdown",
   "metadata": {},
   "source": [
    "- 基本参数"
   ]
  },
  {
   "cell_type": "code",
   "execution_count": 3,
   "metadata": {
    "collapsed": true
   },
   "outputs": [],
   "source": [
    "X=train_data\n",
    "Y=train_target\n",
    "dataset_size=data.shape[0]\n",
    "batch_size=10"
   ]
  },
  {
   "cell_type": "markdown",
   "metadata": {},
   "source": [
    "- 定义张量"
   ]
  },
  {
   "cell_type": "code",
   "execution_count": 4,
   "metadata": {
    "collapsed": true
   },
   "outputs": [],
   "source": [
    "w1=tf.Variable(tf.truncated_normal(shape=(4,10),stddev=1),name='weight1')\n",
    "b1=tf.Variable(tf.truncated_normal(shape=(1,10),stddev=1),name='bias1')\n",
    "w2=tf.Variable(tf.truncated_normal(shape=(10,3),stddev=1),name='weight2')\n",
    "b2=tf.Variable(tf.truncated_normal(shape=(1,3),stddev=1),name='bias2')\n",
    "x=tf.placeholder(shape=(None,4),dtype=tf.float32)\n",
    "y_=tf.placeholder(shape=(None,3),dtype=tf.float32)"
   ]
  },
  {
   "cell_type": "markdown",
   "metadata": {},
   "source": [
    "- 信号正向传播"
   ]
  },
  {
   "cell_type": "code",
   "execution_count": 5,
   "metadata": {
    "collapsed": true
   },
   "outputs": [],
   "source": [
    "a=tf.nn.sigmoid(tf.matmul(x,w1)+b1)\n",
    "y=tf.nn.softmax(tf.matmul(a,w2)+b2)"
   ]
  },
  {
   "cell_type": "markdown",
   "metadata": {},
   "source": [
    "- 误差与优化"
   ]
  },
  {
   "cell_type": "code",
   "execution_count": 6,
   "metadata": {
    "collapsed": true
   },
   "outputs": [],
   "source": [
    "cross_entropy=tf.reduce_mean(-tf.reduce_sum(y_*tf.log(y),reduction_indices=[1]))\n",
    "train_step=tf.train.GradientDescentOptimizer(learning_rate=0.001).minimize(cross_entropy)"
   ]
  },
  {
   "cell_type": "markdown",
   "metadata": {},
   "source": [
    "- 迭代学习"
   ]
  },
  {
   "cell_type": "code",
   "execution_count": 7,
   "metadata": {},
   "outputs": [
    {
     "name": "stdout",
     "output_type": "stream",
     "text": [
      "0 training step,cross entropy is 1.7206\n",
      "5000 training step,cross entropy is 0.744731\n",
      "10000 training step,cross entropy is 0.577951\n",
      "15000 training step,cross entropy is 0.49825\n",
      "20000 training step,cross entropy is 0.435902\n",
      "25000 training step,cross entropy is 0.380805\n",
      "30000 training step,cross entropy is 0.33211\n",
      "35000 training step,cross entropy is 0.291082\n",
      "40000 training step,cross entropy is 0.257882\n",
      "45000 training step,cross entropy is 0.231364\n"
     ]
    }
   ],
   "source": [
    "sess.run(tf.global_variables_initializer())#全部初始化, 千万别忘了！\n",
    "\n",
    "STEPS=50000\n",
    "for i in range(STEPS):\n",
    "    start=(i*batch_size)%batch_size\n",
    "    end=min(start+batch_size,dataset_size)\n",
    "    sess.run(train_step,feed_dict={x:X[start:end],y_:Y[start:end]})\n",
    "    if i%5000==0:\n",
    "        total_cross_entropy=sess.run(cross_entropy,feed_dict={x:X,y_:Y})\n",
    "        print(i,'training step,cross entropy is',total_cross_entropy)"
   ]
  },
  {
   "cell_type": "markdown",
   "metadata": {},
   "source": [
    "- predict"
   ]
  },
  {
   "cell_type": "code",
   "execution_count": 8,
   "metadata": {
    "collapsed": true
   },
   "outputs": [],
   "source": [
    "y_train_predict=sess.run(y,feed_dict={x:train_data})\n",
    "y_test_predict=sess.run(y,feed_dict={x:test_data})\n",
    "# sess.close()"
   ]
  },
  {
   "cell_type": "markdown",
   "metadata": {},
   "source": [
    "- 模型评价"
   ]
  },
  {
   "cell_type": "code",
   "execution_count": 9,
   "metadata": {
    "scrolled": false
   },
   "outputs": [
    {
     "name": "stdout",
     "output_type": "stream",
     "text": [
      "train [[39  0  0]\n",
      " [ 0 34  4]\n",
      " [ 0  0 43]]\n",
      "test [[11  0  0]\n",
      " [ 0 10  2]\n",
      " [ 0  0  7]]\n"
     ]
    }
   ],
   "source": [
    "import sklearn.metrics as metrics\n",
    "print('train',metrics.confusion_matrix(train_target.argmax(axis=1),y_train_predict.argmax(axis=1)))\n",
    "print('test',metrics.confusion_matrix(test_target.argmax(axis=1),y_test_predict.argmax(axis=1)))"
   ]
  },
  {
   "cell_type": "code",
   "execution_count": 10,
   "metadata": {},
   "outputs": [
    {
     "data": {
      "text/plain": [
       "0.96666664"
      ]
     },
     "execution_count": 10,
     "metadata": {},
     "output_type": "execute_result"
    }
   ],
   "source": [
    "correct_prediction=tf.equal(tf.argmax(y,axis=1),tf.argmax(y_,axis=1))\n",
    "accuracy=tf.reduce_mean(tf.cast(correct_prediction,tf.float32))\n",
    "sess.run(accuracy,feed_dict={x:train_data,y_:train_target})"
   ]
  },
  {
   "cell_type": "code",
   "execution_count": null,
   "metadata": {
    "collapsed": true
   },
   "outputs": [],
   "source": []
  },
  {
   "cell_type": "code",
   "execution_count": null,
   "metadata": {
    "collapsed": true
   },
   "outputs": [],
   "source": [
    "tf.GraphKeys.GLOBAL_VARIABLES #所有变量\n",
    "tf.GraphKeys.TRAINABLE_VARIABLES #所有可训练变量\n",
    "tf.GraphKeys.SUMMARIES #日志相关张量\n",
    "tf.GraphKeys.QUEUE_RUNNERS #处理输入的QueueRunner\n",
    "tf.GraphKeys.MOVING_AVERAGE_VARIABLES #所有计算了移动平均值的变量"
   ]
  },
  {
   "cell_type": "code",
   "execution_count": null,
   "metadata": {
    "collapsed": true
   },
   "outputs": [],
   "source": []
  },
  {
   "cell_type": "code",
   "execution_count": null,
   "metadata": {
    "collapsed": true
   },
   "outputs": [],
   "source": []
  },
  {
   "cell_type": "markdown",
   "metadata": {},
   "source": [
    "# 其它代码"
   ]
  },
  {
   "cell_type": "code",
   "execution_count": null,
   "metadata": {
    "collapsed": true
   },
   "outputs": [],
   "source": [
    "with tf.Graph().as_default():\n",
    "    pass\n"
   ]
  },
  {
   "cell_type": "code",
   "execution_count": null,
   "metadata": {
    "collapsed": true
   },
   "outputs": [],
   "source": [
    "import math\n",
    "# 参数初始化\n",
    "# 均值0，方差1的正态随机数：\n",
    "weights=tf.Variable(tf.truncated_normal([3,2],stddev=1),name='weights')\n",
    "#正态随机数除以神经元的个数\n",
    "weights=tf.Variable(tf.truncated_normal([500,25],stddev=1/math.sqrt(500)),name='weights')"
   ]
  },
  {
   "cell_type": "code",
   "execution_count": null,
   "metadata": {
    "collapsed": true
   },
   "outputs": [],
   "source": [
    "# DropOut\n",
    "# 每一轮训练临时性的关闭一些节点\n",
    "# 降低VC维数量，减少过拟合风险\n",
    "\n",
    "keep_prob=tf.placeholder(tf.float32)\n",
    "h_fc1_drop=tf.nn.dropout(h_fc1,keep_prob)"
   ]
  },
  {
   "cell_type": "markdown",
   "metadata": {
    "collapsed": true
   },
   "source": [
    "# slim\n",
    "很有用的东西，可以不用设置中间变量，给函数赋值"
   ]
  },
  {
   "cell_type": "code",
   "execution_count": 6,
   "metadata": {
    "collapsed": true
   },
   "outputs": [],
   "source": [
    "slim=tf.contrib.slim\n",
    "with slim.arg_scope([slim.conv2d,slim.fully_connected],weights_regularizer=slim.l2_regularizer(weights_decay)):\n",
    "    pass\n"
   ]
  }
 ],
 "metadata": {
  "kernelspec": {
   "display_name": "Python 3",
   "language": "python",
   "name": "python3"
  },
  "language_info": {
   "codemirror_mode": {
    "name": "ipython",
    "version": 3
   },
   "file_extension": ".py",
   "mimetype": "text/x-python",
   "name": "python",
   "nbconvert_exporter": "python",
   "pygments_lexer": "ipython3",
   "version": "3.6.2"
  }
 },
 "nbformat": 4,
 "nbformat_minor": 2
}
