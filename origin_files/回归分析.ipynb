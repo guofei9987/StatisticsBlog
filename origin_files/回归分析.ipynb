{
 "cells": [
  {
   "cell_type": "markdown",
   "metadata": {},
   "source": [
    "# 线性回归模型与诊断\n",
    "[大图](回归分析.html), [下载](origin_files/回归分析.ipynb)  \n",
    "数据源：http://archive.ics.uci.edu/ml/datasets/Auto+MPG  \n",
    "\n",
    "## Attribute Information:\n",
    "1. mpg: continuous \n",
    "2. cylinders: multi-valued discrete \n",
    "3. displacement: continuous \n",
    "4. horsepower: continuous \n",
    "5. weight: continuous \n",
    "6. acceleration: continuous \n",
    "7. model year: multi-valued discrete \n",
    "8. origin: multi-valued discrete \n",
    "9. car name: string (unique for each instance)"
   ]
  },
  {
   "cell_type": "code",
   "execution_count": 1,
   "metadata": {},
   "outputs": [
    {
     "name": "stderr",
     "output_type": "stream",
     "text": [
      "C:\\Users\\guofei\\Anaconda3\\lib\\site-packages\\statsmodels\\compat\\pandas.py:56: FutureWarning: The pandas.core.datetools module is deprecated and will be removed in a future version. Please use the pandas.tseries module instead.\n",
      "  from pandas.core import datetools\n"
     ]
    }
   ],
   "source": [
    "%matplotlib inline\n",
    "\n",
    "import matplotlib.pyplot as plt\n",
    "import os\n",
    "import numpy as np\n",
    "import pandas as pd\n",
    "import statsmodels.api as sm\n",
    "from statsmodels.formula.api import ols"
   ]
  },
  {
   "cell_type": "code",
   "execution_count": 2,
   "metadata": {
    "scrolled": true
   },
   "outputs": [
    {
     "data": {
      "text/html": [
       "<div>\n",
       "<style>\n",
       "    .dataframe thead tr:only-child th {\n",
       "        text-align: right;\n",
       "    }\n",
       "\n",
       "    .dataframe thead th {\n",
       "        text-align: left;\n",
       "    }\n",
       "\n",
       "    .dataframe tbody tr th {\n",
       "        vertical-align: top;\n",
       "    }\n",
       "</style>\n",
       "<table border=\"1\" class=\"dataframe\">\n",
       "  <thead>\n",
       "    <tr style=\"text-align: right;\">\n",
       "      <th></th>\n",
       "      <th>mpg</th>\n",
       "      <th>cylinders</th>\n",
       "      <th>displacement</th>\n",
       "      <th>horsepower</th>\n",
       "      <th>weight</th>\n",
       "      <th>acceleration</th>\n",
       "      <th>model_year</th>\n",
       "      <th>origin</th>\n",
       "      <th>car_name</th>\n",
       "    </tr>\n",
       "  </thead>\n",
       "  <tbody>\n",
       "    <tr>\n",
       "      <th>0</th>\n",
       "      <td>18.0</td>\n",
       "      <td>8</td>\n",
       "      <td>307.0</td>\n",
       "      <td>130.0</td>\n",
       "      <td>3504.0</td>\n",
       "      <td>12.0</td>\n",
       "      <td>70</td>\n",
       "      <td>1</td>\n",
       "      <td>chevrolet chevelle malibu</td>\n",
       "    </tr>\n",
       "    <tr>\n",
       "      <th>1</th>\n",
       "      <td>15.0</td>\n",
       "      <td>8</td>\n",
       "      <td>350.0</td>\n",
       "      <td>165.0</td>\n",
       "      <td>3693.0</td>\n",
       "      <td>11.5</td>\n",
       "      <td>70</td>\n",
       "      <td>1</td>\n",
       "      <td>buick skylark 320</td>\n",
       "    </tr>\n",
       "    <tr>\n",
       "      <th>2</th>\n",
       "      <td>18.0</td>\n",
       "      <td>8</td>\n",
       "      <td>318.0</td>\n",
       "      <td>150.0</td>\n",
       "      <td>3436.0</td>\n",
       "      <td>11.0</td>\n",
       "      <td>70</td>\n",
       "      <td>1</td>\n",
       "      <td>plymouth satellite</td>\n",
       "    </tr>\n",
       "    <tr>\n",
       "      <th>3</th>\n",
       "      <td>16.0</td>\n",
       "      <td>8</td>\n",
       "      <td>304.0</td>\n",
       "      <td>150.0</td>\n",
       "      <td>3433.0</td>\n",
       "      <td>12.0</td>\n",
       "      <td>70</td>\n",
       "      <td>1</td>\n",
       "      <td>amc rebel sst</td>\n",
       "    </tr>\n",
       "    <tr>\n",
       "      <th>4</th>\n",
       "      <td>17.0</td>\n",
       "      <td>8</td>\n",
       "      <td>302.0</td>\n",
       "      <td>140.0</td>\n",
       "      <td>3449.0</td>\n",
       "      <td>10.5</td>\n",
       "      <td>70</td>\n",
       "      <td>1</td>\n",
       "      <td>ford torino</td>\n",
       "    </tr>\n",
       "  </tbody>\n",
       "</table>\n",
       "</div>"
      ],
      "text/plain": [
       "    mpg  cylinders  displacement  horsepower  weight  acceleration  \\\n",
       "0  18.0          8         307.0       130.0  3504.0          12.0   \n",
       "1  15.0          8         350.0       165.0  3693.0          11.5   \n",
       "2  18.0          8         318.0       150.0  3436.0          11.0   \n",
       "3  16.0          8         304.0       150.0  3433.0          12.0   \n",
       "4  17.0          8         302.0       140.0  3449.0          10.5   \n",
       "\n",
       "   model_year  origin                   car_name  \n",
       "0          70       1  chevrolet chevelle malibu  \n",
       "1          70       1          buick skylark 320  \n",
       "2          70       1         plymouth satellite  \n",
       "3          70       1              amc rebel sst  \n",
       "4          70       1                ford torino  "
      ]
     },
     "execution_count": 2,
     "metadata": {},
     "output_type": "execute_result"
    }
   ],
   "source": [
    "df=pd.read_csv('http://archive.ics.uci.edu/ml/machine-learning-databases/auto-mpg/auto-mpg.data',sep='\\s+',na_values='?',\n",
    "               header=None,names=['mpg','cylinders','displacement','horsepower','weight','acceleration','model_year','origin','car_name'])\n",
    "df.head()"
   ]
  },
  {
   "cell_type": "markdown",
   "metadata": {},
   "source": [
    "## 数据清洗"
   ]
  },
  {
   "cell_type": "code",
   "execution_count": 3,
   "metadata": {
    "collapsed": true
   },
   "outputs": [],
   "source": [
    "df=df.dropna(how='any')"
   ]
  },
  {
   "cell_type": "code",
   "execution_count": 4,
   "metadata": {},
   "outputs": [
    {
     "data": {
      "text/html": [
       "<div>\n",
       "<style>\n",
       "    .dataframe thead tr:only-child th {\n",
       "        text-align: right;\n",
       "    }\n",
       "\n",
       "    .dataframe thead th {\n",
       "        text-align: left;\n",
       "    }\n",
       "\n",
       "    .dataframe tbody tr th {\n",
       "        vertical-align: top;\n",
       "    }\n",
       "</style>\n",
       "<table border=\"1\" class=\"dataframe\">\n",
       "  <thead>\n",
       "    <tr style=\"text-align: right;\">\n",
       "      <th></th>\n",
       "      <th>mpg</th>\n",
       "      <th>cylinders</th>\n",
       "      <th>displacement</th>\n",
       "      <th>horsepower</th>\n",
       "      <th>weight</th>\n",
       "      <th>acceleration</th>\n",
       "      <th>model_year</th>\n",
       "      <th>origin</th>\n",
       "    </tr>\n",
       "  </thead>\n",
       "  <tbody>\n",
       "    <tr>\n",
       "      <th>count</th>\n",
       "      <td>392.000000</td>\n",
       "      <td>392.000000</td>\n",
       "      <td>392.000000</td>\n",
       "      <td>392.000000</td>\n",
       "      <td>392.000000</td>\n",
       "      <td>392.000000</td>\n",
       "      <td>392.000000</td>\n",
       "      <td>392.000000</td>\n",
       "    </tr>\n",
       "    <tr>\n",
       "      <th>mean</th>\n",
       "      <td>23.445918</td>\n",
       "      <td>5.471939</td>\n",
       "      <td>194.411990</td>\n",
       "      <td>104.469388</td>\n",
       "      <td>2977.584184</td>\n",
       "      <td>15.541327</td>\n",
       "      <td>75.979592</td>\n",
       "      <td>1.576531</td>\n",
       "    </tr>\n",
       "    <tr>\n",
       "      <th>std</th>\n",
       "      <td>7.805007</td>\n",
       "      <td>1.705783</td>\n",
       "      <td>104.644004</td>\n",
       "      <td>38.491160</td>\n",
       "      <td>849.402560</td>\n",
       "      <td>2.758864</td>\n",
       "      <td>3.683737</td>\n",
       "      <td>0.805518</td>\n",
       "    </tr>\n",
       "    <tr>\n",
       "      <th>min</th>\n",
       "      <td>9.000000</td>\n",
       "      <td>3.000000</td>\n",
       "      <td>68.000000</td>\n",
       "      <td>46.000000</td>\n",
       "      <td>1613.000000</td>\n",
       "      <td>8.000000</td>\n",
       "      <td>70.000000</td>\n",
       "      <td>1.000000</td>\n",
       "    </tr>\n",
       "    <tr>\n",
       "      <th>25%</th>\n",
       "      <td>17.000000</td>\n",
       "      <td>4.000000</td>\n",
       "      <td>105.000000</td>\n",
       "      <td>75.000000</td>\n",
       "      <td>2225.250000</td>\n",
       "      <td>13.775000</td>\n",
       "      <td>73.000000</td>\n",
       "      <td>1.000000</td>\n",
       "    </tr>\n",
       "    <tr>\n",
       "      <th>50%</th>\n",
       "      <td>22.750000</td>\n",
       "      <td>4.000000</td>\n",
       "      <td>151.000000</td>\n",
       "      <td>93.500000</td>\n",
       "      <td>2803.500000</td>\n",
       "      <td>15.500000</td>\n",
       "      <td>76.000000</td>\n",
       "      <td>1.000000</td>\n",
       "    </tr>\n",
       "    <tr>\n",
       "      <th>75%</th>\n",
       "      <td>29.000000</td>\n",
       "      <td>8.000000</td>\n",
       "      <td>275.750000</td>\n",
       "      <td>126.000000</td>\n",
       "      <td>3614.750000</td>\n",
       "      <td>17.025000</td>\n",
       "      <td>79.000000</td>\n",
       "      <td>2.000000</td>\n",
       "    </tr>\n",
       "    <tr>\n",
       "      <th>max</th>\n",
       "      <td>46.600000</td>\n",
       "      <td>8.000000</td>\n",
       "      <td>455.000000</td>\n",
       "      <td>230.000000</td>\n",
       "      <td>5140.000000</td>\n",
       "      <td>24.800000</td>\n",
       "      <td>82.000000</td>\n",
       "      <td>3.000000</td>\n",
       "    </tr>\n",
       "  </tbody>\n",
       "</table>\n",
       "</div>"
      ],
      "text/plain": [
       "              mpg   cylinders  displacement  horsepower       weight  \\\n",
       "count  392.000000  392.000000    392.000000  392.000000   392.000000   \n",
       "mean    23.445918    5.471939    194.411990  104.469388  2977.584184   \n",
       "std      7.805007    1.705783    104.644004   38.491160   849.402560   \n",
       "min      9.000000    3.000000     68.000000   46.000000  1613.000000   \n",
       "25%     17.000000    4.000000    105.000000   75.000000  2225.250000   \n",
       "50%     22.750000    4.000000    151.000000   93.500000  2803.500000   \n",
       "75%     29.000000    8.000000    275.750000  126.000000  3614.750000   \n",
       "max     46.600000    8.000000    455.000000  230.000000  5140.000000   \n",
       "\n",
       "       acceleration  model_year      origin  \n",
       "count    392.000000  392.000000  392.000000  \n",
       "mean      15.541327   75.979592    1.576531  \n",
       "std        2.758864    3.683737    0.805518  \n",
       "min        8.000000   70.000000    1.000000  \n",
       "25%       13.775000   73.000000    1.000000  \n",
       "50%       15.500000   76.000000    1.000000  \n",
       "75%       17.025000   79.000000    2.000000  \n",
       "max       24.800000   82.000000    3.000000  "
      ]
     },
     "execution_count": 4,
     "metadata": {},
     "output_type": "execute_result"
    }
   ],
   "source": [
    "df.describe()"
   ]
  },
  {
   "cell_type": "markdown",
   "metadata": {},
   "source": [
    "### 相关性分析\n",
    "散点图"
   ]
  },
  {
   "cell_type": "code",
   "execution_count": 5,
   "metadata": {},
   "outputs": [
    {
     "data": {
      "image/png": "[encoded data removed]",
      "text/plain": [
       "<matplotlib.figure.Figure at 0x29151ecea20>"
      ]
     },
     "metadata": {},
     "output_type": "display_data"
    }
   ],
   "source": [
    "plt.plot(df.loc[:,'displacement'],df.loc[:,'mpg'],'.')\n",
    "plt.show()"
   ]
  },
  {
   "cell_type": "code",
   "execution_count": 6,
   "metadata": {},
   "outputs": [
    {
     "data": {
      "text/html": [
       "<div>\n",
       "<style>\n",
       "    .dataframe thead tr:only-child th {\n",
       "        text-align: right;\n",
       "    }\n",
       "\n",
       "    .dataframe thead th {\n",
       "        text-align: left;\n",
       "    }\n",
       "\n",
       "    .dataframe tbody tr th {\n",
       "        vertical-align: top;\n",
       "    }\n",
       "</style>\n",
       "<table border=\"1\" class=\"dataframe\">\n",
       "  <thead>\n",
       "    <tr style=\"text-align: right;\">\n",
       "      <th></th>\n",
       "      <th>mpg</th>\n",
       "      <th>cylinders</th>\n",
       "      <th>displacement</th>\n",
       "      <th>horsepower</th>\n",
       "      <th>weight</th>\n",
       "      <th>acceleration</th>\n",
       "      <th>model_year</th>\n",
       "      <th>origin</th>\n",
       "    </tr>\n",
       "  </thead>\n",
       "  <tbody>\n",
       "    <tr>\n",
       "      <th>mpg</th>\n",
       "      <td>1.000000</td>\n",
       "      <td>-0.777618</td>\n",
       "      <td>-0.805127</td>\n",
       "      <td>-0.778427</td>\n",
       "      <td>-0.832244</td>\n",
       "      <td>0.423329</td>\n",
       "      <td>0.580541</td>\n",
       "      <td>0.565209</td>\n",
       "    </tr>\n",
       "    <tr>\n",
       "      <th>cylinders</th>\n",
       "      <td>-0.777618</td>\n",
       "      <td>1.000000</td>\n",
       "      <td>0.950823</td>\n",
       "      <td>0.842983</td>\n",
       "      <td>0.897527</td>\n",
       "      <td>-0.504683</td>\n",
       "      <td>-0.345647</td>\n",
       "      <td>-0.568932</td>\n",
       "    </tr>\n",
       "    <tr>\n",
       "      <th>displacement</th>\n",
       "      <td>-0.805127</td>\n",
       "      <td>0.950823</td>\n",
       "      <td>1.000000</td>\n",
       "      <td>0.897257</td>\n",
       "      <td>0.932994</td>\n",
       "      <td>-0.543800</td>\n",
       "      <td>-0.369855</td>\n",
       "      <td>-0.614535</td>\n",
       "    </tr>\n",
       "    <tr>\n",
       "      <th>horsepower</th>\n",
       "      <td>-0.778427</td>\n",
       "      <td>0.842983</td>\n",
       "      <td>0.897257</td>\n",
       "      <td>1.000000</td>\n",
       "      <td>0.864538</td>\n",
       "      <td>-0.689196</td>\n",
       "      <td>-0.416361</td>\n",
       "      <td>-0.455171</td>\n",
       "    </tr>\n",
       "    <tr>\n",
       "      <th>weight</th>\n",
       "      <td>-0.832244</td>\n",
       "      <td>0.897527</td>\n",
       "      <td>0.932994</td>\n",
       "      <td>0.864538</td>\n",
       "      <td>1.000000</td>\n",
       "      <td>-0.416839</td>\n",
       "      <td>-0.309120</td>\n",
       "      <td>-0.585005</td>\n",
       "    </tr>\n",
       "    <tr>\n",
       "      <th>acceleration</th>\n",
       "      <td>0.423329</td>\n",
       "      <td>-0.504683</td>\n",
       "      <td>-0.543800</td>\n",
       "      <td>-0.689196</td>\n",
       "      <td>-0.416839</td>\n",
       "      <td>1.000000</td>\n",
       "      <td>0.290316</td>\n",
       "      <td>0.212746</td>\n",
       "    </tr>\n",
       "    <tr>\n",
       "      <th>model_year</th>\n",
       "      <td>0.580541</td>\n",
       "      <td>-0.345647</td>\n",
       "      <td>-0.369855</td>\n",
       "      <td>-0.416361</td>\n",
       "      <td>-0.309120</td>\n",
       "      <td>0.290316</td>\n",
       "      <td>1.000000</td>\n",
       "      <td>0.181528</td>\n",
       "    </tr>\n",
       "    <tr>\n",
       "      <th>origin</th>\n",
       "      <td>0.565209</td>\n",
       "      <td>-0.568932</td>\n",
       "      <td>-0.614535</td>\n",
       "      <td>-0.455171</td>\n",
       "      <td>-0.585005</td>\n",
       "      <td>0.212746</td>\n",
       "      <td>0.181528</td>\n",
       "      <td>1.000000</td>\n",
       "    </tr>\n",
       "  </tbody>\n",
       "</table>\n",
       "</div>"
      ],
      "text/plain": [
       "                   mpg  cylinders  displacement  horsepower    weight  \\\n",
       "mpg           1.000000  -0.777618     -0.805127   -0.778427 -0.832244   \n",
       "cylinders    -0.777618   1.000000      0.950823    0.842983  0.897527   \n",
       "displacement -0.805127   0.950823      1.000000    0.897257  0.932994   \n",
       "horsepower   -0.778427   0.842983      0.897257    1.000000  0.864538   \n",
       "weight       -0.832244   0.897527      0.932994    0.864538  1.000000   \n",
       "acceleration  0.423329  -0.504683     -0.543800   -0.689196 -0.416839   \n",
       "model_year    0.580541  -0.345647     -0.369855   -0.416361 -0.309120   \n",
       "origin        0.565209  -0.568932     -0.614535   -0.455171 -0.585005   \n",
       "\n",
       "              acceleration  model_year    origin  \n",
       "mpg               0.423329    0.580541  0.565209  \n",
       "cylinders        -0.504683   -0.345647 -0.568932  \n",
       "displacement     -0.543800   -0.369855 -0.614535  \n",
       "horsepower       -0.689196   -0.416361 -0.455171  \n",
       "weight           -0.416839   -0.309120 -0.585005  \n",
       "acceleration      1.000000    0.290316  0.212746  \n",
       "model_year        0.290316    1.000000  0.181528  \n",
       "origin            0.212746    0.181528  1.000000  "
      ]
     },
     "execution_count": 6,
     "metadata": {},
     "output_type": "execute_result"
    }
   ],
   "source": [
    "df.corr(method='pearson')"
   ]
  },
  {
   "cell_type": "markdown",
   "metadata": {},
   "source": [
    "## 线性回归算法\n",
    "### 简单线性回归"
   ]
  },
  {
   "cell_type": "code",
   "execution_count": 7,
   "metadata": {},
   "outputs": [
    {
     "data": {
      "text/plain": [
       "Intercept       35.120636\n",
       "displacement    -0.060051\n",
       "dtype: float64"
      ]
     },
     "execution_count": 7,
     "metadata": {},
     "output_type": "execute_result"
    }
   ],
   "source": [
    "lm_s = ols('mpg ~ displacement', data=df).fit()\n",
    "lm_s.params"
   ]
  },
  {
   "cell_type": "markdown",
   "metadata": {},
   "source": [
    "Predict-在原始数据集上得到预测值和残差"
   ]
  },
  {
   "cell_type": "code",
   "execution_count": 8,
   "metadata": {
    "scrolled": false
   },
   "outputs": [
    {
     "data": {
      "text/html": [
       "<table class=\"simpletable\">\n",
       "<caption>OLS Regression Results</caption>\n",
       "<tr>\n",
       "  <th>Dep. Variable:</th>           <td>mpg</td>       <th>  R-squared:         </th> <td>   0.648</td>\n",
       "</tr>\n",
       "<tr>\n",
       "  <th>Model:</th>                   <td>OLS</td>       <th>  Adj. R-squared:    </th> <td>   0.647</td>\n",
       "</tr>\n",
       "<tr>\n",
       "  <th>Method:</th>             <td>Least Squares</td>  <th>  F-statistic:       </th> <td>   718.7</td>\n",
       "</tr>\n",
       "<tr>\n",
       "  <th>Date:</th>             <td>Thu, 30 Nov 2017</td> <th>  Prob (F-statistic):</th> <td>1.66e-90</td>\n",
       "</tr>\n",
       "<tr>\n",
       "  <th>Time:</th>                 <td>11:29:32</td>     <th>  Log-Likelihood:    </th> <td> -1156.4</td>\n",
       "</tr>\n",
       "<tr>\n",
       "  <th>No. Observations:</th>      <td>   392</td>      <th>  AIC:               </th> <td>   2317.</td>\n",
       "</tr>\n",
       "<tr>\n",
       "  <th>Df Residuals:</th>          <td>   390</td>      <th>  BIC:               </th> <td>   2325.</td>\n",
       "</tr>\n",
       "<tr>\n",
       "  <th>Df Model:</th>              <td>     1</td>      <th>                     </th>     <td> </td>   \n",
       "</tr>\n",
       "<tr>\n",
       "  <th>Covariance Type:</th>      <td>nonrobust</td>    <th>                     </th>     <td> </td>   \n",
       "</tr>\n",
       "</table>\n",
       "<table class=\"simpletable\">\n",
       "<tr>\n",
       "        <td></td>          <th>coef</th>     <th>std err</th>      <th>t</th>      <th>P>|t|</th>  <th>[0.025</th>    <th>0.975]</th>  \n",
       "</tr>\n",
       "<tr>\n",
       "  <th>Intercept</th>    <td>   35.1206</td> <td>    0.494</td> <td>   71.033</td> <td> 0.000</td> <td>   34.149</td> <td>   36.093</td>\n",
       "</tr>\n",
       "<tr>\n",
       "  <th>displacement</th> <td>   -0.0601</td> <td>    0.002</td> <td>  -26.808</td> <td> 0.000</td> <td>   -0.064</td> <td>   -0.056</td>\n",
       "</tr>\n",
       "</table>\n",
       "<table class=\"simpletable\">\n",
       "<tr>\n",
       "  <th>Omnibus:</th>       <td>41.308</td> <th>  Durbin-Watson:     </th> <td>   0.926</td>\n",
       "</tr>\n",
       "<tr>\n",
       "  <th>Prob(Omnibus):</th> <td> 0.000</td> <th>  Jarque-Bera (JB):  </th> <td>  61.139</td>\n",
       "</tr>\n",
       "<tr>\n",
       "  <th>Skew:</th>          <td> 0.709</td> <th>  Prob(JB):          </th> <td>5.30e-14</td>\n",
       "</tr>\n",
       "<tr>\n",
       "  <th>Kurtosis:</th>      <td> 4.317</td> <th>  Cond. No.          </th> <td>    466.</td>\n",
       "</tr>\n",
       "</table>"
      ],
      "text/plain": [
       "<class 'statsmodels.iolib.summary.Summary'>\n",
       "\"\"\"\n",
       "                            OLS Regression Results                            \n",
       "==============================================================================\n",
       "Dep. Variable:                    mpg   R-squared:                       0.648\n",
       "Model:                            OLS   Adj. R-squared:                  0.647\n",
       "Method:                 Least Squares   F-statistic:                     718.7\n",
       "Date:                Thu, 30 Nov 2017   Prob (F-statistic):           1.66e-90\n",
       "Time:                        11:29:32   Log-Likelihood:                -1156.4\n",
       "No. Observations:                 392   AIC:                             2317.\n",
       "Df Residuals:                     390   BIC:                             2325.\n",
       "Df Model:                           1                                         \n",
       "Covariance Type:            nonrobust                                         \n",
       "================================================================================\n",
       "                   coef    std err          t      P>|t|      [0.025      0.975]\n",
       "--------------------------------------------------------------------------------\n",
       "Intercept       35.1206      0.494     71.033      0.000      34.149      36.093\n",
       "displacement    -0.0601      0.002    -26.808      0.000      -0.064      -0.056\n",
       "==============================================================================\n",
       "Omnibus:                       41.308   Durbin-Watson:                   0.926\n",
       "Prob(Omnibus):                  0.000   Jarque-Bera (JB):               61.139\n",
       "Skew:                           0.709   Prob(JB):                     5.30e-14\n",
       "Kurtosis:                       4.317   Cond. No.                         466.\n",
       "==============================================================================\n",
       "\n",
       "Warnings:\n",
       "[1] Standard Errors assume that the covariance matrix of the errors is correctly specified.\n",
       "\"\"\""
      ]
     },
     "execution_count": 8,
     "metadata": {},
     "output_type": "execute_result"
    }
   ],
   "source": [
    "lm_s.summary()"
   ]
  },
  {
   "cell_type": "markdown",
   "metadata": {},
   "source": [
    "### 预测值和残差"
   ]
  },
  {
   "cell_type": "code",
   "execution_count": 9,
   "metadata": {
    "scrolled": true
   },
   "outputs": [
    {
     "data": {
      "text/html": [
       "<div>\n",
       "<style>\n",
       "    .dataframe thead tr:only-child th {\n",
       "        text-align: right;\n",
       "    }\n",
       "\n",
       "    .dataframe thead th {\n",
       "        text-align: left;\n",
       "    }\n",
       "\n",
       "    .dataframe tbody tr th {\n",
       "        vertical-align: top;\n",
       "    }\n",
       "</style>\n",
       "<table border=\"1\" class=\"dataframe\">\n",
       "  <thead>\n",
       "    <tr style=\"text-align: right;\">\n",
       "      <th></th>\n",
       "      <th>predict</th>\n",
       "      <th>resid</th>\n",
       "    </tr>\n",
       "  </thead>\n",
       "  <tbody>\n",
       "    <tr>\n",
       "      <th>0</th>\n",
       "      <td>16.684848</td>\n",
       "      <td>1.315152</td>\n",
       "    </tr>\n",
       "    <tr>\n",
       "      <th>1</th>\n",
       "      <td>14.102636</td>\n",
       "      <td>0.897364</td>\n",
       "    </tr>\n",
       "    <tr>\n",
       "      <th>2</th>\n",
       "      <td>16.024282</td>\n",
       "      <td>1.975718</td>\n",
       "    </tr>\n",
       "    <tr>\n",
       "      <th>3</th>\n",
       "      <td>16.865002</td>\n",
       "      <td>-0.865002</td>\n",
       "    </tr>\n",
       "    <tr>\n",
       "      <th>4</th>\n",
       "      <td>16.985105</td>\n",
       "      <td>0.014895</td>\n",
       "    </tr>\n",
       "  </tbody>\n",
       "</table>\n",
       "</div>"
      ],
      "text/plain": [
       "     predict     resid\n",
       "0  16.684848  1.315152\n",
       "1  14.102636  0.897364\n",
       "2  16.024282  1.975718\n",
       "3  16.865002 -0.865002\n",
       "4  16.985105  0.014895"
      ]
     },
     "execution_count": 9,
     "metadata": {},
     "output_type": "execute_result"
    }
   ],
   "source": [
    "pd.DataFrame([lm_s.predict(df), lm_s.resid], index=['predict', 'resid']).T.head()"
   ]
  },
  {
   "cell_type": "code",
   "execution_count": 10,
   "metadata": {},
   "outputs": [
    {
     "data": {
      "image/png": "[encoded data removed]",
      "text/plain": [
       "<matplotlib.figure.Figure at 0x2915221b748>"
      ]
     },
     "metadata": {},
     "output_type": "display_data"
    }
   ],
   "source": [
    "plt.plot(df.displacement,df.mpg,'.')\n",
    "plt.plot(df.displacement,lm_s.predict(df.displacement))\n",
    "plt.show()"
   ]
  },
  {
   "cell_type": "markdown",
   "metadata": {},
   "source": [
    "### 多元线性回归"
   ]
  },
  {
   "cell_type": "code",
   "execution_count": 11,
   "metadata": {},
   "outputs": [
    {
     "data": {
      "text/html": [
       "<table class=\"simpletable\">\n",
       "<caption>OLS Regression Results</caption>\n",
       "<tr>\n",
       "  <th>Dep. Variable:</th>           <td>mpg</td>       <th>  R-squared:         </th> <td>   0.708</td> \n",
       "</tr>\n",
       "<tr>\n",
       "  <th>Model:</th>                   <td>OLS</td>       <th>  Adj. R-squared:    </th> <td>   0.705</td> \n",
       "</tr>\n",
       "<tr>\n",
       "  <th>Method:</th>             <td>Least Squares</td>  <th>  F-statistic:       </th> <td>   234.2</td> \n",
       "</tr>\n",
       "<tr>\n",
       "  <th>Date:</th>             <td>Thu, 30 Nov 2017</td> <th>  Prob (F-statistic):</th> <td>6.18e-102</td>\n",
       "</tr>\n",
       "<tr>\n",
       "  <th>Time:</th>                 <td>11:29:32</td>     <th>  Log-Likelihood:    </th> <td> -1120.1</td> \n",
       "</tr>\n",
       "<tr>\n",
       "  <th>No. Observations:</th>      <td>   392</td>      <th>  AIC:               </th> <td>   2250.</td> \n",
       "</tr>\n",
       "<tr>\n",
       "  <th>Df Residuals:</th>          <td>   387</td>      <th>  BIC:               </th> <td>   2270.</td> \n",
       "</tr>\n",
       "<tr>\n",
       "  <th>Df Model:</th>              <td>     4</td>      <th>                     </th>     <td> </td>    \n",
       "</tr>\n",
       "<tr>\n",
       "  <th>Covariance Type:</th>      <td>nonrobust</td>    <th>                     </th>     <td> </td>    \n",
       "</tr>\n",
       "</table>\n",
       "<table class=\"simpletable\">\n",
       "<tr>\n",
       "        <td></td>          <th>coef</th>     <th>std err</th>      <th>t</th>      <th>P>|t|</th>  <th>[0.025</th>    <th>0.975]</th>  \n",
       "</tr>\n",
       "<tr>\n",
       "  <th>Intercept</th>    <td>   45.7568</td> <td>    1.520</td> <td>   30.102</td> <td> 0.000</td> <td>   42.768</td> <td>   48.745</td>\n",
       "</tr>\n",
       "<tr>\n",
       "  <th>cylinders</th>    <td>   -0.3933</td> <td>    0.410</td> <td>   -0.960</td> <td> 0.338</td> <td>   -1.199</td> <td>    0.412</td>\n",
       "</tr>\n",
       "<tr>\n",
       "  <th>displacement</th> <td>    0.0001</td> <td>    0.009</td> <td>    0.015</td> <td> 0.988</td> <td>   -0.018</td> <td>    0.018</td>\n",
       "</tr>\n",
       "<tr>\n",
       "  <th>horsepower</th>   <td>   -0.0428</td> <td>    0.013</td> <td>   -3.327</td> <td> 0.001</td> <td>   -0.068</td> <td>   -0.018</td>\n",
       "</tr>\n",
       "<tr>\n",
       "  <th>weight</th>       <td>   -0.0053</td> <td>    0.001</td> <td>   -7.364</td> <td> 0.000</td> <td>   -0.007</td> <td>   -0.004</td>\n",
       "</tr>\n",
       "</table>\n",
       "<table class=\"simpletable\">\n",
       "<tr>\n",
       "  <th>Omnibus:</th>       <td>37.596</td> <th>  Durbin-Watson:     </th> <td>   0.862</td>\n",
       "</tr>\n",
       "<tr>\n",
       "  <th>Prob(Omnibus):</th> <td> 0.000</td> <th>  Jarque-Bera (JB):  </th> <td>  50.918</td>\n",
       "</tr>\n",
       "<tr>\n",
       "  <th>Skew:</th>          <td> 0.696</td> <th>  Prob(JB):          </th> <td>8.77e-12</td>\n",
       "</tr>\n",
       "<tr>\n",
       "  <th>Kurtosis:</th>      <td> 4.085</td> <th>  Cond. No.          </th> <td>2.23e+04</td>\n",
       "</tr>\n",
       "</table>"
      ],
      "text/plain": [
       "<class 'statsmodels.iolib.summary.Summary'>\n",
       "\"\"\"\n",
       "                            OLS Regression Results                            \n",
       "==============================================================================\n",
       "Dep. Variable:                    mpg   R-squared:                       0.708\n",
       "Model:                            OLS   Adj. R-squared:                  0.705\n",
       "Method:                 Least Squares   F-statistic:                     234.2\n",
       "Date:                Thu, 30 Nov 2017   Prob (F-statistic):          6.18e-102\n",
       "Time:                        11:29:32   Log-Likelihood:                -1120.1\n",
       "No. Observations:                 392   AIC:                             2250.\n",
       "Df Residuals:                     387   BIC:                             2270.\n",
       "Df Model:                           4                                         \n",
       "Covariance Type:            nonrobust                                         \n",
       "================================================================================\n",
       "                   coef    std err          t      P>|t|      [0.025      0.975]\n",
       "--------------------------------------------------------------------------------\n",
       "Intercept       45.7568      1.520     30.102      0.000      42.768      48.745\n",
       "cylinders       -0.3933      0.410     -0.960      0.338      -1.199       0.412\n",
       "displacement     0.0001      0.009      0.015      0.988      -0.018       0.018\n",
       "horsepower      -0.0428      0.013     -3.327      0.001      -0.068      -0.018\n",
       "weight          -0.0053      0.001     -7.364      0.000      -0.007      -0.004\n",
       "==============================================================================\n",
       "Omnibus:                       37.596   Durbin-Watson:                   0.862\n",
       "Prob(Omnibus):                  0.000   Jarque-Bera (JB):               50.918\n",
       "Skew:                           0.696   Prob(JB):                     8.77e-12\n",
       "Kurtosis:                       4.085   Cond. No.                     2.23e+04\n",
       "==============================================================================\n",
       "\n",
       "Warnings:\n",
       "[1] Standard Errors assume that the covariance matrix of the errors is correctly specified.\n",
       "[2] The condition number is large, 2.23e+04. This might indicate that there are\n",
       "strong multicollinearity or other numerical problems.\n",
       "\"\"\""
      ]
     },
     "execution_count": 11,
     "metadata": {},
     "output_type": "execute_result"
    }
   ],
   "source": [
    "lm_m = ols('mpg ~ cylinders + displacement + horsepower + weight', data=df).fit()\n",
    "lm_m.summary()"
   ]
  },
  {
   "cell_type": "markdown",
   "metadata": {},
   "source": [
    "### 多元线性回归的变量筛选"
   ]
  },
  {
   "cell_type": "code",
   "execution_count": 12,
   "metadata": {
    "collapsed": true
   },
   "outputs": [],
   "source": [
    "'''forward select'''\n",
    "def forward_select(data, response):\n",
    "    remaining = set(data.columns)\n",
    "    remaining.remove(response)\n",
    "    selected = []\n",
    "    current_score, best_new_score = float('inf'), float('inf')\n",
    "    while remaining:\n",
    "        aic_with_candidates=[]\n",
    "        for candidate in remaining:\n",
    "            formula = \"{} ~ {}\".format(response,' + '.join(selected + [candidate]))\n",
    "            aic = ols(formula=formula, data=data).fit().aic\n",
    "            aic_with_candidates.append((aic, candidate))\n",
    "        aic_with_candidates.sort(reverse=True)\n",
    "        best_new_score, best_candidate=aic_with_candidates.pop()\n",
    "        if current_score > best_new_score:\n",
    "            remaining.remove(best_candidate)\n",
    "            selected.append(best_candidate)\n",
    "            current_score = best_new_score\n",
    "            print ('aic is {},continuing!'.format(current_score))\n",
    "        else:        \n",
    "            print ('forward selection over!')\n",
    "            break\n",
    "    formula = \"{} ~ {} \".format(response,' + '.join(selected))\n",
    "    print('final formula is {}'.format(formula))\n",
    "    model = ols(formula=formula, data=data).fit()\n",
    "    return(model)"
   ]
  },
  {
   "cell_type": "code",
   "execution_count": 13,
   "metadata": {},
   "outputs": [
    {
     "name": "stdout",
     "output_type": "stream",
     "text": [
      "aic is 1984.0305566107504,continuing!\n",
      "aic is 1906.4255034746855,continuing!\n",
      "aic is 1799.5729062446048,continuing!\n",
      "aic is 1789.2703828575354,continuing!\n",
      "aic is 1776.9197293862794,continuing!\n",
      "aic is 1768.771491401507,continuing!\n",
      "aic is 1768.7714914015069,continuing!\n",
      "forward selection over!\n",
      "final formula is mpg ~ car_name + model_year + weight + acceleration + horsepower + cylinders + origin \n",
      "0.981572407234\n"
     ]
    }
   ],
   "source": [
    "lm_m = forward_select(data=df, response='mpg')\n",
    "print(lm_m.rsquared)"
   ]
  },
  {
   "cell_type": "markdown",
   "metadata": {},
   "source": [
    "# 线性回归的诊断\n",
    "### 残差分析"
   ]
  },
  {
   "cell_type": "code",
   "execution_count": 14,
   "metadata": {},
   "outputs": [
    {
     "data": {
      "image/png": "[encoded data removed]",
      "text/plain": [
       "<matplotlib.figure.Figure at 0x291529d2eb8>"
      ]
     },
     "metadata": {},
     "output_type": "display_data"
    }
   ],
   "source": [
    "ana1 = ols('mpg ~ displacement', data=df).fit()\n",
    "plt.plot(df.displacement,lm_s.resid,'.')\n",
    "plt.show()"
   ]
  },
  {
   "cell_type": "markdown",
   "metadata": {},
   "source": [
    "遇到异方差情况,教科书上会介绍使用加权最小二乘法，但是实际上最常用的是对被解释变量取对数"
   ]
  },
  {
   "cell_type": "code",
   "execution_count": 15,
   "metadata": {
    "collapsed": true
   },
   "outputs": [],
   "source": [
    "df2=df.copy()\n",
    "df2['mpg_ln']=np.log(df2['mpg'])\n",
    "df2['displacement_ln']=np.log(df2['displacement'])"
   ]
  },
  {
   "cell_type": "code",
   "execution_count": 16,
   "metadata": {},
   "outputs": [
    {
     "data": {
      "image/png": "[encoded data removed]",
      "text/plain": [
       "<matplotlib.figure.Figure at 0x291533d5198>"
      ]
     },
     "metadata": {},
     "output_type": "display_data"
    }
   ],
   "source": [
    "ana2 = ols('mpg_ln ~ displacement', data=df2).fit()\n",
    "plt.plot(df2.displacement,ana2.resid,'.')\n",
    "plt.show()"
   ]
  },
  {
   "cell_type": "code",
   "execution_count": 17,
   "metadata": {},
   "outputs": [
    {
     "data": {
      "image/png": "[encoded data removed]",
      "text/plain": [
       "<matplotlib.figure.Figure at 0x29153499940>"
      ]
     },
     "metadata": {},
     "output_type": "display_data"
    }
   ],
   "source": [
    "ana3 = ols('mpg_ln ~ displacement_ln', data=df2).fit()\n",
    "plt.plot(df2.displacement_ln,ana2.resid,'.')\n",
    "plt.show()"
   ]
  },
  {
   "cell_type": "markdown",
   "metadata": {},
   "source": [
    "寻找最优的模型"
   ]
  },
  {
   "cell_type": "code",
   "execution_count": 18,
   "metadata": {},
   "outputs": [
    {
     "name": "stdout",
     "output_type": "stream",
     "text": [
      "{'mpg~displacement': 0.64822940031930443, 'ln(mpg)~displacement': 0.72878838882353492, 'ln(mpg)~ln(displacement)': 0.73975545555151256}\n"
     ]
    }
   ],
   "source": [
    "r_sq = {'mpg~displacement':ana1.rsquared, 'ln(mpg)~displacement':ana2.rsquared, 'ln(mpg)~ln(displacement)':ana3.rsquared}\n",
    "print(r_sq)"
   ]
  },
  {
   "cell_type": "markdown",
   "metadata": {},
   "source": [
    "### 强影响点分析"
   ]
  },
  {
   "cell_type": "code",
   "execution_count": 19,
   "metadata": {
    "collapsed": true
   },
   "outputs": [],
   "source": [
    "df2['resid']=ana3.resid\n",
    "df2['resid_t'] = (df2['resid'] - df2['resid'].mean()) / df2['resid'].std()"
   ]
  },
  {
   "cell_type": "markdown",
   "metadata": {},
   "source": [
    "Find outlier："
   ]
  },
  {
   "cell_type": "code",
   "execution_count": 20,
   "metadata": {
    "scrolled": true
   },
   "outputs": [
    {
     "data": {
      "text/html": [
       "<div>\n",
       "<style>\n",
       "    .dataframe thead tr:only-child th {\n",
       "        text-align: right;\n",
       "    }\n",
       "\n",
       "    .dataframe thead th {\n",
       "        text-align: left;\n",
       "    }\n",
       "\n",
       "    .dataframe tbody tr th {\n",
       "        vertical-align: top;\n",
       "    }\n",
       "</style>\n",
       "<table border=\"1\" class=\"dataframe\">\n",
       "  <thead>\n",
       "    <tr style=\"text-align: right;\">\n",
       "      <th></th>\n",
       "      <th>mpg</th>\n",
       "      <th>cylinders</th>\n",
       "      <th>displacement</th>\n",
       "      <th>horsepower</th>\n",
       "      <th>weight</th>\n",
       "      <th>acceleration</th>\n",
       "      <th>model_year</th>\n",
       "      <th>origin</th>\n",
       "      <th>car_name</th>\n",
       "      <th>mpg_ln</th>\n",
       "      <th>displacement_ln</th>\n",
       "      <th>resid</th>\n",
       "      <th>resid_t</th>\n",
       "    </tr>\n",
       "  </thead>\n",
       "  <tbody>\n",
       "    <tr>\n",
       "      <th>25</th>\n",
       "      <td>10.0</td>\n",
       "      <td>8</td>\n",
       "      <td>360.0</td>\n",
       "      <td>215.0</td>\n",
       "      <td>4615.0</td>\n",
       "      <td>14.0</td>\n",
       "      <td>70</td>\n",
       "      <td>1</td>\n",
       "      <td>ford f250</td>\n",
       "      <td>2.302585</td>\n",
       "      <td>5.886104</td>\n",
       "      <td>-0.379447</td>\n",
       "      <td>-2.187419</td>\n",
       "    </tr>\n",
       "    <tr>\n",
       "      <th>26</th>\n",
       "      <td>10.0</td>\n",
       "      <td>8</td>\n",
       "      <td>307.0</td>\n",
       "      <td>200.0</td>\n",
       "      <td>4376.0</td>\n",
       "      <td>15.0</td>\n",
       "      <td>70</td>\n",
       "      <td>1</td>\n",
       "      <td>chevy c20</td>\n",
       "      <td>2.302585</td>\n",
       "      <td>5.726848</td>\n",
       "      <td>-0.466883</td>\n",
       "      <td>-2.691467</td>\n",
       "    </tr>\n",
       "    <tr>\n",
       "      <th>27</th>\n",
       "      <td>11.0</td>\n",
       "      <td>8</td>\n",
       "      <td>318.0</td>\n",
       "      <td>210.0</td>\n",
       "      <td>4382.0</td>\n",
       "      <td>13.5</td>\n",
       "      <td>70</td>\n",
       "      <td>1</td>\n",
       "      <td>dodge d200</td>\n",
       "      <td>2.397895</td>\n",
       "      <td>5.762051</td>\n",
       "      <td>-0.352245</td>\n",
       "      <td>-2.030607</td>\n",
       "    </tr>\n",
       "    <tr>\n",
       "      <th>28</th>\n",
       "      <td>9.0</td>\n",
       "      <td>8</td>\n",
       "      <td>304.0</td>\n",
       "      <td>193.0</td>\n",
       "      <td>4732.0</td>\n",
       "      <td>18.5</td>\n",
       "      <td>70</td>\n",
       "      <td>1</td>\n",
       "      <td>hi 1200d</td>\n",
       "      <td>2.197225</td>\n",
       "      <td>5.717028</td>\n",
       "      <td>-0.577635</td>\n",
       "      <td>-3.329924</td>\n",
       "    </tr>\n",
       "    <tr>\n",
       "      <th>71</th>\n",
       "      <td>19.0</td>\n",
       "      <td>3</td>\n",
       "      <td>70.0</td>\n",
       "      <td>97.0</td>\n",
       "      <td>2330.0</td>\n",
       "      <td>13.5</td>\n",
       "      <td>72</td>\n",
       "      <td>3</td>\n",
       "      <td>mazda rx2 coupe</td>\n",
       "      <td>2.944439</td>\n",
       "      <td>4.248495</td>\n",
       "      <td>-0.636687</td>\n",
       "      <td>-3.670342</td>\n",
       "    </tr>\n",
       "  </tbody>\n",
       "</table>\n",
       "</div>"
      ],
      "text/plain": [
       "     mpg  cylinders  displacement  horsepower  weight  acceleration  \\\n",
       "25  10.0          8         360.0       215.0  4615.0          14.0   \n",
       "26  10.0          8         307.0       200.0  4376.0          15.0   \n",
       "27  11.0          8         318.0       210.0  4382.0          13.5   \n",
       "28   9.0          8         304.0       193.0  4732.0          18.5   \n",
       "71  19.0          3          70.0        97.0  2330.0          13.5   \n",
       "\n",
       "    model_year  origin         car_name    mpg_ln  displacement_ln     resid  \\\n",
       "25          70       1        ford f250  2.302585         5.886104 -0.379447   \n",
       "26          70       1        chevy c20  2.302585         5.726848 -0.466883   \n",
       "27          70       1       dodge d200  2.397895         5.762051 -0.352245   \n",
       "28          70       1         hi 1200d  2.197225         5.717028 -0.577635   \n",
       "71          72       3  mazda rx2 coupe  2.944439         4.248495 -0.636687   \n",
       "\n",
       "     resid_t  \n",
       "25 -2.187419  \n",
       "26 -2.691467  \n",
       "27 -2.030607  \n",
       "28 -3.329924  \n",
       "71 -3.670342  "
      ]
     },
     "execution_count": 20,
     "metadata": {},
     "output_type": "execute_result"
    }
   ],
   "source": [
    "df2[abs(df2['resid_t']) > 2].head(5)"
   ]
  },
  {
   "cell_type": "markdown",
   "metadata": {},
   "source": [
    "Drop outlier"
   ]
  },
  {
   "cell_type": "code",
   "execution_count": 21,
   "metadata": {
    "scrolled": true
   },
   "outputs": [
    {
     "data": {
      "image/png": "[encoded data removed]",
      "text/plain": [
       "<matplotlib.figure.Figure at 0x29152a28860>"
      ]
     },
     "metadata": {},
     "output_type": "display_data"
    }
   ],
   "source": [
    "df2 = df2[abs(df2['resid_t']) <= 2].copy()\n",
    "ana4 = ols('mpg_ln ~ displacement_ln', df2).fit()\n",
    "\n",
    "plt.plot(df2.displacement_ln,ana4.resid,'.')\n",
    "plt.show()"
   ]
  },
  {
   "cell_type": "code",
   "execution_count": 22,
   "metadata": {},
   "outputs": [
    {
     "data": {
      "text/plain": [
       "0.81628320417918687"
      ]
     },
     "execution_count": 22,
     "metadata": {},
     "output_type": "execute_result"
    }
   ],
   "source": [
    "ana4.rsquared"
   ]
  },
  {
   "cell_type": "markdown",
   "metadata": {},
   "source": [
    "statemodels包提供了更多强影响点判断指标"
   ]
  },
  {
   "cell_type": "code",
   "execution_count": 23,
   "metadata": {
    "scrolled": true
   },
   "outputs": [
    {
     "data": {
      "text/html": [
       "<div>\n",
       "<style>\n",
       "    .dataframe thead tr:only-child th {\n",
       "        text-align: right;\n",
       "    }\n",
       "\n",
       "    .dataframe thead th {\n",
       "        text-align: left;\n",
       "    }\n",
       "\n",
       "    .dataframe tbody tr th {\n",
       "        vertical-align: top;\n",
       "    }\n",
       "</style>\n",
       "<table border=\"1\" class=\"dataframe\">\n",
       "  <thead>\n",
       "    <tr style=\"text-align: right;\">\n",
       "      <th></th>\n",
       "      <th>dfb_Intercept</th>\n",
       "      <th>dfb_displacement_ln</th>\n",
       "      <th>cooks_d</th>\n",
       "      <th>dffits</th>\n",
       "      <th>dffits_internal</th>\n",
       "      <th>hat_diag</th>\n",
       "      <th>standard_resid</th>\n",
       "      <th>student_resid</th>\n",
       "    </tr>\n",
       "  </thead>\n",
       "  <tbody>\n",
       "    <tr>\n",
       "      <th>0</th>\n",
       "      <td>-0.035926</td>\n",
       "      <td>0.039786</td>\n",
       "      <td>1.417727e-03</td>\n",
       "      <td>0.053214</td>\n",
       "      <td>0.053249</td>\n",
       "      <td>0.005784</td>\n",
       "      <td>0.698107</td>\n",
       "      <td>0.697647</td>\n",
       "    </tr>\n",
       "    <tr>\n",
       "      <th>1</th>\n",
       "      <td>-0.003895</td>\n",
       "      <td>0.004236</td>\n",
       "      <td>1.377200e-05</td>\n",
       "      <td>0.005242</td>\n",
       "      <td>0.005248</td>\n",
       "      <td>0.007355</td>\n",
       "      <td>0.060972</td>\n",
       "      <td>0.060894</td>\n",
       "    </tr>\n",
       "    <tr>\n",
       "      <th>2</th>\n",
       "      <td>-0.044394</td>\n",
       "      <td>0.048888</td>\n",
       "      <td>2.037847e-03</td>\n",
       "      <td>0.063813</td>\n",
       "      <td>0.063841</td>\n",
       "      <td>0.006176</td>\n",
       "      <td>0.809867</td>\n",
       "      <td>0.809509</td>\n",
       "    </tr>\n",
       "    <tr>\n",
       "      <th>3</th>\n",
       "      <td>0.000662</td>\n",
       "      <td>-0.000735</td>\n",
       "      <td>4.911478e-07</td>\n",
       "      <td>-0.000990</td>\n",
       "      <td>-0.000991</td>\n",
       "      <td>0.005679</td>\n",
       "      <td>-0.013114</td>\n",
       "      <td>-0.013097</td>\n",
       "    </tr>\n",
       "    <tr>\n",
       "      <th>4</th>\n",
       "      <td>-0.015761</td>\n",
       "      <td>0.017504</td>\n",
       "      <td>2.816267e-04</td>\n",
       "      <td>0.023706</td>\n",
       "      <td>0.023733</td>\n",
       "      <td>0.005610</td>\n",
       "      <td>0.315985</td>\n",
       "      <td>0.315620</td>\n",
       "    </tr>\n",
       "  </tbody>\n",
       "</table>\n",
       "</div>"
      ],
      "text/plain": [
       "   dfb_Intercept  dfb_displacement_ln       cooks_d    dffits  \\\n",
       "0      -0.035926             0.039786  1.417727e-03  0.053214   \n",
       "1      -0.003895             0.004236  1.377200e-05  0.005242   \n",
       "2      -0.044394             0.048888  2.037847e-03  0.063813   \n",
       "3       0.000662            -0.000735  4.911478e-07 -0.000990   \n",
       "4      -0.015761             0.017504  2.816267e-04  0.023706   \n",
       "\n",
       "   dffits_internal  hat_diag  standard_resid  student_resid  \n",
       "0         0.053249  0.005784        0.698107       0.697647  \n",
       "1         0.005248  0.007355        0.060972       0.060894  \n",
       "2         0.063841  0.006176        0.809867       0.809509  \n",
       "3        -0.000991  0.005679       -0.013114      -0.013097  \n",
       "4         0.023733  0.005610        0.315985       0.315620  "
      ]
     },
     "execution_count": 23,
     "metadata": {},
     "output_type": "execute_result"
    }
   ],
   "source": [
    "from statsmodels.stats.outliers_influence import OLSInfluence\n",
    "\n",
    "OLSInfluence(ana3).summary_frame().head()"
   ]
  },
  {
   "cell_type": "markdown",
   "metadata": {},
   "source": [
    "### 增加变量\n",
    "用以上的方法，增加变量，做多元回归"
   ]
  },
  {
   "cell_type": "code",
   "execution_count": 24,
   "metadata": {},
   "outputs": [
    {
     "data": {
      "text/html": [
       "<table class=\"simpletable\">\n",
       "<caption>OLS Regression Results</caption>\n",
       "<tr>\n",
       "  <th>Dep. Variable:</th>         <td>mpg_ln</td>      <th>  R-squared:         </th> <td>   0.907</td> \n",
       "</tr>\n",
       "<tr>\n",
       "  <th>Model:</th>                   <td>OLS</td>       <th>  Adj. R-squared:    </th> <td>   0.905</td> \n",
       "</tr>\n",
       "<tr>\n",
       "  <th>Method:</th>             <td>Least Squares</td>  <th>  F-statistic:       </th> <td>   711.4</td> \n",
       "</tr>\n",
       "<tr>\n",
       "  <th>Date:</th>             <td>Thu, 30 Nov 2017</td> <th>  Prob (F-statistic):</th> <td>4.94e-186</td>\n",
       "</tr>\n",
       "<tr>\n",
       "  <th>Time:</th>                 <td>11:29:36</td>     <th>  Log-Likelihood:    </th> <td>  329.83</td> \n",
       "</tr>\n",
       "<tr>\n",
       "  <th>No. Observations:</th>      <td>   372</td>      <th>  AIC:               </th> <td>  -647.7</td> \n",
       "</tr>\n",
       "<tr>\n",
       "  <th>Df Residuals:</th>          <td>   366</td>      <th>  BIC:               </th> <td>  -624.1</td> \n",
       "</tr>\n",
       "<tr>\n",
       "  <th>Df Model:</th>              <td>     5</td>      <th>                     </th>     <td> </td>    \n",
       "</tr>\n",
       "<tr>\n",
       "  <th>Covariance Type:</th>      <td>nonrobust</td>    <th>                     </th>     <td> </td>    \n",
       "</tr>\n",
       "</table>\n",
       "<table class=\"simpletable\">\n",
       "<tr>\n",
       "         <td></td>            <th>coef</th>     <th>std err</th>      <th>t</th>      <th>P>|t|</th>  <th>[0.025</th>    <th>0.975]</th>  \n",
       "</tr>\n",
       "<tr>\n",
       "  <th>Intercept</th>       <td>    6.5568</td> <td>    0.333</td> <td>   19.709</td> <td> 0.000</td> <td>    5.903</td> <td>    7.211</td>\n",
       "</tr>\n",
       "<tr>\n",
       "  <th>displacement_ln</th> <td>   -0.2227</td> <td>    0.036</td> <td>   -6.228</td> <td> 0.000</td> <td>   -0.293</td> <td>   -0.152</td>\n",
       "</tr>\n",
       "<tr>\n",
       "  <th>horsepower_ln</th>   <td>   -0.1632</td> <td>    0.054</td> <td>   -3.028</td> <td> 0.003</td> <td>   -0.269</td> <td>   -0.057</td>\n",
       "</tr>\n",
       "<tr>\n",
       "  <th>weight_ln</th>       <td>   -0.4227</td> <td>    0.076</td> <td>   -5.578</td> <td> 0.000</td> <td>   -0.572</td> <td>   -0.274</td>\n",
       "</tr>\n",
       "<tr>\n",
       "  <th>acceleration</th>    <td>   -0.0101</td> <td>    0.004</td> <td>   -2.769</td> <td> 0.006</td> <td>   -0.017</td> <td>   -0.003</td>\n",
       "</tr>\n",
       "<tr>\n",
       "  <th>model_year</th>      <td>    0.0257</td> <td>    0.002</td> <td>   16.169</td> <td> 0.000</td> <td>    0.023</td> <td>    0.029</td>\n",
       "</tr>\n",
       "</table>\n",
       "<table class=\"simpletable\">\n",
       "<tr>\n",
       "  <th>Omnibus:</th>       <td> 4.918</td> <th>  Durbin-Watson:     </th> <td>   1.296</td>\n",
       "</tr>\n",
       "<tr>\n",
       "  <th>Prob(Omnibus):</th> <td> 0.086</td> <th>  Jarque-Bera (JB):  </th> <td>   6.359</td>\n",
       "</tr>\n",
       "<tr>\n",
       "  <th>Skew:</th>          <td>-0.064</td> <th>  Prob(JB):          </th> <td>  0.0416</td>\n",
       "</tr>\n",
       "<tr>\n",
       "  <th>Kurtosis:</th>      <td> 3.628</td> <th>  Cond. No.          </th> <td>5.10e+03</td>\n",
       "</tr>\n",
       "</table>"
      ],
      "text/plain": [
       "<class 'statsmodels.iolib.summary.Summary'>\n",
       "\"\"\"\n",
       "                            OLS Regression Results                            \n",
       "==============================================================================\n",
       "Dep. Variable:                 mpg_ln   R-squared:                       0.907\n",
       "Model:                            OLS   Adj. R-squared:                  0.905\n",
       "Method:                 Least Squares   F-statistic:                     711.4\n",
       "Date:                Thu, 30 Nov 2017   Prob (F-statistic):          4.94e-186\n",
       "Time:                        11:29:36   Log-Likelihood:                 329.83\n",
       "No. Observations:                 372   AIC:                            -647.7\n",
       "Df Residuals:                     366   BIC:                            -624.1\n",
       "Df Model:                           5                                         \n",
       "Covariance Type:            nonrobust                                         \n",
       "===================================================================================\n",
       "                      coef    std err          t      P>|t|      [0.025      0.975]\n",
       "-----------------------------------------------------------------------------------\n",
       "Intercept           6.5568      0.333     19.709      0.000       5.903       7.211\n",
       "displacement_ln    -0.2227      0.036     -6.228      0.000      -0.293      -0.152\n",
       "horsepower_ln      -0.1632      0.054     -3.028      0.003      -0.269      -0.057\n",
       "weight_ln          -0.4227      0.076     -5.578      0.000      -0.572      -0.274\n",
       "acceleration       -0.0101      0.004     -2.769      0.006      -0.017      -0.003\n",
       "model_year          0.0257      0.002     16.169      0.000       0.023       0.029\n",
       "==============================================================================\n",
       "Omnibus:                        4.918   Durbin-Watson:                   1.296\n",
       "Prob(Omnibus):                  0.086   Jarque-Bera (JB):                6.359\n",
       "Skew:                          -0.064   Prob(JB):                       0.0416\n",
       "Kurtosis:                       3.628   Cond. No.                     5.10e+03\n",
       "==============================================================================\n",
       "\n",
       "Warnings:\n",
       "[1] Standard Errors assume that the covariance matrix of the errors is correctly specified.\n",
       "[2] The condition number is large, 5.1e+03. This might indicate that there are\n",
       "strong multicollinearity or other numerical problems.\n",
       "\"\"\""
      ]
     },
     "execution_count": 24,
     "metadata": {},
     "output_type": "execute_result"
    }
   ],
   "source": [
    "df2['horsepower_ln']=np.log(df2['horsepower'])\n",
    "df2['weight_ln']=np.log(df2['weight'])\n",
    "\n",
    "ana5=ols('mpg_ln ~ displacement_ln + horsepower_ln + weight_ln + acceleration + model_year ',data=df2).fit()\n",
    "ana5.summary()"
   ]
  },
  {
   "cell_type": "markdown",
   "metadata": {},
   "source": [
    "### 多重共线性分析\n",
    "- Step regression is not always work."
   ]
  },
  {
   "cell_type": "code",
   "execution_count": 25,
   "metadata": {},
   "outputs": [
    {
     "data": {
      "text/plain": [
       "Intercept          0.332680\n",
       "displacement_ln    0.035756\n",
       "horsepower_ln      0.053894\n",
       "weight_ln          0.075776\n",
       "acceleration       0.003661\n",
       "model_year         0.001590\n",
       "dtype: float64"
      ]
     },
     "execution_count": 25,
     "metadata": {},
     "output_type": "execute_result"
    }
   ],
   "source": [
    "ana5.bse # The standard errors of the parameter estimates"
   ]
  },
  {
   "cell_type": "markdown",
   "metadata": {},
   "source": [
    "The function \"statsmodels.stats.outliers_influence.variance_inflation_factor\" uses \"OLS\" to fit data, and it will generates a wrong rsquared. So define it ourselves!"
   ]
  },
  {
   "cell_type": "code",
   "execution_count": 26,
   "metadata": {
    "collapsed": true
   },
   "outputs": [],
   "source": [
    "def vif(df, col_i):\n",
    "    cols = list(df.columns)\n",
    "    cols.remove(col_i)\n",
    "    cols_noti = cols\n",
    "    formula = col_i + '~' + '+'.join(cols_noti)\n",
    "    r2 = ols(formula, df).fit().rsquared\n",
    "    return 1. / (1. - r2)"
   ]
  },
  {
   "cell_type": "code",
   "execution_count": 27,
   "metadata": {
    "scrolled": true
   },
   "outputs": [
    {
     "name": "stdout",
     "output_type": "stream",
     "text": [
      "displacement_ln \t 13.0464844911\n",
      "horsepower_ln \t 12.2068336497\n",
      "weight_ln \t 16.5791513194\n",
      "acceleration \t 3.64805781168\n",
      "model_year \t 1.22045476119\n"
     ]
    }
   ],
   "source": [
    "dfog = df2[['displacement_ln',  'horsepower_ln', 'weight_ln','acceleration','model_year']]\n",
    "\n",
    "for i in dfog.columns:\n",
    "    print(i, '\\t', vif(df=dfog, col_i=i))"
   ]
  },
  {
   "cell_type": "markdown",
   "metadata": {},
   "source": [
    "displacement_ln与weight_ln具有共线性，可剔除  \n",
    "这里用比率去制造一个新feature  "
   ]
  },
  {
   "cell_type": "code",
   "execution_count": 28,
   "metadata": {},
   "outputs": [
    {
     "name": "stdout",
     "output_type": "stream",
     "text": [
      "d_w_ratio \t 2.70459631012\n",
      "horsepower_ln \t 3.81117285355\n",
      "acceleration \t 2.08460887817\n",
      "model_year \t 1.16893644239\n"
     ]
    }
   ],
   "source": [
    "df2['d_w_ratio'] =   df2['weight']/df2['displacement']\n",
    "exog1 = df2[['d_w_ratio','horsepower_ln','acceleration','model_year']]\n",
    "\n",
    "for i in exog1.columns:\n",
    "    print(i, '\\t', vif(df=exog1, col_i=i))"
   ]
  },
  {
   "cell_type": "code",
   "execution_count": 29,
   "metadata": {
    "scrolled": true
   },
   "outputs": [
    {
     "data": {
      "text/html": [
       "<table class=\"simpletable\">\n",
       "<caption>OLS Regression Results</caption>\n",
       "<tr>\n",
       "  <th>Dep. Variable:</th>         <td>mpg_ln</td>      <th>  R-squared:         </th> <td>   0.874</td> \n",
       "</tr>\n",
       "<tr>\n",
       "  <th>Model:</th>                   <td>OLS</td>       <th>  Adj. R-squared:    </th> <td>   0.873</td> \n",
       "</tr>\n",
       "<tr>\n",
       "  <th>Method:</th>             <td>Least Squares</td>  <th>  F-statistic:       </th> <td>   637.3</td> \n",
       "</tr>\n",
       "<tr>\n",
       "  <th>Date:</th>             <td>Thu, 30 Nov 2017</td> <th>  Prob (F-statistic):</th> <td>1.08e-163</td>\n",
       "</tr>\n",
       "<tr>\n",
       "  <th>Time:</th>                 <td>11:29:36</td>     <th>  Log-Likelihood:    </th> <td>  274.15</td> \n",
       "</tr>\n",
       "<tr>\n",
       "  <th>No. Observations:</th>      <td>   372</td>      <th>  AIC:               </th> <td>  -538.3</td> \n",
       "</tr>\n",
       "<tr>\n",
       "  <th>Df Residuals:</th>          <td>   367</td>      <th>  BIC:               </th> <td>  -518.7</td> \n",
       "</tr>\n",
       "<tr>\n",
       "  <th>Df Model:</th>              <td>     4</td>      <th>                     </th>     <td> </td>    \n",
       "</tr>\n",
       "<tr>\n",
       "  <th>Covariance Type:</th>      <td>nonrobust</td>    <th>                     </th>     <td> </td>    \n",
       "</tr>\n",
       "</table>\n",
       "<table class=\"simpletable\">\n",
       "<tr>\n",
       "        <td></td>           <th>coef</th>     <th>std err</th>      <th>t</th>      <th>P>|t|</th>  <th>[0.025</th>    <th>0.975]</th>  \n",
       "</tr>\n",
       "<tr>\n",
       "  <th>Intercept</th>     <td>    4.7100</td> <td>    0.263</td> <td>   17.901</td> <td> 0.000</td> <td>    4.193</td> <td>    5.227</td>\n",
       "</tr>\n",
       "<tr>\n",
       "  <th>d_w_ratio</th>     <td>    0.0241</td> <td>    0.002</td> <td>   11.127</td> <td> 0.000</td> <td>    0.020</td> <td>    0.028</td>\n",
       "</tr>\n",
       "<tr>\n",
       "  <th>horsepower_ln</th> <td>   -0.6941</td> <td>    0.035</td> <td>  -19.873</td> <td> 0.000</td> <td>   -0.763</td> <td>   -0.625</td>\n",
       "</tr>\n",
       "<tr>\n",
       "  <th>acceleration</th>  <td>   -0.0384</td> <td>    0.003</td> <td>  -11.961</td> <td> 0.000</td> <td>   -0.045</td> <td>   -0.032</td>\n",
       "</tr>\n",
       "<tr>\n",
       "  <th>model_year</th>    <td>    0.0229</td> <td>    0.002</td> <td>   12.714</td> <td> 0.000</td> <td>    0.019</td> <td>    0.026</td>\n",
       "</tr>\n",
       "</table>\n",
       "<table class=\"simpletable\">\n",
       "<tr>\n",
       "  <th>Omnibus:</th>       <td> 0.968</td> <th>  Durbin-Watson:     </th> <td>   1.387</td>\n",
       "</tr>\n",
       "<tr>\n",
       "  <th>Prob(Omnibus):</th> <td> 0.616</td> <th>  Jarque-Bera (JB):  </th> <td>   0.737</td>\n",
       "</tr>\n",
       "<tr>\n",
       "  <th>Skew:</th>          <td>-0.033</td> <th>  Prob(JB):          </th> <td>   0.692</td>\n",
       "</tr>\n",
       "<tr>\n",
       "  <th>Kurtosis:</th>      <td> 3.208</td> <th>  Cond. No.          </th> <td>3.49e+03</td>\n",
       "</tr>\n",
       "</table>"
      ],
      "text/plain": [
       "<class 'statsmodels.iolib.summary.Summary'>\n",
       "\"\"\"\n",
       "                            OLS Regression Results                            \n",
       "==============================================================================\n",
       "Dep. Variable:                 mpg_ln   R-squared:                       0.874\n",
       "Model:                            OLS   Adj. R-squared:                  0.873\n",
       "Method:                 Least Squares   F-statistic:                     637.3\n",
       "Date:                Thu, 30 Nov 2017   Prob (F-statistic):          1.08e-163\n",
       "Time:                        11:29:36   Log-Likelihood:                 274.15\n",
       "No. Observations:                 372   AIC:                            -538.3\n",
       "Df Residuals:                     367   BIC:                            -518.7\n",
       "Df Model:                           4                                         \n",
       "Covariance Type:            nonrobust                                         \n",
       "=================================================================================\n",
       "                    coef    std err          t      P>|t|      [0.025      0.975]\n",
       "---------------------------------------------------------------------------------\n",
       "Intercept         4.7100      0.263     17.901      0.000       4.193       5.227\n",
       "d_w_ratio         0.0241      0.002     11.127      0.000       0.020       0.028\n",
       "horsepower_ln    -0.6941      0.035    -19.873      0.000      -0.763      -0.625\n",
       "acceleration     -0.0384      0.003    -11.961      0.000      -0.045      -0.032\n",
       "model_year        0.0229      0.002     12.714      0.000       0.019       0.026\n",
       "==============================================================================\n",
       "Omnibus:                        0.968   Durbin-Watson:                   1.387\n",
       "Prob(Omnibus):                  0.616   Jarque-Bera (JB):                0.737\n",
       "Skew:                          -0.033   Prob(JB):                        0.692\n",
       "Kurtosis:                       3.208   Cond. No.                     3.49e+03\n",
       "==============================================================================\n",
       "\n",
       "Warnings:\n",
       "[1] Standard Errors assume that the covariance matrix of the errors is correctly specified.\n",
       "[2] The condition number is large, 3.49e+03. This might indicate that there are\n",
       "strong multicollinearity or other numerical problems.\n",
       "\"\"\""
      ]
     },
     "execution_count": 29,
     "metadata": {},
     "output_type": "execute_result"
    }
   ],
   "source": [
    "ana6 = ols('mpg_ln ~ d_w_ratio + horsepower_ln + acceleration + model_year',data=df2).fit()\n",
    "ana6.summary()"
   ]
  },
  {
   "cell_type": "code",
   "execution_count": 30,
   "metadata": {
    "scrolled": true
   },
   "outputs": [
    {
     "name": "stdout",
     "output_type": "stream",
     "text": [
      "aic is -276.66486586708345,continuing!\n",
      "aic is -386.1259779372002,continuing!\n",
      "aic is -399.855984486945,continuing!\n",
      "aic is -406.22237435267436,continuing!\n",
      "final formula is mpg_ln ~ cylinders + model_year + d_w_ratio + acceleration \n",
      "0.820508073877\n"
     ]
    }
   ],
   "source": [
    "var_select = df2[['mpg_ln','d_w_ratio','cylinders','acceleration','model_year']]\n",
    "ana7 = forward_select(data=var_select, response='mpg_ln')\n",
    "print(ana7.rsquared)"
   ]
  },
  {
   "cell_type": "code",
   "execution_count": 31,
   "metadata": {},
   "outputs": [
    {
     "data": {
      "text/html": [
       "<table class=\"simpletable\">\n",
       "<caption>OLS Regression Results</caption>\n",
       "<tr>\n",
       "  <th>Dep. Variable:</th>         <td>mpg_ln</td>      <th>  R-squared:         </th> <td>   0.905</td> \n",
       "</tr>\n",
       "<tr>\n",
       "  <th>Model:</th>                   <td>OLS</td>       <th>  Adj. R-squared:    </th> <td>   0.904</td> \n",
       "</tr>\n",
       "<tr>\n",
       "  <th>Method:</th>             <td>Least Squares</td>  <th>  F-statistic:       </th> <td>   698.1</td> \n",
       "</tr>\n",
       "<tr>\n",
       "  <th>Date:</th>             <td>Thu, 30 Nov 2017</td> <th>  Prob (F-statistic):</th> <td>1.12e-184</td>\n",
       "</tr>\n",
       "<tr>\n",
       "  <th>Time:</th>                 <td>11:29:36</td>     <th>  Log-Likelihood:    </th> <td>  326.65</td> \n",
       "</tr>\n",
       "<tr>\n",
       "  <th>No. Observations:</th>      <td>   372</td>      <th>  AIC:               </th> <td>  -641.3</td> \n",
       "</tr>\n",
       "<tr>\n",
       "  <th>Df Residuals:</th>          <td>   366</td>      <th>  BIC:               </th> <td>  -617.8</td> \n",
       "</tr>\n",
       "<tr>\n",
       "  <th>Df Model:</th>              <td>     5</td>      <th>                     </th>     <td> </td>    \n",
       "</tr>\n",
       "<tr>\n",
       "  <th>Covariance Type:</th>      <td>nonrobust</td>    <th>                     </th>     <td> </td>    \n",
       "</tr>\n",
       "</table>\n",
       "<table class=\"simpletable\">\n",
       "<tr>\n",
       "         <td></td>           <th>coef</th>     <th>std err</th>      <th>t</th>      <th>P>|t|</th>  <th>[0.025</th>    <th>0.975]</th>  \n",
       "</tr>\n",
       "<tr>\n",
       "  <th>Intercept</th>      <td>    6.9600</td> <td>    0.297</td> <td>   23.443</td> <td> 0.000</td> <td>    6.376</td> <td>    7.544</td>\n",
       "</tr>\n",
       "<tr>\n",
       "  <th>C(origin)[T.2]</th> <td>   -0.0021</td> <td>    0.019</td> <td>   -0.109</td> <td> 0.913</td> <td>   -0.040</td> <td>    0.036</td>\n",
       "</tr>\n",
       "<tr>\n",
       "  <th>C(origin)[T.3]</th> <td>    0.0137</td> <td>    0.018</td> <td>    0.763</td> <td> 0.446</td> <td>   -0.022</td> <td>    0.049</td>\n",
       "</tr>\n",
       "<tr>\n",
       "  <th>weight_ln</th>      <td>   -0.7709</td> <td>    0.032</td> <td>  -24.456</td> <td> 0.000</td> <td>   -0.833</td> <td>   -0.709</td>\n",
       "</tr>\n",
       "<tr>\n",
       "  <th>model_year</th>     <td>    0.0269</td> <td>    0.002</td> <td>   16.845</td> <td> 0.000</td> <td>    0.024</td> <td>    0.030</td>\n",
       "</tr>\n",
       "<tr>\n",
       "  <th>d_w_ratio</th>      <td>    0.0129</td> <td>    0.002</td> <td>    5.567</td> <td> 0.000</td> <td>    0.008</td> <td>    0.017</td>\n",
       "</tr>\n",
       "</table>\n",
       "<table class=\"simpletable\">\n",
       "<tr>\n",
       "  <th>Omnibus:</th>       <td> 6.608</td> <th>  Durbin-Watson:     </th> <td>   1.300</td>\n",
       "</tr>\n",
       "<tr>\n",
       "  <th>Prob(Omnibus):</th> <td> 0.037</td> <th>  Jarque-Bera (JB):  </th> <td>   9.120</td>\n",
       "</tr>\n",
       "<tr>\n",
       "  <th>Skew:</th>          <td>-0.111</td> <th>  Prob(JB):          </th> <td>  0.0105</td>\n",
       "</tr>\n",
       "<tr>\n",
       "  <th>Kurtosis:</th>      <td> 3.734</td> <th>  Cond. No.          </th> <td>4.45e+03</td>\n",
       "</tr>\n",
       "</table>"
      ],
      "text/plain": [
       "<class 'statsmodels.iolib.summary.Summary'>\n",
       "\"\"\"\n",
       "                            OLS Regression Results                            \n",
       "==============================================================================\n",
       "Dep. Variable:                 mpg_ln   R-squared:                       0.905\n",
       "Model:                            OLS   Adj. R-squared:                  0.904\n",
       "Method:                 Least Squares   F-statistic:                     698.1\n",
       "Date:                Thu, 30 Nov 2017   Prob (F-statistic):          1.12e-184\n",
       "Time:                        11:29:36   Log-Likelihood:                 326.65\n",
       "No. Observations:                 372   AIC:                            -641.3\n",
       "Df Residuals:                     366   BIC:                            -617.8\n",
       "Df Model:                           5                                         \n",
       "Covariance Type:            nonrobust                                         \n",
       "==================================================================================\n",
       "                     coef    std err          t      P>|t|      [0.025      0.975]\n",
       "----------------------------------------------------------------------------------\n",
       "Intercept          6.9600      0.297     23.443      0.000       6.376       7.544\n",
       "C(origin)[T.2]    -0.0021      0.019     -0.109      0.913      -0.040       0.036\n",
       "C(origin)[T.3]     0.0137      0.018      0.763      0.446      -0.022       0.049\n",
       "weight_ln         -0.7709      0.032    -24.456      0.000      -0.833      -0.709\n",
       "model_year         0.0269      0.002     16.845      0.000       0.024       0.030\n",
       "d_w_ratio          0.0129      0.002      5.567      0.000       0.008       0.017\n",
       "==============================================================================\n",
       "Omnibus:                        6.608   Durbin-Watson:                   1.300\n",
       "Prob(Omnibus):                  0.037   Jarque-Bera (JB):                9.120\n",
       "Skew:                          -0.111   Prob(JB):                       0.0105\n",
       "Kurtosis:                       3.734   Cond. No.                     4.45e+03\n",
       "==============================================================================\n",
       "\n",
       "Warnings:\n",
       "[1] Standard Errors assume that the covariance matrix of the errors is correctly specified.\n",
       "[2] The condition number is large, 4.45e+03. This might indicate that there are\n",
       "strong multicollinearity or other numerical problems.\n",
       "\"\"\""
      ]
     },
     "execution_count": 31,
     "metadata": {},
     "output_type": "execute_result"
    }
   ],
   "source": [
    "formula8 = '''\n",
    "mpg_ln ~ weight_ln + model_year + d_w_ratio + \n",
    "C(origin) \n",
    "'''\n",
    "ana8 = ols(formula8, df2).fit()\n",
    "ana8.summary()"
   ]
  },
  {
   "cell_type": "code",
   "execution_count": 32,
   "metadata": {},
   "outputs": [
    {
     "name": "stderr",
     "output_type": "stream",
     "text": [
      "C:\\Users\\guofei\\Anaconda3\\lib\\site-packages\\statsmodels\\base\\model.py:1036: RuntimeWarning: invalid value encountered in true_divide\n",
      "  return self.params / self.bse\n",
      "C:\\Users\\guofei\\Anaconda3\\lib\\site-packages\\scipy\\stats\\_distn_infrastructure.py:879: RuntimeWarning: invalid value encountered in greater\n",
      "  return (self.a < x) & (x < self.b)\n",
      "C:\\Users\\guofei\\Anaconda3\\lib\\site-packages\\scipy\\stats\\_distn_infrastructure.py:879: RuntimeWarning: invalid value encountered in less\n",
      "  return (self.a < x) & (x < self.b)\n",
      "C:\\Users\\guofei\\Anaconda3\\lib\\site-packages\\scipy\\stats\\_distn_infrastructure.py:1818: RuntimeWarning: invalid value encountered in less_equal\n",
      "  cond2 = cond0 & (x <= self.a)\n"
     ]
    },
    {
     "data": {
      "text/html": [
       "<table class=\"simpletable\">\n",
       "<caption>OLS Regression Results</caption>\n",
       "<tr>\n",
       "  <th>Dep. Variable:</th>         <td>mpg_ln</td>      <th>  R-squared:         </th> <td>   0.908</td> \n",
       "</tr>\n",
       "<tr>\n",
       "  <th>Model:</th>                   <td>OLS</td>       <th>  Adj. R-squared:    </th> <td>   0.906</td> \n",
       "</tr>\n",
       "<tr>\n",
       "  <th>Method:</th>             <td>Least Squares</td>  <th>  F-statistic:       </th> <td>   357.9</td> \n",
       "</tr>\n",
       "<tr>\n",
       "  <th>Date:</th>             <td>Thu, 30 Nov 2017</td> <th>  Prob (F-statistic):</th> <td>1.41e-180</td>\n",
       "</tr>\n",
       "<tr>\n",
       "  <th>Time:</th>                 <td>11:29:36</td>     <th>  Log-Likelihood:    </th> <td>  333.18</td> \n",
       "</tr>\n",
       "<tr>\n",
       "  <th>No. Observations:</th>      <td>   372</td>      <th>  AIC:               </th> <td>  -644.4</td> \n",
       "</tr>\n",
       "<tr>\n",
       "  <th>Df Residuals:</th>          <td>   361</td>      <th>  BIC:               </th> <td>  -601.2</td> \n",
       "</tr>\n",
       "<tr>\n",
       "  <th>Df Model:</th>              <td>    10</td>      <th>                     </th>     <td> </td>    \n",
       "</tr>\n",
       "<tr>\n",
       "  <th>Covariance Type:</th>      <td>nonrobust</td>    <th>                     </th>     <td> </td>    \n",
       "</tr>\n",
       "</table>\n",
       "<table class=\"simpletable\">\n",
       "<tr>\n",
       "                 <td></td>                   <th>coef</th>     <th>std err</th>      <th>t</th>      <th>P>|t|</th>  <th>[0.025</th>    <th>0.975]</th>  \n",
       "</tr>\n",
       "<tr>\n",
       "  <th>Intercept</th>                      <td>    6.6823</td> <td>    0.344</td> <td>   19.407</td> <td> 0.000</td> <td>    6.005</td> <td>    7.359</td>\n",
       "</tr>\n",
       "<tr>\n",
       "  <th>C(cylinders)[T.5]</th>              <td>    0.0505</td> <td>    0.030</td> <td>    1.674</td> <td> 0.095</td> <td>   -0.009</td> <td>    0.110</td>\n",
       "</tr>\n",
       "<tr>\n",
       "  <th>C(cylinders)[T.6]</th>              <td>   -0.0234</td> <td>    0.028</td> <td>   -0.843</td> <td> 0.400</td> <td>   -0.078</td> <td>    0.031</td>\n",
       "</tr>\n",
       "<tr>\n",
       "  <th>C(cylinders)[T.8]</th>              <td>   -0.0398</td> <td>    0.038</td> <td>   -1.046</td> <td> 0.296</td> <td>   -0.115</td> <td>    0.035</td>\n",
       "</tr>\n",
       "<tr>\n",
       "  <th>C(origin)[T.2]:C(cylinders)[4]</th> <td>    0.0061</td> <td>    0.020</td> <td>    0.300</td> <td> 0.765</td> <td>   -0.034</td> <td>    0.046</td>\n",
       "</tr>\n",
       "<tr>\n",
       "  <th>C(origin)[T.3]:C(cylinders)[4]</th> <td>    0.0271</td> <td>    0.019</td> <td>    1.417</td> <td> 0.157</td> <td>   -0.010</td> <td>    0.065</td>\n",
       "</tr>\n",
       "<tr>\n",
       "  <th>C(origin)[T.2]:C(cylinders)[5]</th> <td>    0.0505</td> <td>    0.030</td> <td>    1.674</td> <td> 0.095</td> <td>   -0.009</td> <td>    0.110</td>\n",
       "</tr>\n",
       "<tr>\n",
       "  <th>C(origin)[T.3]:C(cylinders)[5]</th> <td>-1.623e-15</td> <td> 8.57e-17</td> <td>  -18.939</td> <td> 0.000</td> <td>-1.79e-15</td> <td>-1.45e-15</td>\n",
       "</tr>\n",
       "<tr>\n",
       "  <th>C(origin)[T.2]:C(cylinders)[6]</th> <td>   -0.1038</td> <td>    0.056</td> <td>   -1.863</td> <td> 0.063</td> <td>   -0.213</td> <td>    0.006</td>\n",
       "</tr>\n",
       "<tr>\n",
       "  <th>C(origin)[T.3]:C(cylinders)[6]</th> <td>   -0.0463</td> <td>    0.049</td> <td>   -0.953</td> <td> 0.341</td> <td>   -0.142</td> <td>    0.049</td>\n",
       "</tr>\n",
       "<tr>\n",
       "  <th>C(origin)[T.2]:C(cylinders)[8]</th> <td> -5.09e-18</td> <td> 2.64e-19</td> <td>  -19.314</td> <td> 0.000</td> <td>-5.61e-18</td> <td>-4.57e-18</td>\n",
       "</tr>\n",
       "<tr>\n",
       "  <th>C(origin)[T.3]:C(cylinders)[8]</th> <td>         0</td> <td>        0</td> <td>      nan</td> <td>   nan</td> <td>        0</td> <td>        0</td>\n",
       "</tr>\n",
       "<tr>\n",
       "  <th>weight_ln</th>                      <td>   -0.7298</td> <td>    0.042</td> <td>  -17.214</td> <td> 0.000</td> <td>   -0.813</td> <td>   -0.646</td>\n",
       "</tr>\n",
       "<tr>\n",
       "  <th>model_year</th>                     <td>    0.0269</td> <td>    0.002</td> <td>   16.663</td> <td> 0.000</td> <td>    0.024</td> <td>    0.030</td>\n",
       "</tr>\n",
       "<tr>\n",
       "  <th>d_w_ratio</th>                      <td>    0.0108</td> <td>    0.003</td> <td>    3.476</td> <td> 0.001</td> <td>    0.005</td> <td>    0.017</td>\n",
       "</tr>\n",
       "</table>\n",
       "<table class=\"simpletable\">\n",
       "<tr>\n",
       "  <th>Omnibus:</th>       <td> 8.205</td> <th>  Durbin-Watson:     </th> <td>   1.339</td>\n",
       "</tr>\n",
       "<tr>\n",
       "  <th>Prob(Omnibus):</th> <td> 0.017</td> <th>  Jarque-Bera (JB):  </th> <td>  12.673</td>\n",
       "</tr>\n",
       "<tr>\n",
       "  <th>Skew:</th>          <td>-0.107</td> <th>  Prob(JB):          </th> <td> 0.00177</td>\n",
       "</tr>\n",
       "<tr>\n",
       "  <th>Kurtosis:</th>      <td> 3.878</td> <th>  Cond. No.          </th> <td>4.35e+34</td>\n",
       "</tr>\n",
       "</table>"
      ],
      "text/plain": [
       "<class 'statsmodels.iolib.summary.Summary'>\n",
       "\"\"\"\n",
       "                            OLS Regression Results                            \n",
       "==============================================================================\n",
       "Dep. Variable:                 mpg_ln   R-squared:                       0.908\n",
       "Model:                            OLS   Adj. R-squared:                  0.906\n",
       "Method:                 Least Squares   F-statistic:                     357.9\n",
       "Date:                Thu, 30 Nov 2017   Prob (F-statistic):          1.41e-180\n",
       "Time:                        11:29:36   Log-Likelihood:                 333.18\n",
       "No. Observations:                 372   AIC:                            -644.4\n",
       "Df Residuals:                     361   BIC:                            -601.2\n",
       "Df Model:                          10                                         \n",
       "Covariance Type:            nonrobust                                         \n",
       "==================================================================================================\n",
       "                                     coef    std err          t      P>|t|      [0.025      0.975]\n",
       "--------------------------------------------------------------------------------------------------\n",
       "Intercept                          6.6823      0.344     19.407      0.000       6.005       7.359\n",
       "C(cylinders)[T.5]                  0.0505      0.030      1.674      0.095      -0.009       0.110\n",
       "C(cylinders)[T.6]                 -0.0234      0.028     -0.843      0.400      -0.078       0.031\n",
       "C(cylinders)[T.8]                 -0.0398      0.038     -1.046      0.296      -0.115       0.035\n",
       "C(origin)[T.2]:C(cylinders)[4]     0.0061      0.020      0.300      0.765      -0.034       0.046\n",
       "C(origin)[T.3]:C(cylinders)[4]     0.0271      0.019      1.417      0.157      -0.010       0.065\n",
       "C(origin)[T.2]:C(cylinders)[5]     0.0505      0.030      1.674      0.095      -0.009       0.110\n",
       "C(origin)[T.3]:C(cylinders)[5] -1.623e-15   8.57e-17    -18.939      0.000   -1.79e-15   -1.45e-15\n",
       "C(origin)[T.2]:C(cylinders)[6]    -0.1038      0.056     -1.863      0.063      -0.213       0.006\n",
       "C(origin)[T.3]:C(cylinders)[6]    -0.0463      0.049     -0.953      0.341      -0.142       0.049\n",
       "C(origin)[T.2]:C(cylinders)[8]  -5.09e-18   2.64e-19    -19.314      0.000   -5.61e-18   -4.57e-18\n",
       "C(origin)[T.3]:C(cylinders)[8]          0          0        nan        nan           0           0\n",
       "weight_ln                         -0.7298      0.042    -17.214      0.000      -0.813      -0.646\n",
       "model_year                         0.0269      0.002     16.663      0.000       0.024       0.030\n",
       "d_w_ratio                          0.0108      0.003      3.476      0.001       0.005       0.017\n",
       "==============================================================================\n",
       "Omnibus:                        8.205   Durbin-Watson:                   1.339\n",
       "Prob(Omnibus):                  0.017   Jarque-Bera (JB):               12.673\n",
       "Skew:                          -0.107   Prob(JB):                      0.00177\n",
       "Kurtosis:                       3.878   Cond. No.                     4.35e+34\n",
       "==============================================================================\n",
       "\n",
       "Warnings:\n",
       "[1] Standard Errors assume that the covariance matrix of the errors is correctly specified.\n",
       "[2] The smallest eigenvalue is 1.21e-63. This might indicate that there are\n",
       "strong multicollinearity problems or that the design matrix is singular.\n",
       "\"\"\""
      ]
     },
     "execution_count": 32,
     "metadata": {},
     "output_type": "execute_result"
    }
   ],
   "source": [
    "formula9 = '''\n",
    "mpg_ln ~ weight_ln + model_year + d_w_ratio + \n",
    "C(origin):C(cylinders) \n",
    "'''\n",
    "ana9 = ols(formula9, df2).fit()\n",
    "ana9.summary()"
   ]
  },
  {
   "cell_type": "markdown",
   "metadata": {},
   "source": [
    "## 正则算法\n",
    "ols.fit_regularized()\n",
    "- L1_wt=0: 使用岭回归\n",
    "- L1_wt=1使用lasso\n",
    "\n",
    "\n",
    "### 岭回归"
   ]
  },
  {
   "cell_type": "code",
   "execution_count": 34,
   "metadata": {
    "collapsed": true
   },
   "outputs": [],
   "source": [
    "lmr = ols('mpg ~ displacement+ horsepower+ weight+model_year ',\n",
    "          data=df).fit_regularized(alpha=1, L1_wt=0)\n",
    "lmr.summary()"
   ]
  },
  {
   "cell_type": "markdown",
   "metadata": {},
   "source": [
    "### LASSO"
   ]
  },
  {
   "cell_type": "code",
   "execution_count": 36,
   "metadata": {
    "collapsed": true
   },
   "outputs": [],
   "source": [
    "lmrl = ols('mpg ~ displacement+ horsepower+ weight+model_year ',\n",
    "          data=df).fit_regularized(alpha=1, L1_wt=1)\n",
    "lmrl.summary()"
   ]
  },
  {
   "cell_type": "markdown",
   "metadata": {},
   "source": [
    "### 使用scikit-learn进行正则化参数调优"
   ]
  },
  {
   "cell_type": "code",
   "execution_count": 84,
   "metadata": {},
   "outputs": [
    {
     "data": {
      "text/plain": [
       "RidgeCV(alphas=array([   0.1    ,    0.60201, ...,   99.49799,  100.     ]),\n",
       "    cv=None, fit_intercept=True, gcv_mode=None, normalize=False,\n",
       "    scoring=None, store_cv_values=True)"
      ]
     },
     "execution_count": 84,
     "metadata": {},
     "output_type": "execute_result"
    }
   ],
   "source": [
    "from sklearn.linear_model import RidgeCV\n",
    "\n",
    "X = df2[['displacement', 'horsepower', 'weight', 'model_year']]\n",
    "y = df2[['mpg_ln']]\n",
    "# alphas = np.logspace(-3, 1, 20, base=10)\n",
    "alphas=np.linspace(0.1,100,200)\n",
    "rcv = RidgeCV(alphas=alphas, store_cv_values=True) # Search the min MSE by CV\n",
    "rcv.fit(X, y)"
   ]
  },
  {
   "cell_type": "code",
   "execution_count": 86,
   "metadata": {},
   "outputs": [
    {
     "name": "stdout",
     "output_type": "stream",
     "text": [
      "The best alpha is 27.208542713567844\n",
      "The r-square is 0.8866376616239121\n"
     ]
    }
   ],
   "source": [
    "print('The best alpha is {}'.format(rcv.alpha_))\n",
    "print('The r-square is {}'.format(rcv.score(X,y))) # Default score is rsquared"
   ]
  },
  {
   "cell_type": "code",
   "execution_count": 87,
   "metadata": {},
   "outputs": [
    {
     "data": {
      "text/plain": [
       "array([[ 2.74232119],\n",
       "       [ 2.67233213],\n",
       "       [ 2.75356433],\n",
       "       [ 2.76461684],\n",
       "       [ 2.76062173]])"
      ]
     },
     "execution_count": 87,
     "metadata": {},
     "output_type": "execute_result"
    }
   ],
   "source": [
    "rcv.predict(X)[:5]"
   ]
  },
  {
   "cell_type": "code",
   "execution_count": 94,
   "metadata": {},
   "outputs": [
    {
     "data": {
      "image/png": "[encoded data removed]",
      "text/plain": [
       "<matplotlib.figure.Figure at 0x29154c94278>"
      ]
     },
     "metadata": {},
     "output_type": "display_data"
    }
   ],
   "source": [
    "cv_values = rcv.cv_values_[:, 0, :]\n",
    "cv_mean = cv_values.mean(axis=0)\n",
    "cv_std = cv_values.std(axis=0)\n",
    "ub = cv_mean + 0.0001*cv_std\n",
    "lb = cv_mean - 0.0001*cv_std\n",
    "\n",
    "# plt.semilogx(alphas, cv_mean, label='mean_score')\n",
    "plt.plot(alphas, cv_mean, label='mean_score')\n",
    "plt.fill_between(alphas, lb, ub, alpha=0.2)\n",
    "plt.xlabel(\"$\\\\alpha$\")\n",
    "plt.ylabel(\"mean squared errors\")\n",
    "plt.legend(loc=\"best\")\n",
    "plt.show()"
   ]
  },
  {
   "cell_type": "code",
   "execution_count": 44,
   "metadata": {},
   "outputs": [
    {
     "data": {
      "text/plain": [
       "array([[-0.00073724,  0.00017618, -0.00023434,  0.02564373]])"
      ]
     },
     "execution_count": 44,
     "metadata": {},
     "output_type": "execute_result"
    }
   ],
   "source": [
    "rcv.coef_"
   ]
  },
  {
   "cell_type": "code",
   "execution_count": 96,
   "metadata": {
    "collapsed": true
   },
   "outputs": [],
   "source": [
    "from sklearn.linear_model import Ridge\n",
    "\n",
    "ridge = Ridge()\n",
    "\n",
    "coefs = []\n",
    "for alpha in alphas:\n",
    "    ridge.set_params(alpha=alpha)\n",
    "    ridge.fit(X, y)\n",
    "    coefs.append(ridge.coef_)"
   ]
  },
  {
   "cell_type": "code",
   "execution_count": 102,
   "metadata": {},
   "outputs": [
    {
     "data": {
      "text/plain": [
       "[array([[-0.00073604,  0.00017814, -0.00023448,  0.02570758]]),\n",
       " array([[-0.0007361 ,  0.00017804, -0.00023447,  0.02570434]]),\n",
       " array([[-0.00073616,  0.00017794, -0.00023446,  0.02570109]]),\n",
       " array([[-0.00073622,  0.00017784, -0.00023446,  0.02569785]]),\n",
       " array([[-0.00073628,  0.00017775, -0.00023445,  0.0256946 ]]),\n",
       " array([[-0.00073634,  0.00017765, -0.00023444,  0.02569136]]),\n",
       " array([[-0.0007364 ,  0.00017755, -0.00023443,  0.02568812]]),\n",
       " array([[-0.00073647,  0.00017745, -0.00023443,  0.02568488]]),\n",
       " array([[-0.00073653,  0.00017735, -0.00023442,  0.02568164]]),\n",
       " array([[-0.00073659,  0.00017725, -0.00023441,  0.0256784 ]]),\n",
       " array([[-0.00073665,  0.00017715, -0.00023441,  0.02567517]]),\n",
       " array([[-0.00073671,  0.00017705, -0.0002344 ,  0.02567193]]),\n",
       " array([[-0.00073677,  0.00017695, -0.00023439,  0.02566869]]),\n",
       " array([[-0.00073683,  0.00017685, -0.00023439,  0.02566546]]),\n",
       " array([[-0.00073689,  0.00017675, -0.00023438,  0.02566222]]),\n",
       " array([[-0.00073695,  0.00017665, -0.00023437,  0.02565899]]),\n",
       " array([[-0.00073701,  0.00017655, -0.00023437,  0.02565576]]),\n",
       " array([[-0.00073707,  0.00017645, -0.00023436,  0.02565252]]),\n",
       " array([[-0.00073713,  0.00017635, -0.00023435,  0.02564929]]),\n",
       " array([[-0.00073719,  0.00017625, -0.00023435,  0.02564606]]),\n",
       " array([[-0.00073725,  0.00017615, -0.00023434,  0.02564283]]),\n",
       " array([[-0.00073731,  0.00017605, -0.00023433,  0.0256396 ]]),\n",
       " array([[-0.00073737,  0.00017596, -0.00023433,  0.02563637]]),\n",
       " array([[-0.00073743,  0.00017586, -0.00023432,  0.02563315]]),\n",
       " array([[-0.00073749,  0.00017576, -0.00023431,  0.02562992]]),\n",
       " array([[-0.00073755,  0.00017566, -0.00023431,  0.0256267 ]]),\n",
       " array([[-0.00073761,  0.00017556, -0.0002343 ,  0.02562347]]),\n",
       " array([[-0.00073768,  0.00017546, -0.00023429,  0.02562025]]),\n",
       " array([[-0.00073774,  0.00017536, -0.00023429,  0.02561702]]),\n",
       " array([[-0.0007378 ,  0.00017526, -0.00023428,  0.0256138 ]]),\n",
       " array([[-0.00073786,  0.00017516, -0.00023427,  0.02561058]]),\n",
       " array([[-0.00073792,  0.00017506, -0.00023427,  0.02560736]]),\n",
       " array([[-0.00073798,  0.00017496, -0.00023426,  0.02560414]]),\n",
       " array([[-0.00073804,  0.00017487, -0.00023425,  0.02560092]]),\n",
       " array([[-0.0007381 ,  0.00017477, -0.00023425,  0.0255977 ]]),\n",
       " array([[-0.00073816,  0.00017467, -0.00023424,  0.02559448]]),\n",
       " array([[-0.00073822,  0.00017457, -0.00023423,  0.02559127]]),\n",
       " array([[-0.00073828,  0.00017447, -0.00023423,  0.02558805]]),\n",
       " array([[-0.00073834,  0.00017437, -0.00023422,  0.02558484]]),\n",
       " array([[-0.0007384 ,  0.00017427, -0.00023421,  0.02558162]]),\n",
       " array([[-0.00073846,  0.00017417, -0.00023421,  0.02557841]]),\n",
       " array([[-0.00073852,  0.00017407, -0.0002342 ,  0.0255752 ]]),\n",
       " array([[-0.00073858,  0.00017398, -0.00023419,  0.02557198]]),\n",
       " array([[-0.00073864,  0.00017388, -0.00023418,  0.02556877]]),\n",
       " array([[-0.0007387 ,  0.00017378, -0.00023418,  0.02556556]]),\n",
       " array([[-0.00073876,  0.00017368, -0.00023417,  0.02556235]]),\n",
       " array([[-0.00073882,  0.00017358, -0.00023416,  0.02555914]]),\n",
       " array([[-0.00073888,  0.00017348, -0.00023416,  0.02555594]]),\n",
       " array([[-0.00073894,  0.00017338, -0.00023415,  0.02555273]]),\n",
       " array([[-0.000739  ,  0.00017329, -0.00023414,  0.02554952]]),\n",
       " array([[-0.00073906,  0.00017319, -0.00023414,  0.02554632]]),\n",
       " array([[-0.00073912,  0.00017309, -0.00023413,  0.02554311]]),\n",
       " array([[-0.00073918,  0.00017299, -0.00023412,  0.02553991]]),\n",
       " array([[-0.00073924,  0.00017289, -0.00023412,  0.02553671]]),\n",
       " array([[-0.0007393 ,  0.00017279, -0.00023411,  0.0255335 ]]),\n",
       " array([[-0.00073936,  0.0001727 , -0.0002341 ,  0.0255303 ]]),\n",
       " array([[-0.00073942,  0.0001726 , -0.0002341 ,  0.0255271 ]]),\n",
       " array([[-0.00073948,  0.0001725 , -0.00023409,  0.0255239 ]]),\n",
       " array([[-0.00073954,  0.0001724 , -0.00023408,  0.0255207 ]]),\n",
       " array([[-0.0007396 ,  0.0001723 , -0.00023408,  0.02551751]]),\n",
       " array([[-0.00073966,  0.0001722 , -0.00023407,  0.02551431]]),\n",
       " array([[-0.00073972,  0.00017211, -0.00023406,  0.02551111]]),\n",
       " array([[-0.00073978,  0.00017201, -0.00023406,  0.02550792]]),\n",
       " array([[-0.00073984,  0.00017191, -0.00023405,  0.02550472]]),\n",
       " array([[-0.0007399 ,  0.00017181, -0.00023404,  0.02550153]]),\n",
       " array([[-0.00073996,  0.00017171, -0.00023404,  0.02549833]]),\n",
       " array([[-0.00074002,  0.00017161, -0.00023403,  0.02549514]]),\n",
       " array([[-0.00074008,  0.00017152, -0.00023402,  0.02549195]]),\n",
       " array([[-0.00074014,  0.00017142, -0.00023402,  0.02548876]]),\n",
       " array([[-0.0007402 ,  0.00017132, -0.00023401,  0.02548557]]),\n",
       " array([[-0.00074026,  0.00017122, -0.000234  ,  0.02548238]]),\n",
       " array([[-0.00074031,  0.00017112, -0.000234  ,  0.02547919]]),\n",
       " array([[-0.00074037,  0.00017103, -0.00023399,  0.025476  ]]),\n",
       " array([[-0.00074043,  0.00017093, -0.00023398,  0.02547282]]),\n",
       " array([[-0.00074049,  0.00017083, -0.00023398,  0.02546963]]),\n",
       " array([[-0.00074055,  0.00017073, -0.00023397,  0.02546644]]),\n",
       " array([[-0.00074061,  0.00017063, -0.00023396,  0.02546326]]),\n",
       " array([[-0.00074067,  0.00017054, -0.00023396,  0.02546008]]),\n",
       " array([[-0.00074073,  0.00017044, -0.00023395,  0.02545689]]),\n",
       " array([[-0.00074079,  0.00017034, -0.00023394,  0.02545371]]),\n",
       " array([[-0.00074085,  0.00017024, -0.00023394,  0.02545053]]),\n",
       " array([[-0.00074091,  0.00017015, -0.00023393,  0.02544735]]),\n",
       " array([[-0.00074097,  0.00017005, -0.00023392,  0.02544417]]),\n",
       " array([[-0.00074103,  0.00016995, -0.00023392,  0.02544099]]),\n",
       " array([[-0.00074109,  0.00016985, -0.00023391,  0.02543781]]),\n",
       " array([[-0.00074115,  0.00016976, -0.0002339 ,  0.02543464]]),\n",
       " array([[-0.00074121,  0.00016966, -0.0002339 ,  0.02543146]]),\n",
       " array([[-0.00074127,  0.00016956, -0.00023389,  0.02542828]]),\n",
       " array([[-0.00074133,  0.00016946, -0.00023388,  0.02542511]]),\n",
       " array([[-0.00074139,  0.00016936, -0.00023388,  0.02542193]]),\n",
       " array([[-0.00074145,  0.00016927, -0.00023387,  0.02541876]]),\n",
       " array([[-0.0007415 ,  0.00016917, -0.00023386,  0.02541559]]),\n",
       " array([[-0.00074156,  0.00016907, -0.00023386,  0.02541242]]),\n",
       " array([[-0.00074162,  0.00016897, -0.00023385,  0.02540924]]),\n",
       " array([[-0.00074168,  0.00016888, -0.00023384,  0.02540607]]),\n",
       " array([[-0.00074174,  0.00016878, -0.00023384,  0.02540291]]),\n",
       " array([[-0.0007418 ,  0.00016868, -0.00023383,  0.02539974]]),\n",
       " array([[-0.00074186,  0.00016859, -0.00023382,  0.02539657]]),\n",
       " array([[-0.00074192,  0.00016849, -0.00023382,  0.0253934 ]]),\n",
       " array([[-0.00074198,  0.00016839, -0.00023381,  0.02539024]]),\n",
       " array([[-0.00074204,  0.00016829, -0.0002338 ,  0.02538707]]),\n",
       " array([[-0.0007421 ,  0.0001682 , -0.0002338 ,  0.02538391]]),\n",
       " array([[-0.00074216,  0.0001681 , -0.00023379,  0.02538074]]),\n",
       " array([[-0.00074222,  0.000168  , -0.00023378,  0.02537758]]),\n",
       " array([[-0.00074228,  0.0001679 , -0.00023378,  0.02537442]]),\n",
       " array([[-0.00074233,  0.00016781, -0.00023377,  0.02537125]]),\n",
       " array([[-0.00074239,  0.00016771, -0.00023376,  0.02536809]]),\n",
       " array([[-0.00074245,  0.00016761, -0.00023376,  0.02536493]]),\n",
       " array([[-0.00074251,  0.00016752, -0.00023375,  0.02536177]]),\n",
       " array([[-0.00074257,  0.00016742, -0.00023374,  0.02535862]]),\n",
       " array([[-0.00074263,  0.00016732, -0.00023374,  0.02535546]]),\n",
       " array([[-0.00074269,  0.00016722, -0.00023373,  0.0253523 ]]),\n",
       " array([[-0.00074275,  0.00016713, -0.00023373,  0.02534915]]),\n",
       " array([[-0.00074281,  0.00016703, -0.00023372,  0.02534599]]),\n",
       " array([[-0.00074287,  0.00016693, -0.00023371,  0.02534284]]),\n",
       " array([[-0.00074293,  0.00016684, -0.00023371,  0.02533968]]),\n",
       " array([[-0.00074298,  0.00016674, -0.0002337 ,  0.02533653]]),\n",
       " array([[-0.00074304,  0.00016664, -0.00023369,  0.02533338]]),\n",
       " array([[-0.0007431 ,  0.00016655, -0.00023369,  0.02533023]]),\n",
       " array([[-0.00074316,  0.00016645, -0.00023368,  0.02532708]]),\n",
       " array([[-0.00074322,  0.00016635, -0.00023367,  0.02532393]]),\n",
       " array([[-0.00074328,  0.00016626, -0.00023367,  0.02532078]]),\n",
       " array([[-0.00074334,  0.00016616, -0.00023366,  0.02531763]]),\n",
       " array([[-0.0007434 ,  0.00016606, -0.00023365,  0.02531448]]),\n",
       " array([[-0.00074346,  0.00016597, -0.00023365,  0.02531133]]),\n",
       " array([[-0.00074351,  0.00016587, -0.00023364,  0.02530819]]),\n",
       " array([[-0.00074357,  0.00016577, -0.00023363,  0.02530504]]),\n",
       " array([[-0.00074363,  0.00016568, -0.00023363,  0.0253019 ]]),\n",
       " array([[-0.00074369,  0.00016558, -0.00023362,  0.02529876]]),\n",
       " array([[-0.00074375,  0.00016548, -0.00023361,  0.02529561]]),\n",
       " array([[-0.00074381,  0.00016539, -0.00023361,  0.02529247]]),\n",
       " array([[-0.00074387,  0.00016529, -0.0002336 ,  0.02528933]]),\n",
       " array([[-0.00074393,  0.00016519, -0.00023359,  0.02528619]]),\n",
       " array([[-0.00074398,  0.0001651 , -0.00023359,  0.02528305]]),\n",
       " array([[-0.00074404,  0.000165  , -0.00023358,  0.02527991]]),\n",
       " array([[-0.0007441 ,  0.0001649 , -0.00023357,  0.02527677]]),\n",
       " array([[-0.00074416,  0.00016481, -0.00023357,  0.02527364]]),\n",
       " array([[-0.00074422,  0.00016471, -0.00023356,  0.0252705 ]]),\n",
       " array([[-0.00074428,  0.00016462, -0.00023355,  0.02526736]]),\n",
       " array([[-0.00074434,  0.00016452, -0.00023355,  0.02526423]]),\n",
       " array([[-0.0007444 ,  0.00016442, -0.00023354,  0.0252611 ]]),\n",
       " array([[-0.00074445,  0.00016433, -0.00023353,  0.02525796]]),\n",
       " array([[-0.00074451,  0.00016423, -0.00023353,  0.02525483]]),\n",
       " array([[-0.00074457,  0.00016413, -0.00023352,  0.0252517 ]]),\n",
       " array([[-0.00074463,  0.00016404, -0.00023351,  0.02524857]]),\n",
       " array([[-0.00074469,  0.00016394, -0.00023351,  0.02524544]]),\n",
       " array([[-0.00074475,  0.00016385, -0.0002335 ,  0.02524231]]),\n",
       " array([[-0.00074481,  0.00016375, -0.0002335 ,  0.02523918]]),\n",
       " array([[-0.00074486,  0.00016365, -0.00023349,  0.02523605]]),\n",
       " array([[-0.00074492,  0.00016356, -0.00023348,  0.02523292]]),\n",
       " array([[-0.00074498,  0.00016346, -0.00023348,  0.0252298 ]]),\n",
       " array([[-0.00074504,  0.00016336, -0.00023347,  0.02522667]]),\n",
       " array([[-0.0007451 ,  0.00016327, -0.00023346,  0.02522355]]),\n",
       " array([[-0.00074516,  0.00016317, -0.00023346,  0.02522042]]),\n",
       " array([[-0.00074521,  0.00016308, -0.00023345,  0.0252173 ]]),\n",
       " array([[-0.00074527,  0.00016298, -0.00023344,  0.02521418]]),\n",
       " array([[-0.00074533,  0.00016289, -0.00023344,  0.02521106]]),\n",
       " array([[-0.00074539,  0.00016279, -0.00023343,  0.02520794]]),\n",
       " array([[-0.00074545,  0.00016269, -0.00023342,  0.02520481]]),\n",
       " array([[-0.00074551,  0.0001626 , -0.00023342,  0.0252017 ]]),\n",
       " array([[-0.00074556,  0.0001625 , -0.00023341,  0.02519858]]),\n",
       " array([[-0.00074562,  0.00016241, -0.0002334 ,  0.02519546]]),\n",
       " array([[-0.00074568,  0.00016231, -0.0002334 ,  0.02519234]]),\n",
       " array([[-0.00074574,  0.00016221, -0.00023339,  0.02518923]]),\n",
       " array([[-0.0007458 ,  0.00016212, -0.00023338,  0.02518611]]),\n",
       " array([[-0.00074586,  0.00016202, -0.00023338,  0.025183  ]]),\n",
       " array([[-0.00074591,  0.00016193, -0.00023337,  0.02517988]]),\n",
       " array([[-0.00074597,  0.00016183, -0.00023336,  0.02517677]]),\n",
       " array([[-0.00074603,  0.00016174, -0.00023336,  0.02517366]]),\n",
       " array([[-0.00074609,  0.00016164, -0.00023335,  0.02517054]]),\n",
       " array([[-0.00074615,  0.00016154, -0.00023334,  0.02516743]]),\n",
       " array([[-0.00074621,  0.00016145, -0.00023334,  0.02516432]]),\n",
       " array([[-0.00074626,  0.00016135, -0.00023333,  0.02516121]]),\n",
       " array([[-0.00074632,  0.00016126, -0.00023333,  0.02515811]]),\n",
       " array([[-0.00074638,  0.00016116, -0.00023332,  0.025155  ]]),\n",
       " array([[-0.00074644,  0.00016107, -0.00023331,  0.02515189]]),\n",
       " array([[-0.0007465 ,  0.00016097, -0.00023331,  0.02514878]]),\n",
       " array([[-0.00074655,  0.00016088, -0.0002333 ,  0.02514568]]),\n",
       " array([[-0.00074661,  0.00016078, -0.00023329,  0.02514257]]),\n",
       " array([[-0.00074667,  0.00016069, -0.00023329,  0.02513947]]),\n",
       " array([[-0.00074673,  0.00016059, -0.00023328,  0.02513637]]),\n",
       " array([[-0.00074679,  0.0001605 , -0.00023327,  0.02513327]]),\n",
       " array([[-0.00074684,  0.0001604 , -0.00023327,  0.02513016]]),\n",
       " array([[-0.0007469 ,  0.0001603 , -0.00023326,  0.02512706]]),\n",
       " array([[-0.00074696,  0.00016021, -0.00023325,  0.02512396]]),\n",
       " array([[-0.00074702,  0.00016011, -0.00023325,  0.02512086]]),\n",
       " array([[-0.00074708,  0.00016002, -0.00023324,  0.02511776]]),\n",
       " array([[-0.00074713,  0.00015992, -0.00023323,  0.02511467]]),\n",
       " array([[-0.00074719,  0.00015983, -0.00023323,  0.02511157]]),\n",
       " array([[-0.00074725,  0.00015973, -0.00023322,  0.02510847]]),\n",
       " array([[-0.00074731,  0.00015964, -0.00023322,  0.02510538]]),\n",
       " array([[-0.00074737,  0.00015954, -0.00023321,  0.02510228]]),\n",
       " array([[-0.00074742,  0.00015945, -0.0002332 ,  0.02509919]]),\n",
       " array([[-0.00074748,  0.00015935, -0.0002332 ,  0.0250961 ]]),\n",
       " array([[-0.00074754,  0.00015926, -0.00023319,  0.025093  ]]),\n",
       " array([[-0.0007476 ,  0.00015916, -0.00023318,  0.02508991]]),\n",
       " array([[-0.00074766,  0.00015907, -0.00023318,  0.02508682]]),\n",
       " array([[-0.00074771,  0.00015897, -0.00023317,  0.02508373]]),\n",
       " array([[-0.00074777,  0.00015888, -0.00023316,  0.02508064]]),\n",
       " array([[-0.00074783,  0.00015878, -0.00023316,  0.02507755]])]"
      ]
     },
     "execution_count": 102,
     "metadata": {},
     "output_type": "execute_result"
    }
   ],
   "source": [
    "coefs"
   ]
  },
  {
   "cell_type": "code",
   "execution_count": 101,
   "metadata": {},
   "outputs": [
    {
     "ename": "ValueError",
     "evalue": "x and y can be no greater than 2-D, but have shapes (200,) and (200, 1, 4)",
     "output_type": "error",
     "traceback": [
      "\u001b[1;31m---------------------------------------------------------------------------\u001b[0m",
      "\u001b[1;31mValueError\u001b[0m                                Traceback (most recent call last)",
      "\u001b[1;32m<ipython-input-101-14f51c0c51e7>\u001b[0m in \u001b[0;36m<module>\u001b[1;34m()\u001b[0m\n\u001b[0;32m      1\u001b[0m \u001b[0max\u001b[0m \u001b[1;33m=\u001b[0m \u001b[0mplt\u001b[0m\u001b[1;33m.\u001b[0m\u001b[0mgca\u001b[0m\u001b[1;33m(\u001b[0m\u001b[1;33m)\u001b[0m\u001b[1;33m\u001b[0m\u001b[0m\n\u001b[0;32m      2\u001b[0m \u001b[1;33m\u001b[0m\u001b[0m\n\u001b[1;32m----> 3\u001b[1;33m \u001b[0max\u001b[0m\u001b[1;33m.\u001b[0m\u001b[0mplot\u001b[0m\u001b[1;33m(\u001b[0m\u001b[0malphas\u001b[0m\u001b[1;33m,\u001b[0m \u001b[0mcoefs\u001b[0m\u001b[1;33m)\u001b[0m\u001b[1;33m\u001b[0m\u001b[0m\n\u001b[0m\u001b[0;32m      4\u001b[0m \u001b[1;31m# ax.set_xscale('log')\u001b[0m\u001b[1;33m\u001b[0m\u001b[1;33m\u001b[0m\u001b[0m\n\u001b[0;32m      5\u001b[0m \u001b[1;31m# plt.xlabel('alpha')\u001b[0m\u001b[1;33m\u001b[0m\u001b[1;33m\u001b[0m\u001b[0m\n",
      "\u001b[1;32m~\\Anaconda3\\lib\\site-packages\\matplotlib\\__init__.py\u001b[0m in \u001b[0;36minner\u001b[1;34m(ax, *args, **kwargs)\u001b[0m\n\u001b[0;32m   1896\u001b[0m                     warnings.warn(msg % (label_namer, func.__name__),\n\u001b[0;32m   1897\u001b[0m                                   RuntimeWarning, stacklevel=2)\n\u001b[1;32m-> 1898\u001b[1;33m             \u001b[1;32mreturn\u001b[0m \u001b[0mfunc\u001b[0m\u001b[1;33m(\u001b[0m\u001b[0max\u001b[0m\u001b[1;33m,\u001b[0m \u001b[1;33m*\u001b[0m\u001b[0margs\u001b[0m\u001b[1;33m,\u001b[0m \u001b[1;33m**\u001b[0m\u001b[0mkwargs\u001b[0m\u001b[1;33m)\u001b[0m\u001b[1;33m\u001b[0m\u001b[0m\n\u001b[0m\u001b[0;32m   1899\u001b[0m         \u001b[0mpre_doc\u001b[0m \u001b[1;33m=\u001b[0m \u001b[0minner\u001b[0m\u001b[1;33m.\u001b[0m\u001b[0m__doc__\u001b[0m\u001b[1;33m\u001b[0m\u001b[0m\n\u001b[0;32m   1900\u001b[0m         \u001b[1;32mif\u001b[0m \u001b[0mpre_doc\u001b[0m \u001b[1;32mis\u001b[0m \u001b[1;32mNone\u001b[0m\u001b[1;33m:\u001b[0m\u001b[1;33m\u001b[0m\u001b[0m\n",
      "\u001b[1;32m~\\Anaconda3\\lib\\site-packages\\matplotlib\\axes\\_axes.py\u001b[0m in \u001b[0;36mplot\u001b[1;34m(self, *args, **kwargs)\u001b[0m\n\u001b[0;32m   1404\u001b[0m         \u001b[0mkwargs\u001b[0m \u001b[1;33m=\u001b[0m \u001b[0mcbook\u001b[0m\u001b[1;33m.\u001b[0m\u001b[0mnormalize_kwargs\u001b[0m\u001b[1;33m(\u001b[0m\u001b[0mkwargs\u001b[0m\u001b[1;33m,\u001b[0m \u001b[0m_alias_map\u001b[0m\u001b[1;33m)\u001b[0m\u001b[1;33m\u001b[0m\u001b[0m\n\u001b[0;32m   1405\u001b[0m \u001b[1;33m\u001b[0m\u001b[0m\n\u001b[1;32m-> 1406\u001b[1;33m         \u001b[1;32mfor\u001b[0m \u001b[0mline\u001b[0m \u001b[1;32min\u001b[0m \u001b[0mself\u001b[0m\u001b[1;33m.\u001b[0m\u001b[0m_get_lines\u001b[0m\u001b[1;33m(\u001b[0m\u001b[1;33m*\u001b[0m\u001b[0margs\u001b[0m\u001b[1;33m,\u001b[0m \u001b[1;33m**\u001b[0m\u001b[0mkwargs\u001b[0m\u001b[1;33m)\u001b[0m\u001b[1;33m:\u001b[0m\u001b[1;33m\u001b[0m\u001b[0m\n\u001b[0m\u001b[0;32m   1407\u001b[0m             \u001b[0mself\u001b[0m\u001b[1;33m.\u001b[0m\u001b[0madd_line\u001b[0m\u001b[1;33m(\u001b[0m\u001b[0mline\u001b[0m\u001b[1;33m)\u001b[0m\u001b[1;33m\u001b[0m\u001b[0m\n\u001b[0;32m   1408\u001b[0m             \u001b[0mlines\u001b[0m\u001b[1;33m.\u001b[0m\u001b[0mappend\u001b[0m\u001b[1;33m(\u001b[0m\u001b[0mline\u001b[0m\u001b[1;33m)\u001b[0m\u001b[1;33m\u001b[0m\u001b[0m\n",
      "\u001b[1;32m~\\Anaconda3\\lib\\site-packages\\matplotlib\\axes\\_base.py\u001b[0m in \u001b[0;36m_grab_next_args\u001b[1;34m(self, *args, **kwargs)\u001b[0m\n\u001b[0;32m    405\u001b[0m                 \u001b[1;32mreturn\u001b[0m\u001b[1;33m\u001b[0m\u001b[0m\n\u001b[0;32m    406\u001b[0m             \u001b[1;32mif\u001b[0m \u001b[0mlen\u001b[0m\u001b[1;33m(\u001b[0m\u001b[0mremaining\u001b[0m\u001b[1;33m)\u001b[0m \u001b[1;33m<=\u001b[0m \u001b[1;36m3\u001b[0m\u001b[1;33m:\u001b[0m\u001b[1;33m\u001b[0m\u001b[0m\n\u001b[1;32m--> 407\u001b[1;33m                 \u001b[1;32mfor\u001b[0m \u001b[0mseg\u001b[0m \u001b[1;32min\u001b[0m \u001b[0mself\u001b[0m\u001b[1;33m.\u001b[0m\u001b[0m_plot_args\u001b[0m\u001b[1;33m(\u001b[0m\u001b[0mremaining\u001b[0m\u001b[1;33m,\u001b[0m \u001b[0mkwargs\u001b[0m\u001b[1;33m)\u001b[0m\u001b[1;33m:\u001b[0m\u001b[1;33m\u001b[0m\u001b[0m\n\u001b[0m\u001b[0;32m    408\u001b[0m                     \u001b[1;32myield\u001b[0m \u001b[0mseg\u001b[0m\u001b[1;33m\u001b[0m\u001b[0m\n\u001b[0;32m    409\u001b[0m                 \u001b[1;32mreturn\u001b[0m\u001b[1;33m\u001b[0m\u001b[0m\n",
      "\u001b[1;32m~\\Anaconda3\\lib\\site-packages\\matplotlib\\axes\\_base.py\u001b[0m in \u001b[0;36m_plot_args\u001b[1;34m(self, tup, kwargs)\u001b[0m\n\u001b[0;32m    383\u001b[0m             \u001b[0mx\u001b[0m\u001b[1;33m,\u001b[0m \u001b[0my\u001b[0m \u001b[1;33m=\u001b[0m \u001b[0mindex_of\u001b[0m\u001b[1;33m(\u001b[0m\u001b[0mtup\u001b[0m\u001b[1;33m[\u001b[0m\u001b[1;33m-\u001b[0m\u001b[1;36m1\u001b[0m\u001b[1;33m]\u001b[0m\u001b[1;33m)\u001b[0m\u001b[1;33m\u001b[0m\u001b[0m\n\u001b[0;32m    384\u001b[0m \u001b[1;33m\u001b[0m\u001b[0m\n\u001b[1;32m--> 385\u001b[1;33m         \u001b[0mx\u001b[0m\u001b[1;33m,\u001b[0m \u001b[0my\u001b[0m \u001b[1;33m=\u001b[0m \u001b[0mself\u001b[0m\u001b[1;33m.\u001b[0m\u001b[0m_xy_from_xy\u001b[0m\u001b[1;33m(\u001b[0m\u001b[0mx\u001b[0m\u001b[1;33m,\u001b[0m \u001b[0my\u001b[0m\u001b[1;33m)\u001b[0m\u001b[1;33m\u001b[0m\u001b[0m\n\u001b[0m\u001b[0;32m    386\u001b[0m \u001b[1;33m\u001b[0m\u001b[0m\n\u001b[0;32m    387\u001b[0m         \u001b[1;32mif\u001b[0m \u001b[0mself\u001b[0m\u001b[1;33m.\u001b[0m\u001b[0mcommand\u001b[0m \u001b[1;33m==\u001b[0m \u001b[1;34m'plot'\u001b[0m\u001b[1;33m:\u001b[0m\u001b[1;33m\u001b[0m\u001b[0m\n",
      "\u001b[1;32m~\\Anaconda3\\lib\\site-packages\\matplotlib\\axes\\_base.py\u001b[0m in \u001b[0;36m_xy_from_xy\u001b[1;34m(self, x, y)\u001b[0m\n\u001b[0;32m    245\u001b[0m         \u001b[1;32mif\u001b[0m \u001b[0mx\u001b[0m\u001b[1;33m.\u001b[0m\u001b[0mndim\u001b[0m \u001b[1;33m>\u001b[0m \u001b[1;36m2\u001b[0m \u001b[1;32mor\u001b[0m \u001b[0my\u001b[0m\u001b[1;33m.\u001b[0m\u001b[0mndim\u001b[0m \u001b[1;33m>\u001b[0m \u001b[1;36m2\u001b[0m\u001b[1;33m:\u001b[0m\u001b[1;33m\u001b[0m\u001b[0m\n\u001b[0;32m    246\u001b[0m             raise ValueError(\"x and y can be no greater than 2-D, but have \"\n\u001b[1;32m--> 247\u001b[1;33m                              \"shapes {} and {}\".format(x.shape, y.shape))\n\u001b[0m\u001b[0;32m    248\u001b[0m \u001b[1;33m\u001b[0m\u001b[0m\n\u001b[0;32m    249\u001b[0m         \u001b[1;32mif\u001b[0m \u001b[0mx\u001b[0m\u001b[1;33m.\u001b[0m\u001b[0mndim\u001b[0m \u001b[1;33m==\u001b[0m \u001b[1;36m1\u001b[0m\u001b[1;33m:\u001b[0m\u001b[1;33m\u001b[0m\u001b[0m\n",
      "\u001b[1;31mValueError\u001b[0m: x and y can be no greater than 2-D, but have shapes (200,) and (200, 1, 4)"
     ]
    },
    {
     "data": {
      "image/png": "[encoded data removed]",
      "text/plain": [
       "<matplotlib.figure.Figure at 0x29151fb9828>"
      ]
     },
     "metadata": {},
     "output_type": "display_data"
    }
   ],
   "source": [
    "ax = plt.gca()\n",
    "\n",
    "ax.plot(alphas, coefs)\n",
    "# ax.set_xscale('log')\n",
    "# plt.xlabel('alpha')\n",
    "# plt.ylabel('weights')\n",
    "# plt.title('Ridge coefficients as a function of the regularization')\n",
    "# plt.axis('tight')\n",
    "plt.show()"
   ]
  },
  {
   "cell_type": "code",
   "execution_count": null,
   "metadata": {
    "collapsed": true
   },
   "outputs": [],
   "source": []
  }
 ],
 "metadata": {
  "anaconda-cloud": {},
  "kernelspec": {
   "display_name": "Python 3",
   "language": "python",
   "name": "python3"
  },
  "language_info": {
   "codemirror_mode": {
    "name": "ipython",
    "version": 3
   },
   "file_extension": ".py",
   "mimetype": "text/x-python",
   "name": "python",
   "nbconvert_exporter": "python",
   "pygments_lexer": "ipython3",
   "version": "3.6.2"
  }
 },
 "nbformat": 4,
 "nbformat_minor": 1
}
