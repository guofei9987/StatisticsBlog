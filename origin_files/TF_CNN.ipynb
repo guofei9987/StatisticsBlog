{
 "cells": [
  {
   "cell_type": "code",
   "execution_count": 1,
   "metadata": {},
   "outputs": [
    {
     "name": "stdout",
     "output_type": "stream",
     "text": [
      "Extracting ../../haha\\train-images-idx3-ubyte.gz\n",
      "Extracting ../../haha\\train-labels-idx1-ubyte.gz\n",
      "Extracting ../../haha\\t10k-images-idx3-ubyte.gz\n",
      "Extracting ../../haha\\t10k-labels-idx1-ubyte.gz\n"
     ]
    }
   ],
   "source": [
    "import tensorflow as tf\n",
    "import pandas as pd\n",
    "import numpy as np\n",
    "from tensorflow.examples.tutorials.mnist import input_data\n",
    "\n",
    "mnist=input_data.read_data_sets('../../haha')\n",
    "\n",
    "sess=tf.Session()"
   ]
  },
  {
   "cell_type": "code",
   "execution_count": 2,
   "metadata": {
    "collapsed": true
   },
   "outputs": [],
   "source": [
    "x=tf.placeholder(tf.float32,shape=(None,784))\n",
    "y_=tf.placeholder(tf.float32,shape=(None,10))\n",
    "x_image=tf.reshape(x,[-1,28,28,1])#-1表示样本数量不固定，1代表颜色通道数"
   ]
  },
  {
   "cell_type": "code",
   "execution_count": 3,
   "metadata": {
    "collapsed": true
   },
   "outputs": [],
   "source": [
    "# tf.nn.conv2d(x,kernel,strides=[1,1,1,1],padding='SAME')\n",
    "# #kernel[0,1]数表示卷积核的尺寸，\n",
    "# #kernel[2]表示channel数量，灰度图片是1，RGB图是3\n",
    "# #kernel[3]表示卷积核的数量\n",
    "# #padding='SAME'表示边界加上padding，使得卷积的输入和输出保持同样的尺寸\n",
    "# #padding='VALID'表示取样不超过边框\n",
    "\n",
    "\n",
    "# tf.nn.max_pool(x,ksize=[1,3,3,1],strides=[1,2,2,1],padding='SAME')#池化尺寸3*3，横竖步长为2*2，padding='VALID'表示取样不超过边框，padding='SAME'表示加边框"
   ]
  },
  {
   "cell_type": "code",
   "execution_count": 4,
   "metadata": {
    "collapsed": true
   },
   "outputs": [],
   "source": [
    "w_conv1=tf.Variable(tf.truncated_normal(shape=(5,5,1,32),stddev=0.1))\n",
    "b_conv1=tf.Variable(tf.constant([0.1],shape=(1,32)))\n",
    "\n",
    "h_conv1_1=tf.nn.conv2d(x_image,w_conv1,strides=[1,1,1,1],padding='SAME')\n",
    "h_conv1=tf.nn.relu(h_conv1_1+b_conv1)\n",
    "h_pool1=tf.nn.max_pool(h_conv1,ksize=[1,2,2,1],strides=[1,2,2,1],padding='SAME')\n",
    "\n",
    "\n",
    "\n",
    "w_conv2=tf.Variable(tf.truncated_normal(shape=(5,5,32,64),stddev=0.1))\n",
    "b_conv2=tf.Variable(tf.constant([0.1],shape=(1,64)))\n",
    "\n",
    "h_conv2_1=tf.nn.conv2d(h_pool1,w_conv2,strides=[1,1,1,1],padding='SAME')\n",
    "h_conv2=tf.nn.relu(h_conv2_1+b_conv2)\n",
    "h_pool2=tf.nn.max_pool(h_conv2,ksize=[1,2,2,1],strides=[1,2,2,1],padding='SAME')\n",
    "\n",
    "\n",
    "#全连接层\n",
    "w_fc1=tf.Variable(tf.truncated_normal(shape=(7*7*64,1024),stddev=0.1))\n",
    "b_fc1=tf.Variable(tf.constant([0.1],shape=(1,1024)))\n",
    "h_pool2_flat=tf.reshape(h_pool2,[-1,7*7*64])#压平\n",
    "h_fc=tf.nn.relu(tf.matmul(h_pool2_flat,w_fc1)+b_fc1)\n",
    "\n",
    "# dropout\n",
    "keep_prob=tf.placeholder(tf.float32)\n",
    "h_fc1_drop=tf.nn.dropout(h_fc,keep_prob)\n",
    "\n",
    "\n",
    "#最后一层：softmax\n",
    "w_fc2=tf.Variable(tf.truncated_normal(shape=(1024,10),stddev=0.1))\n",
    "b_fc2=tf.Variable(tf.constant([0.1],shape=(1,10)))\n",
    "y=tf.nn.softmax(tf.matmul(h_fc1_drop,w_fc2)+b_fc2)"
   ]
  },
  {
   "cell_type": "code",
   "execution_count": 5,
   "metadata": {
    "collapsed": true
   },
   "outputs": [],
   "source": [
    "# 定义cross_entropy\n",
    "cross_entropy=tf.reduce_mean(-tf.reduce_sum(y_*tf.log(y),reduction_indices=[1]))\n",
    "train_step=tf.train.GradientDescentOptimizer(learning_rate=0.001).minimize(cross_entropy)"
   ]
  },
  {
   "cell_type": "code",
   "execution_count": 6,
   "metadata": {},
   "outputs": [
    {
     "name": "stdout",
     "output_type": "stream",
     "text": [
      "8.06211\n",
      "0.636463\n",
      "0.262271\n",
      "0.446968\n",
      "0.278826\n"
     ]
    }
   ],
   "source": [
    "sess.run(tf.global_variables_initializer())\n",
    "STEPS=5000\n",
    "for i in range(STEPS):\n",
    "    batch_xs,batch_ys=mnist.train.next_batch(100)\n",
    "    batch_ys1=np.zeros((batch_ys.shape[0],10))#数据格式恶心了\n",
    "    for index,value in enumerate(batch_ys):\n",
    "        batch_ys1[index,value]=1\n",
    "    sess.run(train_step,feed_dict={x:batch_xs,y_:batch_ys1,keep_prob:0.75232})#keep_prob\n",
    "    if i%1000==0:\n",
    "        print(sess.run(cross_entropy,feed_dict={x:batch_xs,y_:batch_ys1,keep_prob:0.75232}))\n",
    "    "
   ]
  },
  {
   "cell_type": "code",
   "execution_count": 7,
   "metadata": {},
   "outputs": [
    {
     "name": "stdout",
     "output_type": "stream",
     "text": [
      "test\n",
      " [[ 966    0    2    0    0    0    8    1    3    0]\n",
      " [   0 1122    3    2    0    0    4    0    4    0]\n",
      " [   8    2  962    6   10    2    7   13   21    1]\n",
      " [   1    1   12  964    0    8    1    7    8    8]\n",
      " [   0    1    1    0  946    0   13    1    5   15]\n",
      " [   7    1    2    7    0  858    7    2    4    4]\n",
      " [  10    3    2    0    7   14  921    0    1    0]\n",
      " [   1    8   24    4    1    1    0  966    2   21]\n",
      " [   5    2    6    9    5    4    4    9  915   15]\n",
      " [  10    4    2   14   13    3    1   12    9  941]]\n"
     ]
    }
   ],
   "source": [
    "y_test_predict=sess.run(y,feed_dict={x:mnist.test.images,keep_prob:1})\n",
    "import sklearn.metrics as metrics\n",
    "print('test\\n',metrics.confusion_matrix(mnist.test.labels,y_test_predict.argmax(axis=1)))"
   ]
  }
 ],
 "metadata": {
  "kernelspec": {
   "display_name": "Python 3",
   "language": "python",
   "name": "python3"
  },
  "language_info": {
   "codemirror_mode": {
    "name": "ipython",
    "version": 3
   },
   "file_extension": ".py",
   "mimetype": "text/x-python",
   "name": "python",
   "nbconvert_exporter": "python",
   "pygments_lexer": "ipython3",
   "version": "3.6.2"
  }
 },
 "nbformat": 4,
 "nbformat_minor": 2
}
